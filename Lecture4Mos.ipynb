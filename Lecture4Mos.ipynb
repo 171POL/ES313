{
 "cells": [
  {
   "cell_type": "markdown",
   "metadata": {},
   "source": [
    "# Files"
   ]
  },
  {
   "cell_type": "code",
   "execution_count": null,
   "metadata": {},
   "outputs": [],
   "source": []
  },
  {
   "cell_type": "markdown",
   "metadata": {},
   "source": [
    "## Persistence"
   ]
  },
  {
   "cell_type": "code",
   "execution_count": null,
   "metadata": {},
   "outputs": [],
   "source": []
  },
  {
   "cell_type": "markdown",
   "metadata": {},
   "source": [
    "## Reading and Writing"
   ]
  },
  {
   "cell_type": "code",
   "execution_count": 1,
   "metadata": {},
   "outputs": [
    {
     "data": {
      "text/plain": [
       "IOStream(<file output.txt>)"
      ]
     },
     "execution_count": 1,
     "metadata": {},
     "output_type": "execute_result"
    }
   ],
   "source": [
    "fout = open(\"output.txt\", \"w\") # w : créer ou surcréer, a : add lines, r : read"
   ]
  },
  {
   "cell_type": "code",
   "execution_count": 3,
   "metadata": {},
   "outputs": [
    {
     "data": {
      "text/plain": [
       "22"
      ]
     },
     "execution_count": 3,
     "metadata": {},
     "output_type": "execute_result"
    }
   ],
   "source": [
    "write(fout, \"171 is the best prom !\") # Output is 22 : 22 char written"
   ]
  },
  {
   "cell_type": "code",
   "execution_count": 4,
   "metadata": {},
   "outputs": [],
   "source": [
    "close(fout) # The lines are written on the file only if it is closed (or if we have more than a buffer (env. 255 char))"
   ]
  },
  {
   "cell_type": "code",
   "execution_count": 8,
   "metadata": {},
   "outputs": [],
   "source": [
    "println(fout, \"150 is the best prom!\")"
   ]
  },
  {
   "cell_type": "code",
   "execution_count": 9,
   "metadata": {},
   "outputs": [],
   "source": [
    "close(fout)"
   ]
  },
  {
   "cell_type": "code",
   "execution_count": null,
   "metadata": {},
   "outputs": [],
   "source": []
  },
  {
   "cell_type": "markdown",
   "metadata": {},
   "source": [
    "## Formatting"
   ]
  },
  {
   "cell_type": "code",
   "execution_count": null,
   "metadata": {},
   "outputs": [],
   "source": []
  },
  {
   "cell_type": "markdown",
   "metadata": {},
   "source": [
    "## Filenames and Paths"
   ]
  },
  {
   "cell_type": "code",
   "execution_count": 11,
   "metadata": {},
   "outputs": [
    {
     "data": {
      "text/plain": [
       "\"/home/jupyter/Work/Lectures\""
      ]
     },
     "execution_count": 11,
     "metadata": {},
     "output_type": "execute_result"
    }
   ],
   "source": [
    "cd = pwd() # Present writing directory"
   ]
  },
  {
   "cell_type": "code",
   "execution_count": 13,
   "metadata": {},
   "outputs": [
    {
     "data": {
      "text/plain": [
       "true"
      ]
     },
     "execution_count": 13,
     "metadata": {},
     "output_type": "execute_result"
    }
   ],
   "source": [
    "ispath(\"/home\") # Absolute path"
   ]
  },
  {
   "cell_type": "code",
   "execution_count": 14,
   "metadata": {},
   "outputs": [
    {
     "data": {
      "text/plain": [
       "false"
      ]
     },
     "execution_count": 14,
     "metadata": {},
     "output_type": "execute_result"
    }
   ],
   "source": [
    "ispath(\"/user\")"
   ]
  },
  {
   "cell_type": "code",
   "execution_count": 15,
   "metadata": {},
   "outputs": [
    {
     "data": {
      "text/plain": [
       "true"
      ]
     },
     "execution_count": 15,
     "metadata": {},
     "output_type": "execute_result"
    }
   ],
   "source": [
    "ispath(cd*\"/\"*\"Lecture4Mos.ipynb\") # Relative path"
   ]
  },
  {
   "cell_type": "code",
   "execution_count": 16,
   "metadata": {},
   "outputs": [
    {
     "data": {
      "text/plain": [
       "true"
      ]
     },
     "execution_count": 16,
     "metadata": {},
     "output_type": "execute_result"
    }
   ],
   "source": [
    "isfile(cd*\"/\"*\"Lecture4Mos.ipynb\")"
   ]
  },
  {
   "cell_type": "code",
   "execution_count": 17,
   "metadata": {},
   "outputs": [
    {
     "data": {
      "text/plain": [
       "false"
      ]
     },
     "execution_count": 17,
     "metadata": {},
     "output_type": "execute_result"
    }
   ],
   "source": [
    "isdir(cd*\"/\"*\"Lecture4Mos.ipynb\")"
   ]
  },
  {
   "cell_type": "code",
   "execution_count": 19,
   "metadata": {},
   "outputs": [
    {
     "data": {
      "text/plain": [
       "7-element Array{String,1}:\n",
       " \".git\"              \n",
       " \".gitignore\"        \n",
       " \".ipynb_checkpoints\"\n",
       " \"Exercises\"         \n",
       " \"LICENSE\"           \n",
       " \"Lectures\"          \n",
       " \"README.md\"         "
      ]
     },
     "execution_count": 19,
     "metadata": {},
     "output_type": "execute_result"
    }
   ],
   "source": [
    "readdir(\"/home/jupyter/ES313.jl/\")"
   ]
  },
  {
   "cell_type": "code",
   "execution_count": 21,
   "metadata": {},
   "outputs": [
    {
     "data": {
      "text/plain": [
       "walk (generic function with 1 method)"
      ]
     },
     "execution_count": 21,
     "metadata": {},
     "output_type": "execute_result"
    }
   ],
   "source": [
    "function walk(path)\n",
    "    if isfile(path)\n",
    "        println(path)\n",
    "        return\n",
    "    end\n",
    "    for name in readdir(path)\n",
    "        walk(path*\"/\"*name)\n",
    "    end\n",
    "end"
   ]
  },
  {
   "cell_type": "code",
   "execution_count": 22,
   "metadata": {},
   "outputs": [
    {
     "name": "stdout",
     "output_type": "stream",
     "text": [
      "/home/jupyter/ES313.jl//.git/COMMIT_EDITMSG\n",
      "/home/jupyter/ES313.jl//.git/FETCH_HEAD\n",
      "/home/jupyter/ES313.jl//.git/HEAD\n",
      "/home/jupyter/ES313.jl//.git/ORIG_HEAD\n",
      "/home/jupyter/ES313.jl//.git/config\n",
      "/home/jupyter/ES313.jl//.git/description\n",
      "/home/jupyter/ES313.jl//.git/hooks/applypatch-msg.sample\n",
      "/home/jupyter/ES313.jl//.git/hooks/commit-msg.sample\n",
      "/home/jupyter/ES313.jl//.git/hooks/fsmonitor-watchman.sample\n",
      "/home/jupyter/ES313.jl//.git/hooks/post-update.sample\n",
      "/home/jupyter/ES313.jl//.git/hooks/pre-applypatch.sample\n",
      "/home/jupyter/ES313.jl//.git/hooks/pre-commit.sample\n",
      "/home/jupyter/ES313.jl//.git/hooks/pre-push.sample\n",
      "/home/jupyter/ES313.jl//.git/hooks/pre-rebase.sample\n",
      "/home/jupyter/ES313.jl//.git/hooks/pre-receive.sample\n",
      "/home/jupyter/ES313.jl//.git/hooks/prepare-commit-msg.sample\n",
      "/home/jupyter/ES313.jl//.git/hooks/update.sample\n",
      "/home/jupyter/ES313.jl//.git/index\n",
      "/home/jupyter/ES313.jl//.git/info/exclude\n",
      "/home/jupyter/ES313.jl//.git/logs/HEAD\n",
      "/home/jupyter/ES313.jl//.git/logs/refs/heads/master\n",
      "/home/jupyter/ES313.jl//.git/logs/refs/remotes/origin/HEAD\n",
      "/home/jupyter/ES313.jl//.git/logs/refs/remotes/origin/master\n",
      "/home/jupyter/ES313.jl//.git/objects/03/471e5b5ffeccb050157dd339dfa23fb4644a56\n",
      "/home/jupyter/ES313.jl//.git/objects/04/370bbdd935f01b070c4b907314eb24af1fbd5f\n",
      "/home/jupyter/ES313.jl//.git/objects/04/3c9d5bb0e8edf45cbafb1a73efa622d08091f7\n",
      "/home/jupyter/ES313.jl//.git/objects/08/54e12d4581f484dc2f39432dd0c96a486ae2b9\n",
      "/home/jupyter/ES313.jl//.git/objects/0a/1e2c287bc38524f1f101208c1978eca4524676\n",
      "/home/jupyter/ES313.jl//.git/objects/0b/9c145e0754345f17ff87b6124c79a2bbee76e1\n",
      "/home/jupyter/ES313.jl//.git/objects/0b/b15acbc4218328f8ad4310f0f847a4c16b43e0\n",
      "/home/jupyter/ES313.jl//.git/objects/10/4ebf3c54e1c3bc43921f16d3dd7315df7be65a\n",
      "/home/jupyter/ES313.jl//.git/objects/12/290dd54bd68a9e51992a4c5adc3e7eef06251a\n",
      "/home/jupyter/ES313.jl//.git/objects/13/a05d2c938a2413b60ec8521fa95b20fc965e72\n",
      "/home/jupyter/ES313.jl//.git/objects/16/9169f4d153abd7cfd48ed828c9bad656b80300\n",
      "/home/jupyter/ES313.jl//.git/objects/17/e460c2b9aeab95cc50b1a5e75fa880d95ef973\n",
      "/home/jupyter/ES313.jl//.git/objects/1e/f62847cc8ee0862d1a7de6783435cdf772a9f1\n",
      "/home/jupyter/ES313.jl//.git/objects/20/3e27cd4d136b69cbb4459f0f5e64fce45b4afc\n",
      "/home/jupyter/ES313.jl//.git/objects/20/ec58c164868ecc0fba167e2d8f4858f63c6437\n",
      "/home/jupyter/ES313.jl//.git/objects/2b/5e443f50627a47ba46720953eeca8fc25cc3a9\n",
      "/home/jupyter/ES313.jl//.git/objects/2c/3ba116fa250b276b628de2e8335f6f34349422\n",
      "/home/jupyter/ES313.jl//.git/objects/2f/d64429bf421126b7000c94ce0f6fd186fbd01f\n",
      "/home/jupyter/ES313.jl//.git/objects/39/49af4517148a82f45812641f6320e7b770d9d1\n",
      "/home/jupyter/ES313.jl//.git/objects/3b/e117b55bf1d6b45fcf925fb28a1e47866be5e0\n",
      "/home/jupyter/ES313.jl//.git/objects/3c/8ddda495c4366c4a5f747797dfcaf27cda046f\n",
      "/home/jupyter/ES313.jl//.git/objects/3d/008aebde5275521d8422878e3e9f70c9c6f86c\n",
      "/home/jupyter/ES313.jl//.git/objects/43/45f1a47daf2b5d40b66d8dd60328a4ae44223d\n",
      "/home/jupyter/ES313.jl//.git/objects/43/74b45ec65cc737ee19d85c34e274853dd86bdf\n",
      "/home/jupyter/ES313.jl//.git/objects/43/81b67b3abc6c5d2e6e883c47d551e4db014951\n",
      "/home/jupyter/ES313.jl//.git/objects/45/1a0cfc062e1b2be55727e9557ff009aa92dac5\n",
      "/home/jupyter/ES313.jl//.git/objects/48/a9de9106c5514ad18a75cad17297748ffb4a5d\n",
      "/home/jupyter/ES313.jl//.git/objects/48/b4c6ca4bd40d20969cc83ad8666ecb603421dc\n",
      "/home/jupyter/ES313.jl//.git/objects/4d/e38ae89a3cfa540a1c3d7da57d2f7dc2e12f80\n",
      "/home/jupyter/ES313.jl//.git/objects/4e/205793a21333342eeaa8d9033c9f80a43285f5\n",
      "/home/jupyter/ES313.jl//.git/objects/4f/6003ac0cd2ce01b20ecce847061e1d750dd57b\n",
      "/home/jupyter/ES313.jl//.git/objects/4f/a02ed88108ec734cd8d0d0a8b198c7aa643d7a\n",
      "/home/jupyter/ES313.jl//.git/objects/52/aea988f1840c54c7efde117c2ee85dd4ceaba9\n",
      "/home/jupyter/ES313.jl//.git/objects/54/70324c5fd441cedf9cf3b0204458c97f2650c3\n",
      "/home/jupyter/ES313.jl//.git/objects/59/dc2b450b040720b324b24824254e1f25f55f9e\n",
      "/home/jupyter/ES313.jl//.git/objects/59/e5e88889a6ce28dead4a70a9e59d6c43a1cd8c\n",
      "/home/jupyter/ES313.jl//.git/objects/5a/abc514aee61a028687245305e55d605414a676\n",
      "/home/jupyter/ES313.jl//.git/objects/5b/d129cc9a1ee1b8981fc15a08754aaa0a788793\n",
      "/home/jupyter/ES313.jl//.git/objects/5c/586b7a040602a4fb55757638099b2aa3097e09\n",
      "/home/jupyter/ES313.jl//.git/objects/60/635db66b438dddbacb8c9798130abec3a677e5\n",
      "/home/jupyter/ES313.jl//.git/objects/63/c3af4e8e8fb5c207d39fedfc16e02612d26e1d\n",
      "/home/jupyter/ES313.jl//.git/objects/63/ef91b7a1bbb0e2cc549bd3789236303a64e511\n",
      "/home/jupyter/ES313.jl//.git/objects/64/846b840782493bd268e8f1033274346e31fe85\n",
      "/home/jupyter/ES313.jl//.git/objects/65/af9396029357dd29bf57279f9a5bc3941e59cd\n",
      "/home/jupyter/ES313.jl//.git/objects/68/b7a858802fd7b03dbd758950d705322f2da296\n",
      "/home/jupyter/ES313.jl//.git/objects/6b/5f7cddedba481b22965ae0f6d1d9d9f0567a45\n",
      "/home/jupyter/ES313.jl//.git/objects/6c/dc463528b23fef8106b49f94671c3b0b0b8df9\n",
      "/home/jupyter/ES313.jl//.git/objects/6e/7f68fac4ac8b2087b85310ab6dd9990baf6ef7\n",
      "/home/jupyter/ES313.jl//.git/objects/6e/bef3313094910a1c8cff61cf02143882086d05\n",
      "/home/jupyter/ES313.jl//.git/objects/6f/9f4f9b6fd0ad6a7ae75e913bab7f00e406ea42\n",
      "/home/jupyter/ES313.jl//.git/objects/6f/f410f2990216acd01e5f82ddd1a3b0abfd8293\n",
      "/home/jupyter/ES313.jl//.git/objects/74/b586c44ad88b899dedede303627092a5f01654\n",
      "/home/jupyter/ES313.jl//.git/objects/75/fcf53aeb20564d0909e41482104c0e7ea8c6ae\n",
      "/home/jupyter/ES313.jl//.git/objects/76/3513e910f7036a1a3cdb21dce8e57da2451891\n",
      "/home/jupyter/ES313.jl//.git/objects/76/bccd3d7dbb96209718073993fb73f5302e104e\n",
      "/home/jupyter/ES313.jl//.git/objects/77/598941e6f75d553a749e7e484cef0d5a2c303d\n",
      "/home/jupyter/ES313.jl//.git/objects/7d/89809699151b8b990de24b00f854ab786fb7b2\n",
      "/home/jupyter/ES313.jl//.git/objects/7d/ff26fb3ba63db0ac235e68c12596a3a584f809\n",
      "/home/jupyter/ES313.jl//.git/objects/7f/e57931d4c3f275e59cb7b0ef7e969cccf396a1\n",
      "/home/jupyter/ES313.jl//.git/objects/80/50c05f9ba8a57db6ac87a318ec768636e9392b\n",
      "/home/jupyter/ES313.jl//.git/objects/80/9aedfeed677afe5fde1aa626fe5acbdcf9643e\n",
      "/home/jupyter/ES313.jl//.git/objects/82/2042c60a3013715ffcdaeabd5a0d7445dd38fd\n",
      "/home/jupyter/ES313.jl//.git/objects/84/ffda8c0bbf8ba24e727c58ccdbcbacff65eb3d\n",
      "/home/jupyter/ES313.jl//.git/objects/85/7ee30080c9cb228797917e7234ca5794b5fe6f\n",
      "/home/jupyter/ES313.jl//.git/objects/86/208bf9b939aa69c320dcfeb740ba4a6bfd5dd6\n",
      "/home/jupyter/ES313.jl//.git/objects/86/cf90e55edc8bcb56f0045f4cc42d6255d15fef\n",
      "/home/jupyter/ES313.jl//.git/objects/87/9a791c3d09847bcf60ee11df73f5d822f6fdb8\n",
      "/home/jupyter/ES313.jl//.git/objects/88/67f719ae7800c49bac52a66f2bb5f0ed4fa972\n",
      "/home/jupyter/ES313.jl//.git/objects/8b/a93809c1e8c42484b75645dabc5cea7abd0678\n",
      "/home/jupyter/ES313.jl//.git/objects/8d/41fe3fd383215f4577293b33a1425872a02e85\n",
      "/home/jupyter/ES313.jl//.git/objects/94/3a5caf00ee2a63ba9b3953e09df6ffe8f4691f\n",
      "/home/jupyter/ES313.jl//.git/objects/94/b234a90d9933312c7e6a383e3d1b58e00b3d2e\n",
      "/home/jupyter/ES313.jl//.git/objects/95/2f2c81826156275f9140eda3711aa919af8631\n",
      "/home/jupyter/ES313.jl//.git/objects/9a/6f0bec4862f0cbee7b7d9808929b386c687b0c\n",
      "/home/jupyter/ES313.jl//.git/objects/9b/97e942546456cb739f84338cdd5ee4cc45b6dc\n",
      "/home/jupyter/ES313.jl//.git/objects/9c/19827b23b82b99cb2522e7a86273e0a92b7c17\n",
      "/home/jupyter/ES313.jl//.git/objects/a1/0b5e7bf769bb438774165389cb203a302b4840\n",
      "/home/jupyter/ES313.jl//.git/objects/a1/8db5437d52013825a19a3356b80df298ac0e92\n",
      "/home/jupyter/ES313.jl//.git/objects/a3/2488487bd115b23b6679bb1ed8d4ebecb0395d\n",
      "/home/jupyter/ES313.jl//.git/objects/a3/881280c4d201048a4cba67a2eadb08b70c9ea9\n",
      "/home/jupyter/ES313.jl//.git/objects/a4/4c7396336733e4589d237c76ced5394b493a7c\n",
      "/home/jupyter/ES313.jl//.git/objects/a4/d8839551b1a59162ba528776be5b2ff2d32ece\n",
      "/home/jupyter/ES313.jl//.git/objects/a5/23e29494ecfd196bce235f1eb7097816b2bc5e\n",
      "/home/jupyter/ES313.jl//.git/objects/a6/012263fce2366cb517f8fcafb1a7cc20ddac79\n",
      "/home/jupyter/ES313.jl//.git/objects/aa/52eff88290851a1a8e28211d3fe3c2ce3c2892\n",
      "/home/jupyter/ES313.jl//.git/objects/ae/19f34ca481a45358f542cdc44b9fe18b2a8206\n",
      "/home/jupyter/ES313.jl//.git/objects/ae/2707069906f169526941e0fed41011d05eeeb3\n",
      "/home/jupyter/ES313.jl//.git/objects/b2/d73afb2a7a8e52260637ce48f90b7056b67146\n",
      "/home/jupyter/ES313.jl//.git/objects/b3/bc1a90881a13d5602abd9d6d693e429f6239e9\n",
      "/home/jupyter/ES313.jl//.git/objects/b7/5b7875e1c48d56e5d755b8e064a821a0e7c594\n",
      "/home/jupyter/ES313.jl//.git/objects/ba/1ca91e64dddbf869e9f02fe4fc42396f6f7d68\n",
      "/home/jupyter/ES313.jl//.git/objects/bb/e92b08767245b9bcaa0acc9bf45bd89c460f94\n",
      "/home/jupyter/ES313.jl//.git/objects/bf/7b211ff7bd91ed82304f80238b36599b85a3fb\n",
      "/home/jupyter/ES313.jl//.git/objects/bf/e50a49483f05441581258b638cc13869d76d70\n",
      "/home/jupyter/ES313.jl//.git/objects/c0/f3d1cdd782b266665808339a568d51c428642b\n",
      "/home/jupyter/ES313.jl//.git/objects/c2/b2d4f59add9d304d4be10cf0b893da5bdcf965\n",
      "/home/jupyter/ES313.jl//.git/objects/c3/74f8aea57b92d23c516757fc87b6bb700103aa\n",
      "/home/jupyter/ES313.jl//.git/objects/c4/b3fd4270de56e14d9581b486cdbdca3c62bba6\n",
      "/home/jupyter/ES313.jl//.git/objects/c8/7efb2f2e838d70006680bc1dda7ebdc6bae91f\n",
      "/home/jupyter/ES313.jl//.git/objects/cb/75f2eaf3a24b1a6cf1a143945c459dec8c3252\n",
      "/home/jupyter/ES313.jl//.git/objects/cd/6148157c3b23547219c21e7c9660e7524cbe0d\n",
      "/home/jupyter/ES313.jl//.git/objects/cf/b8c5c8743b72496f5a7d9c85e51259ac0fd199\n",
      "/home/jupyter/ES313.jl//.git/objects/cf/cd0f1381ed425693e82aec2d44a30e94ef60ed\n",
      "/home/jupyter/ES313.jl//.git/objects/d1/1ecf5981927e7df36eaf4047db293e8399e28e\n",
      "/home/jupyter/ES313.jl//.git/objects/d2/02253283959b852d99ae23e9c0c2bc3b3a5a65\n",
      "/home/jupyter/ES313.jl//.git/objects/d6/94a55b7d27316787ce05c63382ca888de0b710\n",
      "/home/jupyter/ES313.jl//.git/objects/da/5ef3c413b24503a7109d7a97d6a0ff2e18fae5\n",
      "/home/jupyter/ES313.jl//.git/objects/db/c0210343686f83fabe1249694230e8b1931b6e\n",
      "/home/jupyter/ES313.jl//.git/objects/dd/7846f90709ddf9722451d24e844285d34e8a36\n",
      "/home/jupyter/ES313.jl//.git/objects/dd/e3a0e1d9b8c2910fcad3afe0158b57384be52d\n",
      "/home/jupyter/ES313.jl//.git/objects/e9/411b900860eee76283adf0ca0be8908ddcf2e7\n",
      "/home/jupyter/ES313.jl//.git/objects/e9/5350577a205313f85a5502464d85acacd96883\n",
      "/home/jupyter/ES313.jl//.git/objects/f0/067992a7ca58107dc433eefa505216f8fb18f8\n",
      "/home/jupyter/ES313.jl//.git/objects/f0/9c4e1a860d8830d8a3490cd70811d6de638198\n",
      "/home/jupyter/ES313.jl//.git/objects/f7/44009b0799d8bfdc1bbd326f8d4d438825066b\n",
      "/home/jupyter/ES313.jl//.git/objects/f7/8410a338b7d693b6db40d5454dcf6a385abb9b\n",
      "/home/jupyter/ES313.jl//.git/objects/fa/f9b76cf92366b39656e4ff23638f5ae1f078dc\n",
      "/home/jupyter/ES313.jl//.git/objects/fb/4c20b5e26dbfb9dbc0f5e983fd90df3f8ef073\n",
      "/home/jupyter/ES313.jl//.git/objects/fc/81f8881c955e1f5ec9239b5f9a854f21a5d6a2\n",
      "/home/jupyter/ES313.jl//.git/objects/fe/930029ca6833b8e0e2d57d1c84ded642abd7fc\n",
      "/home/jupyter/ES313.jl//.git/packed-refs\n",
      "/home/jupyter/ES313.jl//.git/refs/heads/master\n",
      "/home/jupyter/ES313.jl//.git/refs/remotes/origin/HEAD\n",
      "/home/jupyter/ES313.jl//.git/refs/remotes/origin/master\n",
      "/home/jupyter/ES313.jl//.gitignore\n",
      "/home/jupyter/ES313.jl//.ipynb_checkpoints/LICENSE-checkpoint\n",
      "/home/jupyter/ES313.jl//Exercises/.ipynb_checkpoints/ES313 - PS1-checkpoint.ipynb\n",
      "/home/jupyter/ES313.jl//Exercises/.ipynb_checkpoints/words-checkpoint.txt\n",
      "/home/jupyter/ES313.jl//Exercises/.~words.txt\n",
      "/home/jupyter/ES313.jl//Exercises/3mousquetaires.txt\n",
      "/home/jupyter/ES313.jl//Exercises/Dracula.txt\n",
      "/home/jupyter/ES313.jl//Exercises/ES313 - PS1.ipynb\n",
      "/home/jupyter/ES313.jl//Exercises/ES313 - PS2.ipynb\n",
      "/home/jupyter/ES313.jl//Exercises/ES313 - PS3.ipynb\n",
      "/home/jupyter/ES313.jl//Exercises/ES313 - PS4.ipynb\n",
      "/home/jupyter/ES313.jl//Exercises/ES313 - PS5.ipynb\n",
      "/home/jupyter/ES313.jl//Exercises/deoogst.txt\n",
      "/home/jupyter/ES313.jl//Exercises/speeches.txt\n",
      "/home/jupyter/ES313.jl//Exercises/words.txt\n",
      "/home/jupyter/ES313.jl//LICENSE\n",
      "/home/jupyter/ES313.jl//Lectures/.ipynb_checkpoints/Lecture 1-checkpoint.ipynb\n",
      "/home/jupyter/ES313.jl//Lectures/.ipynb_checkpoints/Lecture 2-checkpoint.ipynb\n",
      "/home/jupyter/ES313.jl//Lectures/.ipynb_checkpoints/Lecture 3-checkpoint.ipynb\n",
      "/home/jupyter/ES313.jl//Lectures/.ipynb_checkpoints/Lecture 4-checkpoint.ipynb\n",
      "/home/jupyter/ES313.jl//Lectures/Introduction.ipynb\n",
      "/home/jupyter/ES313.jl//Lectures/Lecture 1.ipynb\n",
      "/home/jupyter/ES313.jl//Lectures/Lecture 2.ipynb\n",
      "/home/jupyter/ES313.jl//Lectures/Lecture 3.ipynb\n",
      "/home/jupyter/ES313.jl//Lectures/Lecture 4.ipynb\n",
      "/home/jupyter/ES313.jl//README.md\n"
     ]
    }
   ],
   "source": [
    "walk(\"/home/jupyter/ES313.jl/\")"
   ]
  },
  {
   "cell_type": "code",
   "execution_count": null,
   "metadata": {},
   "outputs": [],
   "source": []
  },
  {
   "cell_type": "markdown",
   "metadata": {},
   "source": [
    "## Catching Exceptions"
   ]
  },
  {
   "cell_type": "code",
   "execution_count": 23,
   "metadata": {},
   "outputs": [
    {
     "data": {
      "text/plain": [
       "example (generic function with 1 method)"
      ]
     },
     "execution_count": 23,
     "metadata": {},
     "output_type": "execute_result"
    }
   ],
   "source": [
    "function example()\n",
    "    error(\"Stop\")\n",
    "end"
   ]
  },
  {
   "cell_type": "code",
   "execution_count": 24,
   "metadata": {},
   "outputs": [
    {
     "ename": "ErrorException",
     "evalue": "Stop",
     "output_type": "error",
     "traceback": [
      "Stop",
      "",
      "Stacktrace:",
      " [1] error(::String) at ./error.jl:33",
      " [2] example() at ./In[23]:2",
      " [3] top-level scope at In[24]:1"
     ]
    }
   ],
   "source": [
    "example()"
   ]
  },
  {
   "cell_type": "code",
   "execution_count": 25,
   "metadata": {},
   "outputs": [
    {
     "name": "stdout",
     "output_type": "stream",
     "text": [
      "Error has occured\n",
      "ErrorException(\"Stop\")\n"
     ]
    }
   ],
   "source": [
    "try\n",
    "    example()\n",
    "catch ex\n",
    "    println(\"Error has occured\")\n",
    "    println(ex)\n",
    "end"
   ]
  },
  {
   "cell_type": "code",
   "execution_count": 26,
   "metadata": {},
   "outputs": [
    {
     "name": "stdout",
     "output_type": "stream",
     "text": [
      "171 is the best prom !171 is the best prom !\n"
     ]
    }
   ],
   "source": [
    "fin = open(\"output.txt\", \"r\")\n",
    "try\n",
    "    for line in readlines(fin)\n",
    "        println(line)\n",
    "    end\n",
    "catch ex\n",
    "    println(\"Error has occured\")\n",
    "finally\n",
    "    close(fin)\n",
    "end"
   ]
  },
  {
   "cell_type": "code",
   "execution_count": null,
   "metadata": {},
   "outputs": [],
   "source": []
  },
  {
   "cell_type": "markdown",
   "metadata": {},
   "source": [
    "## Command Objects"
   ]
  },
  {
   "cell_type": "code",
   "execution_count": 27,
   "metadata": {},
   "outputs": [
    {
     "name": "stdout",
     "output_type": "stream",
     "text": [
      "Lecture1Mos.ipynb\n",
      "Lecture2Mos.ipynb\n",
      "Lecture3Mos.ipynb\n",
      "Lecture4Mos.ipynb\n",
      "output.txt\n"
     ]
    },
    {
     "data": {
      "text/plain": [
       "Process(`\u001b[4mls\u001b[24m`, ProcessExited(0))"
      ]
     },
     "execution_count": 27,
     "metadata": {},
     "output_type": "execute_result"
    }
   ],
   "source": [
    "run(`ls`)"
   ]
  },
  {
   "cell_type": "code",
   "execution_count": 28,
   "metadata": {},
   "outputs": [
    {
     "data": {
      "text/plain": [
       "\"Lecture1Mos.ipynb\\nLecture2Mos.ipynb\\nLecture3Mos.ipynb\\nLecture4Mos.ipynb\\noutput.txt\\n\""
      ]
     },
     "execution_count": 28,
     "metadata": {},
     "output_type": "execute_result"
    }
   ],
   "source": [
    "output = read(`ls`, String)"
   ]
  },
  {
   "cell_type": "code",
   "execution_count": 29,
   "metadata": {},
   "outputs": [
    {
     "name": "stdout",
     "output_type": "stream",
     "text": [
      "Lecture1Mos.ipynb\n",
      "Lecture2Mos.ipynb\n",
      "Lecture3Mos.ipynb\n",
      "Lecture4Mos.ipynb\n",
      "output.txt\n",
      "\n"
     ]
    }
   ],
   "source": [
    "println(output)"
   ]
  },
  {
   "cell_type": "markdown",
   "metadata": {},
   "source": [
    "Créer un fichier sous Linux (Terminal) : touch example.txt"
   ]
  },
  {
   "cell_type": "markdown",
   "metadata": {},
   "source": [
    "md5sum pour checksum"
   ]
  },
  {
   "cell_type": "code",
   "execution_count": null,
   "metadata": {},
   "outputs": [],
   "source": []
  },
  {
   "cell_type": "markdown",
   "metadata": {},
   "source": [
    "## Modules"
   ]
  },
  {
   "cell_type": "markdown",
   "metadata": {},
   "source": [
    "A Module is a mean to separate the public and hidden things (functions for example)."
   ]
  },
  {
   "cell_type": "code",
   "execution_count": 42,
   "metadata": {},
   "outputs": [
    {
     "name": "stderr",
     "output_type": "stream",
     "text": [
      "WARNING: replacing module MyModule.\n"
     ]
    },
    {
     "data": {
      "text/plain": [
       "Main.MyModule"
      ]
     },
     "execution_count": 42,
     "metadata": {},
     "output_type": "execute_result"
    }
   ],
   "source": [
    "module MyModule\n",
    "    export mytest # Sinon la fonction n'est pas accessible !\n",
    "\n",
    "    function mytest()\n",
    "        println(\"171 rules!\")\n",
    "    end\n",
    "\n",
    "    function hiddenfunc()\n",
    "        println(\"171 + 2 are slow\")\n",
    "    end\n",
    "end"
   ]
  },
  {
   "cell_type": "code",
   "execution_count": 40,
   "metadata": {},
   "outputs": [],
   "source": [
    "using Main.MyModule"
   ]
  },
  {
   "cell_type": "code",
   "execution_count": 41,
   "metadata": {},
   "outputs": [
    {
     "name": "stdout",
     "output_type": "stream",
     "text": [
      "171 rules!\n"
     ]
    }
   ],
   "source": [
    "mytest()"
   ]
  },
  {
   "cell_type": "code",
   "execution_count": 45,
   "metadata": {},
   "outputs": [
    {
     "name": "stdout",
     "output_type": "stream",
     "text": [
      "171 + 2 are slow\n"
     ]
    }
   ],
   "source": [
    "Main.MyModule.hiddenfunc() # On peut forcer en utilisant la syntaxe complète"
   ]
  },
  {
   "cell_type": "code",
   "execution_count": null,
   "metadata": {},
   "outputs": [],
   "source": []
  },
  {
   "cell_type": "markdown",
   "metadata": {},
   "source": [
    "# Structs and Objects"
   ]
  },
  {
   "cell_type": "code",
   "execution_count": null,
   "metadata": {},
   "outputs": [],
   "source": []
  },
  {
   "cell_type": "markdown",
   "metadata": {},
   "source": [
    "## Composite Types"
   ]
  },
  {
   "cell_type": "code",
   "execution_count": 46,
   "metadata": {},
   "outputs": [],
   "source": [
    "struct Point\n",
    "    x\n",
    "    y\n",
    "end"
   ]
  },
  {
   "cell_type": "code",
   "execution_count": 47,
   "metadata": {},
   "outputs": [
    {
     "data": {
      "text/plain": [
       "Point(1.0, 2.0)"
      ]
     },
     "execution_count": 47,
     "metadata": {},
     "output_type": "execute_result"
    }
   ],
   "source": [
    "p = Point(1.0,2.0)"
   ]
  },
  {
   "cell_type": "code",
   "execution_count": 48,
   "metadata": {},
   "outputs": [
    {
     "data": {
      "text/plain": [
       "Point"
      ]
     },
     "execution_count": 48,
     "metadata": {},
     "output_type": "execute_result"
    }
   ],
   "source": [
    "typeof(p)"
   ]
  },
  {
   "cell_type": "code",
   "execution_count": 50,
   "metadata": {},
   "outputs": [
    {
     "data": {
      "text/plain": [
       "1.0"
      ]
     },
     "execution_count": 50,
     "metadata": {},
     "output_type": "execute_result"
    }
   ],
   "source": [
    "p.x"
   ]
  },
  {
   "cell_type": "code",
   "execution_count": 51,
   "metadata": {},
   "outputs": [
    {
     "data": {
      "text/plain": [
       "2.0"
      ]
     },
     "execution_count": 51,
     "metadata": {},
     "output_type": "execute_result"
    }
   ],
   "source": [
    "p.y"
   ]
  },
  {
   "cell_type": "code",
   "execution_count": null,
   "metadata": {},
   "outputs": [],
   "source": []
  },
  {
   "cell_type": "markdown",
   "metadata": {},
   "source": [
    "## Structs are Immutable"
   ]
  },
  {
   "cell_type": "markdown",
   "metadata": {},
   "source": [
    "p pointe en fait vers une boite \"Point\", dans laquelle se trouve x qui pointe vers 1.0 et y vers 2.0"
   ]
  },
  {
   "cell_type": "code",
   "execution_count": 52,
   "metadata": {},
   "outputs": [
    {
     "ename": "ErrorException",
     "evalue": "type Point is immutable",
     "output_type": "error",
     "traceback": [
      "type Point is immutable",
      "",
      "Stacktrace:",
      " [1] setproperty!(::Point, ::Symbol, ::Float64) at ./sysimg.jl:19",
      " [2] top-level scope at In[52]:2"
     ]
    }
   ],
   "source": [
    "# Mais cette struct est IMMUTABLE ! \n",
    "p.x = 2.0"
   ]
  },
  {
   "cell_type": "code",
   "execution_count": 53,
   "metadata": {},
   "outputs": [],
   "source": [
    "struct MyArray\n",
    "    array\n",
    "end"
   ]
  },
  {
   "cell_type": "code",
   "execution_count": 54,
   "metadata": {},
   "outputs": [
    {
     "data": {
      "text/plain": [
       "MyArray([1, 7, 1])"
      ]
     },
     "execution_count": 54,
     "metadata": {},
     "output_type": "execute_result"
    }
   ],
   "source": [
    "arr = MyArray([1, 7, 1])"
   ]
  },
  {
   "cell_type": "code",
   "execution_count": 55,
   "metadata": {},
   "outputs": [
    {
     "ename": "ErrorException",
     "evalue": "type MyArray is immutable",
     "output_type": "error",
     "traceback": [
      "type MyArray is immutable",
      "",
      "Stacktrace:",
      " [1] setproperty!(::MyArray, ::Symbol, ::Array{Int64,1}) at ./sysimg.jl:19",
      " [2] top-level scope at In[55]:1"
     ]
    }
   ],
   "source": [
    "arr.array = [1, 5, 0]"
   ]
  },
  {
   "cell_type": "code",
   "execution_count": 57,
   "metadata": {},
   "outputs": [
    {
     "data": {
      "text/plain": [
       "6"
      ]
     },
     "execution_count": 57,
     "metadata": {},
     "output_type": "execute_result"
    }
   ],
   "source": [
    "# CECI EST IMPOSSIBLE, MAIS on peut changer un élément ! : \n",
    "arr.array[2] = 6"
   ]
  },
  {
   "cell_type": "code",
   "execution_count": 58,
   "metadata": {},
   "outputs": [
    {
     "data": {
      "text/plain": [
       "MyArray([1, 6, 1])"
      ]
     },
     "execution_count": 58,
     "metadata": {},
     "output_type": "execute_result"
    }
   ],
   "source": [
    "arr"
   ]
  },
  {
   "cell_type": "markdown",
   "metadata": {},
   "source": [
    "Pourquoi est-ce possible ? Car le arr pointe vers une boite \"MyArray\", contenant un élément \"array\" qui LUI pointe vers un array qui est mutable !"
   ]
  },
  {
   "cell_type": "markdown",
   "metadata": {},
   "source": [
    "Mais on peut aussi créer des structures modifiables :"
   ]
  },
  {
   "cell_type": "markdown",
   "metadata": {},
   "source": [
    "## Mutable Structs"
   ]
  },
  {
   "cell_type": "code",
   "execution_count": 60,
   "metadata": {},
   "outputs": [],
   "source": [
    "mutable struct MPoint\n",
    "    x\n",
    "    y\n",
    "end"
   ]
  },
  {
   "cell_type": "code",
   "execution_count": 61,
   "metadata": {},
   "outputs": [
    {
     "data": {
      "text/plain": [
       "MPoint(-1, 1)"
      ]
     },
     "execution_count": 61,
     "metadata": {},
     "output_type": "execute_result"
    }
   ],
   "source": [
    "p = MPoint(-1,1)"
   ]
  },
  {
   "cell_type": "code",
   "execution_count": 62,
   "metadata": {},
   "outputs": [
    {
     "data": {
      "text/plain": [
       "1"
      ]
     },
     "execution_count": 62,
     "metadata": {},
     "output_type": "execute_result"
    }
   ],
   "source": [
    "p.x = 1"
   ]
  },
  {
   "cell_type": "code",
   "execution_count": 63,
   "metadata": {},
   "outputs": [
    {
     "data": {
      "text/plain": [
       "MPoint(1, 1)"
      ]
     },
     "execution_count": 63,
     "metadata": {},
     "output_type": "execute_result"
    }
   ],
   "source": [
    "p"
   ]
  },
  {
   "cell_type": "markdown",
   "metadata": {},
   "source": [
    "## Rectangles"
   ]
  },
  {
   "cell_type": "code",
   "execution_count": 64,
   "metadata": {},
   "outputs": [],
   "source": [
    "struct Rectangle\n",
    "    corner\n",
    "    width\n",
    "    height\n",
    "end"
   ]
  },
  {
   "cell_type": "code",
   "execution_count": 66,
   "metadata": {},
   "outputs": [
    {
     "data": {
      "text/plain": [
       "Rectangle(MPoint(1.0, 2.0), 4.0, 2.0)"
      ]
     },
     "execution_count": 66,
     "metadata": {},
     "output_type": "execute_result"
    }
   ],
   "source": [
    "box = Rectangle(MPoint(1.0, 2.0), 4.0, 2.0)"
   ]
  },
  {
   "cell_type": "code",
   "execution_count": 67,
   "metadata": {},
   "outputs": [
    {
     "data": {
      "text/plain": [
       "MPoint(1.0, 2.0)"
      ]
     },
     "execution_count": 67,
     "metadata": {},
     "output_type": "execute_result"
    }
   ],
   "source": [
    "point = box.corner"
   ]
  },
  {
   "cell_type": "code",
   "execution_count": 68,
   "metadata": {},
   "outputs": [
    {
     "data": {
      "text/plain": [
       "-1"
      ]
     },
     "execution_count": 68,
     "metadata": {},
     "output_type": "execute_result"
    }
   ],
   "source": [
    "point.x = -1"
   ]
  },
  {
   "cell_type": "markdown",
   "metadata": {},
   "source": [
    "SI ON MODIFIE \"point\", on modifie également box.corner ! Car l'alias pointe dans la meme boite, donc en changeant la boite ..."
   ]
  },
  {
   "cell_type": "code",
   "execution_count": null,
   "metadata": {},
   "outputs": [],
   "source": []
  },
  {
   "cell_type": "markdown",
   "metadata": {},
   "source": [
    "## Instances as Return Values"
   ]
  },
  {
   "cell_type": "markdown",
   "metadata": {},
   "source": [
    "Créons une fonction qui donne le point au centre du rectangle"
   ]
  },
  {
   "cell_type": "code",
   "execution_count": 71,
   "metadata": {},
   "outputs": [
    {
     "data": {
      "text/plain": [
       "center (generic function with 1 method)"
      ]
     },
     "execution_count": 71,
     "metadata": {},
     "output_type": "execute_result"
    }
   ],
   "source": [
    "function center(rec)\n",
    "    x= rec.corner.x + rec.width/2\n",
    "    y= rec.corner.x + rec.height/2\n",
    "    Point(x,y)\n",
    "end"
   ]
  },
  {
   "cell_type": "code",
   "execution_count": 72,
   "metadata": {},
   "outputs": [
    {
     "data": {
      "text/plain": [
       "Point(1.0, 0.0)"
      ]
     },
     "execution_count": 72,
     "metadata": {},
     "output_type": "execute_result"
    }
   ],
   "source": [
    "center(box)"
   ]
  },
  {
   "cell_type": "code",
   "execution_count": null,
   "metadata": {},
   "outputs": [],
   "source": []
  },
  {
   "cell_type": "markdown",
   "metadata": {},
   "source": [
    "## Instances as Arguments"
   ]
  },
  {
   "cell_type": "markdown",
   "metadata": {},
   "source": [
    "Bougeons maintenant le rectangle"
   ]
  },
  {
   "cell_type": "code",
   "execution_count": 73,
   "metadata": {},
   "outputs": [
    {
     "data": {
      "text/plain": [
       "moverect! (generic function with 1 method)"
      ]
     },
     "execution_count": 73,
     "metadata": {},
     "output_type": "execute_result"
    }
   ],
   "source": [
    "function moverect!(rec, dx, dy)\n",
    "    rec.corner.x += dx\n",
    "    rec.corner.y += dy\n",
    "    nothing\n",
    "end"
   ]
  },
  {
   "cell_type": "code",
   "execution_count": 74,
   "metadata": {},
   "outputs": [],
   "source": [
    "moverect!(box, -1, 2)"
   ]
  },
  {
   "cell_type": "code",
   "execution_count": 75,
   "metadata": {},
   "outputs": [
    {
     "data": {
      "text/plain": [
       "Rectangle(MPoint(-2, 4.0), 4.0, 2.0)"
      ]
     },
     "execution_count": 75,
     "metadata": {},
     "output_type": "execute_result"
    }
   ],
   "source": [
    "box"
   ]
  },
  {
   "cell_type": "code",
   "execution_count": null,
   "metadata": {},
   "outputs": [],
   "source": []
  },
  {
   "cell_type": "markdown",
   "metadata": {},
   "source": [
    "## Copying"
   ]
  },
  {
   "cell_type": "code",
   "execution_count": 76,
   "metadata": {},
   "outputs": [
    {
     "data": {
      "text/plain": [
       "Rectangle(MPoint(-2, 4.0), 4.0, 2.0)"
      ]
     },
     "execution_count": 76,
     "metadata": {},
     "output_type": "execute_result"
    }
   ],
   "source": [
    "newbox = deepcopy(box)"
   ]
  },
  {
   "cell_type": "code",
   "execution_count": 77,
   "metadata": {},
   "outputs": [
    {
     "data": {
      "text/plain": [
       "false"
      ]
     },
     "execution_count": 77,
     "metadata": {},
     "output_type": "execute_result"
    }
   ],
   "source": [
    "newbox === box"
   ]
  },
  {
   "cell_type": "markdown",
   "metadata": {},
   "source": [
    "Ces deux objets sont les mêmes, mais ne pointent pas au même endroit ! "
   ]
  },
  {
   "cell_type": "markdown",
   "metadata": {},
   "source": [
    "Par contre, width est IMMUTABLE donc là oui ! : "
   ]
  },
  {
   "cell_type": "code",
   "execution_count": 79,
   "metadata": {},
   "outputs": [
    {
     "data": {
      "text/plain": [
       "true"
      ]
     },
     "execution_count": 79,
     "metadata": {},
     "output_type": "execute_result"
    }
   ],
   "source": [
    "newbox.width === box.width"
   ]
  },
  {
   "cell_type": "markdown",
   "metadata": {},
   "source": [
    "Mais le \"==\" devrait donner true puisque ce sont les memes objets non ?"
   ]
  },
  {
   "cell_type": "code",
   "execution_count": 80,
   "metadata": {},
   "outputs": [
    {
     "data": {
      "text/plain": [
       "false"
      ]
     },
     "execution_count": 80,
     "metadata": {},
     "output_type": "execute_result"
    }
   ],
   "source": [
    "newbox == box"
   ]
  },
  {
   "cell_type": "markdown",
   "metadata": {},
   "source": [
    "Non car pour une structure que nous avons nous créée, le \"==\" n'est pas définie donc l'ordinateur regarde juste si les addresses sont les mêmes."
   ]
  },
  {
   "cell_type": "code",
   "execution_count": null,
   "metadata": {},
   "outputs": [],
   "source": []
  },
  {
   "cell_type": "markdown",
   "metadata": {},
   "source": [
    "# Structs and Functions"
   ]
  },
  {
   "cell_type": "code",
   "execution_count": null,
   "metadata": {},
   "outputs": [],
   "source": []
  },
  {
   "cell_type": "markdown",
   "metadata": {},
   "source": [
    "## Time"
   ]
  },
  {
   "cell_type": "code",
   "execution_count": 4,
   "metadata": {},
   "outputs": [
    {
     "data": {
      "text/plain": [
       "MyTime"
      ]
     },
     "execution_count": 4,
     "metadata": {},
     "output_type": "execute_result"
    }
   ],
   "source": [
    "\"\"\"\n",
    "Structure representing time.\n",
    "\n",
    "Fields : Hours, Minutes and Seconds\n",
    "\"\"\"\n",
    "mutable struct MyTime\n",
    "    hours\n",
    "    minutes\n",
    "    seconds\n",
    "end "
   ]
  },
  {
   "cell_type": "code",
   "execution_count": 83,
   "metadata": {},
   "outputs": [
    {
     "data": {
      "text/plain": [
       "MyTime(15, 0, 34)"
      ]
     },
     "execution_count": 83,
     "metadata": {},
     "output_type": "execute_result"
    }
   ],
   "source": [
    "Time = MyTime(15, 0, 34)"
   ]
  },
  {
   "cell_type": "code",
   "execution_count": null,
   "metadata": {},
   "outputs": [],
   "source": []
  },
  {
   "cell_type": "markdown",
   "metadata": {},
   "source": [
    "## Pure Functions"
   ]
  },
  {
   "cell_type": "code",
   "execution_count": 86,
   "metadata": {},
   "outputs": [
    {
     "data": {
      "text/plain": [
       "addtime (generic function with 1 method)"
      ]
     },
     "execution_count": 86,
     "metadata": {},
     "output_type": "execute_result"
    }
   ],
   "source": [
    "function addtime(t1, t2)\n",
    "    seconds = t1.seconds + t2.seconds\n",
    "    minutes = t1.minutes + t2.minutes\n",
    "    hours = t1.hours + t2.hours\n",
    "    if seconds > 59\n",
    "        seconds -= 60\n",
    "        minutes +=1\n",
    "    end\n",
    "    if minutes > 59\n",
    "        minutes -= 60\n",
    "        hours +=1\n",
    "    end\n",
    "        \n",
    "    MyTime(hours, minutes, seconds)\n",
    "end "
   ]
  },
  {
   "cell_type": "code",
   "execution_count": 87,
   "metadata": {},
   "outputs": [
    {
     "data": {
      "text/plain": [
       "MyTime(16, 56, 29)"
      ]
     },
     "execution_count": 87,
     "metadata": {},
     "output_type": "execute_result"
    }
   ],
   "source": [
    "addtime(Time, MyTime(1,55,55))"
   ]
  },
  {
   "cell_type": "code",
   "execution_count": null,
   "metadata": {},
   "outputs": [],
   "source": []
  },
  {
   "cell_type": "markdown",
   "metadata": {},
   "source": [
    "## Modifiers"
   ]
  },
  {
   "cell_type": "code",
   "execution_count": 88,
   "metadata": {},
   "outputs": [
    {
     "data": {
      "text/plain": [
       "increment! (generic function with 1 method)"
      ]
     },
     "execution_count": 88,
     "metadata": {},
     "output_type": "execute_result"
    }
   ],
   "source": [
    "function increment!(time, seconds)\n",
    "    time.seconds += seconds\n",
    "    minutes, time.seconds = divrem(time.seconds, 60)\n",
    "    time.minutes += minutes\n",
    "    hours, time.minutes = divrem(time.minutes, 60)\n",
    "    time.hours += hours\n",
    "    nothing\n",
    "end"
   ]
  },
  {
   "cell_type": "code",
   "execution_count": 93,
   "metadata": {},
   "outputs": [
    {
     "data": {
      "text/plain": [
       "MyTime(18, 0, 34)"
      ]
     },
     "execution_count": 93,
     "metadata": {},
     "output_type": "execute_result"
    }
   ],
   "source": [
    "Time"
   ]
  },
  {
   "cell_type": "code",
   "execution_count": 94,
   "metadata": {},
   "outputs": [
    {
     "data": {
      "text/plain": [
       "MyTime(19, 30, 34)"
      ]
     },
     "execution_count": 94,
     "metadata": {},
     "output_type": "execute_result"
    }
   ],
   "source": [
    "increment!(Time, 5400)\n",
    "Time"
   ]
  },
  {
   "cell_type": "code",
   "execution_count": null,
   "metadata": {},
   "outputs": [],
   "source": []
  },
  {
   "cell_type": "markdown",
   "metadata": {},
   "source": [
    "## Prototyping Versus Planning"
   ]
  },
  {
   "cell_type": "code",
   "execution_count": 22,
   "metadata": {},
   "outputs": [
    {
     "data": {
      "text/plain": [
       "inttotime (generic function with 1 method)"
      ]
     },
     "execution_count": 22,
     "metadata": {},
     "output_type": "execute_result"
    }
   ],
   "source": [
    "# Jusqu'à maintenant : prototyping. Maintenant on va planifier.\n",
    "function inttotime(seconds)\n",
    "    minutes, seconds = divrem(seconds, 60)\n",
    "    hours, minutes = divrem(minutes, 60)\n",
    "    MyTime(seconds, minutes, hours)\n",
    "end"
   ]
  },
  {
   "cell_type": "code",
   "execution_count": 18,
   "metadata": {},
   "outputs": [
    {
     "data": {
      "text/plain": [
       "timetoint (generic function with 1 method)"
      ]
     },
     "execution_count": 18,
     "metadata": {},
     "output_type": "execute_result"
    }
   ],
   "source": [
    "function timetoint(time)\n",
    "    time.hours *3600 + time.minutes*60 + time.seconds\n",
    "end"
   ]
  },
  {
   "cell_type": "code",
   "execution_count": 97,
   "metadata": {},
   "outputs": [
    {
     "data": {
      "text/plain": [
       "MyTime(2, 2, 44)"
      ]
     },
     "execution_count": 97,
     "metadata": {},
     "output_type": "execute_result"
    }
   ],
   "source": [
    "t = inttotime(7364)"
   ]
  },
  {
   "cell_type": "code",
   "execution_count": 98,
   "metadata": {},
   "outputs": [
    {
     "data": {
      "text/plain": [
       "7364"
      ]
     },
     "execution_count": 98,
     "metadata": {},
     "output_type": "execute_result"
    }
   ],
   "source": [
    "timetoint(t)"
   ]
  },
  {
   "cell_type": "code",
   "execution_count": 99,
   "metadata": {},
   "outputs": [
    {
     "data": {
      "text/plain": [
       "increment! (generic function with 1 method)"
      ]
     },
     "execution_count": 99,
     "metadata": {},
     "output_type": "execute_result"
    }
   ],
   "source": [
    "function increment!(t, seconds)\n",
    "    seconds += timetoint(t) \n",
    "    time = inttotime(seconds)\n",
    "    t = time\n",
    "    nothing\n",
    "end"
   ]
  },
  {
   "cell_type": "code",
   "execution_count": 101,
   "metadata": {},
   "outputs": [
    {
     "data": {
      "text/plain": [
       "MyTime(2, 2, 44)"
      ]
     },
     "execution_count": 101,
     "metadata": {},
     "output_type": "execute_result"
    }
   ],
   "source": [
    "increment!(t, 1500)\n",
    "t"
   ]
  },
  {
   "cell_type": "markdown",
   "metadata": {},
   "source": [
    "Pourquoi ça n'a pas changé ? En fait t pointe d'abord vers le MyTime initial, puis vers un autre MyTime, et à la fin on dit t=time donc le t local à changé mais pas le global ! On résout ceci grace à : "
   ]
  },
  {
   "cell_type": "code",
   "execution_count": 102,
   "metadata": {},
   "outputs": [
    {
     "data": {
      "text/plain": [
       "increment! (generic function with 1 method)"
      ]
     },
     "execution_count": 102,
     "metadata": {},
     "output_type": "execute_result"
    }
   ],
   "source": [
    "function increment!(t, seconds)\n",
    "    seconds += timetoint(t) \n",
    "    time = inttotime(seconds)\n",
    "    t.hours = time.hours\n",
    "    t.minutes = time.minutes\n",
    "    t.seconds = time.seconds\n",
    "    nothing\n",
    "end"
   ]
  },
  {
   "cell_type": "code",
   "execution_count": 103,
   "metadata": {},
   "outputs": [
    {
     "data": {
      "text/plain": [
       "MyTime(2, 27, 44)"
      ]
     },
     "execution_count": 103,
     "metadata": {},
     "output_type": "execute_result"
    }
   ],
   "source": [
    "increment!(t,1500)\n",
    "t"
   ]
  },
  {
   "cell_type": "code",
   "execution_count": null,
   "metadata": {},
   "outputs": [],
   "source": []
  },
  {
   "cell_type": "markdown",
   "metadata": {},
   "source": [
    "# Multiple Dispatch"
   ]
  },
  {
   "cell_type": "code",
   "execution_count": 104,
   "metadata": {},
   "outputs": [
    {
     "data": {
      "text/plain": [
       "MyTime([1], [7], [1])"
      ]
     },
     "execution_count": 104,
     "metadata": {},
     "output_type": "execute_result"
    }
   ],
   "source": [
    "t = MyTime([1], [7], [1])"
   ]
  },
  {
   "cell_type": "code",
   "execution_count": 115,
   "metadata": {},
   "outputs": [
    {
     "ename": "MethodError",
     "evalue": "MethodError: no method matching +(::Int64, ::Array{Int64,1})\nClosest candidates are:\n  +(::Any, ::Any, !Matched::Any, !Matched::Any...) at operators.jl:502\n  +(::T<:Union{Int128, Int16, Int32, Int64, Int8, UInt128, UInt16, UInt32, UInt64, UInt8}, !Matched::T<:Union{Int128, Int16, Int32, Int64, Int8, UInt128, UInt16, UInt32, UInt64, UInt8}) where T<:Union{Int128, Int16, Int32, Int64, Int8, UInt128, UInt16, UInt32, UInt64, UInt8} at int.jl:53\n  +(::Union{Int16, Int32, Int64, Int8}, !Matched::BigInt) at gmp.jl:456\n  ...",
     "output_type": "error",
     "traceback": [
      "MethodError: no method matching +(::Int64, ::Array{Int64,1})\nClosest candidates are:\n  +(::Any, ::Any, !Matched::Any, !Matched::Any...) at operators.jl:502\n  +(::T<:Union{Int128, Int16, Int32, Int64, Int8, UInt128, UInt16, UInt32, UInt64, UInt8}, !Matched::T<:Union{Int128, Int16, Int32, Int64, Int8, UInt128, UInt16, UInt32, UInt64, UInt8}) where T<:Union{Int128, Int16, Int32, Int64, Int8, UInt128, UInt16, UInt32, UInt64, UInt8} at int.jl:53\n  +(::Union{Int16, Int32, Int64, Int8}, !Matched::BigInt) at gmp.jl:456\n  ...",
      "",
      "Stacktrace:",
      " [1] increment!(::MyTime, ::Int64) at ./In[108]:2",
      " [2] top-level scope at In[115]:1"
     ]
    }
   ],
   "source": [
    "increment!(t,12400)"
   ]
  },
  {
   "cell_type": "markdown",
   "metadata": {},
   "source": [
    "## Type Declarations"
   ]
  },
  {
   "cell_type": "code",
   "execution_count": 107,
   "metadata": {},
   "outputs": [
    {
     "ename": "TypeError",
     "evalue": "TypeError: in typeassert, expected Float64, got Int64",
     "output_type": "error",
     "traceback": [
      "TypeError: in typeassert, expected Float64, got Int64",
      "",
      "Stacktrace:",
      " [1] top-level scope at In[107]:1"
     ]
    }
   ],
   "source": [
    "1"
   ]
  },
  {
   "cell_type": "code",
   "execution_count": 108,
   "metadata": {},
   "outputs": [
    {
     "data": {
      "text/plain": [
       "increment! (generic function with 2 methods)"
      ]
     },
     "execution_count": 108,
     "metadata": {},
     "output_type": "execute_result"
    }
   ],
   "source": [
    "function increment!(time::MyTime, seconds::Int64)\n",
    "    seconds += timetoint(t) \n",
    "    time = inttotime(seconds)\n",
    "    t.hours = time.hours\n",
    "    t.minutes = time.minutes\n",
    "    t.seconds = time.seconds\n",
    "    nothing\n",
    "end"
   ]
  },
  {
   "cell_type": "markdown",
   "metadata": {},
   "source": [
    "Generic function with 2 methods ? Une fonction, c'est function qqchose, mais ici on a 2 méthodes de la meme fonction : on a increment!(N'importe), et increment!(On précise ce qu'il faut)"
   ]
  },
  {
   "cell_type": "code",
   "execution_count": 2,
   "metadata": {},
   "outputs": [
    {
     "ename": "UndefVarError",
     "evalue": "UndefVarError: increment! not defined",
     "output_type": "error",
     "traceback": [
      "UndefVarError: increment! not defined",
      "",
      "Stacktrace:",
      " [1] top-level scope at In[2]:1"
     ]
    }
   ],
   "source": [
    "methods(increment!) # On appelle les inputs des méthodes LA SIGNATURE de la méthode"
   ]
  },
  {
   "cell_type": "code",
   "execution_count": 110,
   "metadata": {},
   "outputs": [
    {
     "data": {
      "text/plain": [
       "increment! (generic function with 2 methods)"
      ]
     },
     "execution_count": 110,
     "metadata": {},
     "output_type": "execute_result"
    }
   ],
   "source": [
    "function increment!(time, seconds)\n",
    "    error(\"Not a time object and an integer!\")\n",
    "end"
   ]
  },
  {
   "cell_type": "code",
   "execution_count": 111,
   "metadata": {},
   "outputs": [
    {
     "data": {
      "text/html": [
       "2 methods for generic function <b>increment!</b>:<ul><li> increment!(time::<b>MyTime</b>, seconds::<b>Int64</b>) in Main at In[108]:2</li> <li> increment!(time, seconds) in Main at In[110]:2</li> </ul>"
      ],
      "text/plain": [
       "# 2 methods for generic function \"increment!\":\n",
       "[1] increment!(time::MyTime, seconds::Int64) in Main at In[108]:2\n",
       "[2] increment!(time, seconds) in Main at In[110]:2"
      ]
     },
     "execution_count": 111,
     "metadata": {},
     "output_type": "execute_result"
    }
   ],
   "source": [
    "methods(increment!)"
   ]
  },
  {
   "cell_type": "code",
   "execution_count": 112,
   "metadata": {},
   "outputs": [
    {
     "ename": "MethodError",
     "evalue": "MethodError: no method matching +(::Int64, ::Array{Int64,1})\nClosest candidates are:\n  +(::Any, ::Any, !Matched::Any, !Matched::Any...) at operators.jl:502\n  +(::T<:Union{Int128, Int16, Int32, Int64, Int8, UInt128, UInt16, UInt32, UInt64, UInt8}, !Matched::T<:Union{Int128, Int16, Int32, Int64, Int8, UInt128, UInt16, UInt32, UInt64, UInt8}) where T<:Union{Int128, Int16, Int32, Int64, Int8, UInt128, UInt16, UInt32, UInt64, UInt8} at int.jl:53\n  +(::Union{Int16, Int32, Int64, Int8}, !Matched::BigInt) at gmp.jl:456\n  ...",
     "output_type": "error",
     "traceback": [
      "MethodError: no method matching +(::Int64, ::Array{Int64,1})\nClosest candidates are:\n  +(::Any, ::Any, !Matched::Any, !Matched::Any...) at operators.jl:502\n  +(::T<:Union{Int128, Int16, Int32, Int64, Int8, UInt128, UInt16, UInt32, UInt64, UInt8}, !Matched::T<:Union{Int128, Int16, Int32, Int64, Int8, UInt128, UInt16, UInt32, UInt64, UInt8}) where T<:Union{Int128, Int16, Int32, Int64, Int8, UInt128, UInt16, UInt32, UInt64, UInt8} at int.jl:53\n  +(::Union{Int16, Int32, Int64, Int8}, !Matched::BigInt) at gmp.jl:456\n  ...",
      "",
      "Stacktrace:",
      " [1] increment!(::MyTime, ::Int64) at ./In[108]:2",
      " [2] top-level scope at In[112]:1"
     ]
    }
   ],
   "source": [
    "increment!(t, 1500)"
   ]
  },
  {
   "cell_type": "markdown",
   "metadata": {},
   "source": [
    "Mais le \"t\" reste un MyTime donc il faut : spécifier dans la structure de MyTime, ou bien dans la fonction préciser la sortie : "
   ]
  },
  {
   "cell_type": "code",
   "execution_count": 114,
   "metadata": {},
   "outputs": [
    {
     "data": {
      "text/plain": [
       "addtime (generic function with 2 methods)"
      ]
     },
     "execution_count": 114,
     "metadata": {},
     "output_type": "execute_result"
    }
   ],
   "source": [
    "function addtime(t1::MyTime, t2::MyTime) :: MyTime\n",
    "    seconds = timetoint(t1) + timetoint(t2)\n",
    "    inttotime(seconds)\n",
    "end"
   ]
  },
  {
   "cell_type": "markdown",
   "metadata": {},
   "source": [
    "On peut redéfinir une fonction, mais PAS UNE STRUCTURE ! Il faut donc redémarrer le Kernel si on veut changer une structure"
   ]
  },
  {
   "cell_type": "code",
   "execution_count": 1,
   "metadata": {},
   "outputs": [
    {
     "data": {
      "text/plain": [
       "2"
      ]
     },
     "execution_count": 1,
     "metadata": {},
     "output_type": "execute_result"
    }
   ],
   "source": [
    "1+1 :: Int64"
   ]
  },
  {
   "cell_type": "markdown",
   "metadata": {},
   "source": [
    "## Printing Objects"
   ]
  },
  {
   "cell_type": "code",
   "execution_count": 116,
   "metadata": {},
   "outputs": [
    {
     "data": {
      "text/plain": [
       "printtime (generic function with 1 method)"
      ]
     },
     "execution_count": 116,
     "metadata": {},
     "output_type": "execute_result"
    }
   ],
   "source": [
    "function printtime(time::MyTime)\n",
    "    println(time.hours, \":\", time.minutes, \":\", time.seconds)\n",
    "end"
   ]
  },
  {
   "cell_type": "code",
   "execution_count": 117,
   "metadata": {},
   "outputs": [],
   "source": [
    "using Printf"
   ]
  },
  {
   "cell_type": "code",
   "execution_count": 119,
   "metadata": {},
   "outputs": [
    {
     "data": {
      "text/plain": [
       "printtime (generic function with 1 method)"
      ]
     },
     "execution_count": 119,
     "metadata": {},
     "output_type": "execute_result"
    }
   ],
   "source": [
    "function printtime(time::MyTime)\n",
    "    @printf(\"%02d:%02d:%02d\", time.hours, time.minutes, time.seconds)\n",
    "end"
   ]
  },
  {
   "cell_type": "code",
   "execution_count": 120,
   "metadata": {},
   "outputs": [
    {
     "name": "stdout",
     "output_type": "stream",
     "text": [
      "01:02:03"
     ]
    }
   ],
   "source": [
    "printtime(MyTime(1,2,3))"
   ]
  },
  {
   "cell_type": "markdown",
   "metadata": {},
   "source": [
    "Mais j'aimerais bien qu'en utilisant une fonction déjà existante, cela fonctionne aussi"
   ]
  },
  {
   "cell_type": "markdown",
   "metadata": {},
   "source": [
    "On va maintenant implémenter une nouvelle méthode de la fonction Base.show :"
   ]
  },
  {
   "cell_type": "code",
   "execution_count": 121,
   "metadata": {},
   "outputs": [],
   "source": [
    "function Base.show(io::IO, time::MyTime)\n",
    "     @printf(io, \"%02d:%02d:%02d\", time.hours, time.minutes, time.seconds)\n",
    "end"
   ]
  },
  {
   "cell_type": "code",
   "execution_count": 122,
   "metadata": {},
   "outputs": [
    {
     "data": {
      "text/html": [
       "325 methods for generic function <b>show</b>:<ul><li> show(io::<b>IO</b>, opt::<b>Base.JLOptions</b>) in Base at <a href=\"https://github.com/JuliaLang/julia/tree/5d4eaca0c9fa3d555c79dbacdccb9169fdf64b65/base/options.jl#L54\" target=\"_blank\">options.jl:54</a></li> <li> show(io::<b>IO</b>, r::<b>LinRange</b>) in Base at <a href=\"https://github.com/JuliaLang/julia/tree/5d4eaca0c9fa3d555c79dbacdccb9169fdf64b65/base/range.jl#L383\" target=\"_blank\">range.jl:383</a></li> <li> show(io::<b>IO</b>, r::<b>UnitRange</b>) in Base at <a href=\"https://github.com/JuliaLang/julia/tree/5d4eaca0c9fa3d555c79dbacdccb9169fdf64b65/base/range.jl#L693\" target=\"_blank\">range.jl:693</a></li> <li> show(io::<b>IO</b>, r::<b>Base.OneTo</b>) in Base at <a href=\"https://github.com/JuliaLang/julia/tree/5d4eaca0c9fa3d555c79dbacdccb9169fdf64b65/base/range.jl#L694\" target=\"_blank\">range.jl:694</a></li> <li> show(io::<b>IO</b>, r::<b>Base.Slice</b>) in Base at <a href=\"https://github.com/JuliaLang/julia/tree/5d4eaca0c9fa3d555c79dbacdccb9169fdf64b65/base/indices.jl#L303\" target=\"_blank\">indices.jl:303</a></li> <li> show(io::<b>IO</b>, r::<b>AbstractRange</b>) in Base at <a href=\"https://github.com/JuliaLang/julia/tree/5d4eaca0c9fa3d555c79dbacdccb9169fdf64b65/base/range.jl#L692\" target=\"_blank\">range.jl:692</a></li> <li> show(io::<b>IO</b>, iter::<b>Union{KeySet, ValueIterator}</b>) in Base at <a href=\"https://github.com/JuliaLang/julia/tree/5d4eaca0c9fa3d555c79dbacdccb9169fdf64b65/base/abstractdict.jl#L50\" target=\"_blank\">abstractdict.jl:50</a></li> <li> show(io::<b>IO</b>, t::<b>NamedTuple</b>) in Base at <a href=\"https://github.com/JuliaLang/julia/tree/5d4eaca0c9fa3d555c79dbacdccb9169fdf64b65/base/namedtuple.jl#L126\" target=\"_blank\">namedtuple.jl:126</a></li> <li> show(io::<b>IO</b>, z::<b>Complex{Bool}</b>) in Base at <a href=\"https://github.com/JuliaLang/julia/tree/5d4eaca0c9fa3d555c79dbacdccb9169fdf64b65/base/complex.jl#L198\" target=\"_blank\">complex.jl:198</a></li> <li> show(io::<b>IO</b>, z::<b>Complex</b>) in Base at <a href=\"https://github.com/JuliaLang/julia/tree/5d4eaca0c9fa3d555c79dbacdccb9169fdf64b65/base/complex.jl#L183\" target=\"_blank\">complex.jl:183</a></li> <li> show(io::<b>IO</b>, x::<b>Rational</b>) in Base at <a href=\"https://github.com/JuliaLang/julia/tree/5d4eaca0c9fa3d555c79dbacdccb9169fdf64b65/base/rational.jl#L64\" target=\"_blank\">rational.jl:64</a></li> <li> show<i>{T<:AbstractChar}</i>(io::<b>IO</b>, ::<b>MIME{Symbol(\"text/plain\")}</b>, c::<b>T</b>) in Base at <a href=\"https://github.com/JuliaLang/julia/tree/5d4eaca0c9fa3d555c79dbacdccb9169fdf64b65/base/char.jl#L281\" target=\"_blank\">char.jl:281</a></li> <li> show(io::<b>IO</b>, ::<b>MIME{Symbol(\"text/plain\")}</b>, r::<b>LinRange</b>) in Base at <a href=\"https://github.com/JuliaLang/julia/tree/5d4eaca0c9fa3d555c79dbacdccb9169fdf64b65/base/show.jl#L14\" target=\"_blank\">show.jl:14</a></li> <li> show(io::<b>IO</b>, ::<b>MIME{Symbol(\"text/plain\")}</b>, r::<b>AbstractRange</b>) in Base at <a href=\"https://github.com/JuliaLang/julia/tree/5d4eaca0c9fa3d555c79dbacdccb9169fdf64b65/base/show.jl#L7\" target=\"_blank\">show.jl:7</a></li> <li> show(io::<b>IO</b>, ::<b>MIME{Symbol(\"text/plain\")}</b>, f::<b>Function</b>) in Base at <a href=\"https://github.com/JuliaLang/julia/tree/5d4eaca0c9fa3d555c79dbacdccb9169fdf64b65/base/show.jl#L22\" target=\"_blank\">show.jl:22</a></li> <li> show(io::<b>IO</b>, ::<b>MIME{Symbol(\"text/plain\")}</b>, iter::<b>Union{KeySet, ValueIterator}</b>) in Base at <a href=\"https://github.com/JuliaLang/julia/tree/5d4eaca0c9fa3d555c79dbacdccb9169fdf64b65/base/show.jl#L44\" target=\"_blank\">show.jl:44</a></li> <li> show<i>{K, V}</i>(io::<b>IO</b>, ::<b>MIME{Symbol(\"text/plain\")}</b>, t::<b>AbstractDict{K,V}</b>) in Base at <a href=\"https://github.com/JuliaLang/julia/tree/5d4eaca0c9fa3d555c79dbacdccb9169fdf64b65/base/show.jl#L75\" target=\"_blank\">show.jl:75</a></li> <li> show(io::<b>IO</b>, ::<b>MIME{Symbol(\"text/plain\")}</b>, opt::<b>Base.JLOptions</b>) in Base at <a href=\"https://github.com/JuliaLang/julia/tree/5d4eaca0c9fa3d555c79dbacdccb9169fdf64b65/base/show.jl#L134\" target=\"_blank\">show.jl:134</a></li> <li> show(io::<b>IO</b>, ::<b>MIME{Symbol(\"text/plain\")}</b>, t::<b>Task</b>) in Base at <a href=\"https://github.com/JuliaLang/julia/tree/5d4eaca0c9fa3d555c79dbacdccb9169fdf64b65/base/show.jl#L150\" target=\"_blank\">show.jl:150</a></li> <li> show(io::<b>IO</b>, ::<b>MIME{Symbol(\"text/plain\")}</b>, x::<b>LinearAlgebra.Adjoint{#s549,#s548} where #s548<:LinearAlgebra.Factorization where #s549</b>) in LinearAlgebra at <a href=\"file:///buildworker/worker/package_linux64/build/usr/share/julia/stdlib/v1.0/LinearAlgebra/src/factorization.jl\" target=\"_blank\">/buildworker/worker/package_linux64/build/usr/share/julia/stdlib/v1.0/LinearAlgebra/src/factorization.jl:65</a></li> <li> show(io::<b>IO</b>, ::<b>MIME{Symbol(\"text/plain\")}</b>, x::<b>LinearAlgebra.Transpose{#s549,#s548} where #s548<:LinearAlgebra.Factorization where #s549</b>) in LinearAlgebra at <a href=\"file:///buildworker/worker/package_linux64/build/usr/share/julia/stdlib/v1.0/LinearAlgebra/src/factorization.jl\" target=\"_blank\">/buildworker/worker/package_linux64/build/usr/share/julia/stdlib/v1.0/LinearAlgebra/src/factorization.jl:69</a></li> <li> show(io::<b>IO</b>, ::<b>MIME{Symbol(\"text/plain\")}</b>, S::<b>SparseArrays.SparseMatrixCSC</b>) in SparseArrays at <a href=\"file:///buildworker/worker/package_linux64/build/usr/share/julia/stdlib/v1.0/SparseArrays/src/sparsematrix.jl\" target=\"_blank\">/buildworker/worker/package_linux64/build/usr/share/julia/stdlib/v1.0/SparseArrays/src/sparsematrix.jl:150</a></li> <li> show(io::<b>IO</b>, ::<b>MIME{Symbol(\"text/plain\")}</b>, x::<b>SparseArrays.AbstractSparseArray{Tv,Ti,1} where Ti where Tv</b>) in SparseArrays at <a href=\"file:///buildworker/worker/package_linux64/build/usr/share/julia/stdlib/v1.0/SparseArrays/src/sparsevector.jl\" target=\"_blank\">/buildworker/worker/package_linux64/build/usr/share/julia/stdlib/v1.0/SparseArrays/src/sparsevector.jl:821</a></li> <li> show(io::<b>IO</b>, ::<b>MIME{Symbol(\"text/plain\")}</b>, FC::<b>SuiteSparse.CHOLMOD.FactorComponent</b>) in SuiteSparse.CHOLMOD at <a href=\"file:///buildworker/worker/package_linux64/build/usr/share/julia/stdlib/v1.0/SuiteSparse/src/cholmod.jl\" target=\"_blank\">/buildworker/worker/package_linux64/build/usr/share/julia/stdlib/v1.0/SuiteSparse/src/cholmod.jl:1216</a></li> <li> show(io::<b>IO</b>, mime::<b>MIME{Symbol(\"text/plain\")}</b>, S::<b>SharedArrays.SharedArray</b>) in SharedArrays at <a href=\"file:///buildworker/worker/package_linux64/build/usr/share/julia/stdlib/v1.0/SharedArrays/src/SharedArrays.jl\" target=\"_blank\">/buildworker/worker/package_linux64/build/usr/share/julia/stdlib/v1.0/SharedArrays/src/SharedArrays.jl:486</a></li> <li> show(io::<b>IO</b>, mime::<b>MIME{Symbol(\"text/plain\")}</b>, mt::<b>AbstractArray{Method,1}</b>) in Base at <a href=\"https://github.com/JuliaLang/julia/tree/5d4eaca0c9fa3d555c79dbacdccb9169fdf64b65/base/methodshow.jl#L310\" target=\"_blank\">methodshow.jl:310</a></li> <li> show(io::<b>IO</b>, ::<b>MIME{Symbol(\"text/plain\")}</b>, X::<b>AbstractArray</b>) in Base at <a href=\"https://github.com/JuliaLang/julia/tree/5d4eaca0c9fa3d555c79dbacdccb9169fdf64b65/base/arrayshow.jl#L316\" target=\"_blank\">arrayshow.jl:316</a></li> <li> show(io::<b>IO</b>, ::<b>MIME{Symbol(\"text/plain\")}</b>, md::<b>Markdown.MD</b>) in Markdown at <a href=\"file:///buildworker/worker/package_linux64/build/usr/share/julia/stdlib/v1.0/Markdown/src/render/terminal/render.jl\" target=\"_blank\">/buildworker/worker/package_linux64/build/usr/share/julia/stdlib/v1.0/Markdown/src/render/terminal/render.jl:169</a></li> <li> show(io::<b>IO</b>, ::<b>MIME{Symbol(\"text/plain\")}</b>, t::<b>Type{LibGit2.Consts.OBJECT}</b>) in LibGit2.Consts at <a href=\"file:///opt/julia-1.0.0/bin/../share/julia/base/Enums.jl\" target=\"_blank\">Enums.jl:161</a></li> <li> show(io::<b>IO</b>, ::<b>MIME{Symbol(\"text/plain\")}</b>, t::<b>Type{LibGit2.Consts.DELTA_STATUS}</b>) in LibGit2.Consts at <a href=\"file:///opt/julia-1.0.0/bin/../share/julia/base/Enums.jl\" target=\"_blank\">Enums.jl:161</a></li> <li> show(io::<b>IO</b>, ::<b>MIME{Symbol(\"text/plain\")}</b>, t::<b>Type{LibGit2.Consts.GIT_MERGE}</b>) in LibGit2.Consts at <a href=\"file:///opt/julia-1.0.0/bin/../share/julia/base/Enums.jl\" target=\"_blank\">Enums.jl:161</a></li> <li> show(io::<b>IO</b>, ::<b>MIME{Symbol(\"text/plain\")}</b>, t::<b>Type{LibGit2.Consts.GIT_MERGE_FILE}</b>) in LibGit2.Consts at <a href=\"file:///opt/julia-1.0.0/bin/../share/julia/base/Enums.jl\" target=\"_blank\">Enums.jl:161</a></li> <li> show(io::<b>IO</b>, ::<b>MIME{Symbol(\"text/plain\")}</b>, t::<b>Type{LibGit2.Consts.GIT_MERGE_FILE_FAVOR}</b>) in LibGit2.Consts at <a href=\"file:///opt/julia-1.0.0/bin/../share/julia/base/Enums.jl\" target=\"_blank\">Enums.jl:161</a></li> <li> show(io::<b>IO</b>, ::<b>MIME{Symbol(\"text/plain\")}</b>, t::<b>Type{LibGit2.Consts.GIT_MERGE_PREFERENCE}</b>) in LibGit2.Consts at <a href=\"file:///opt/julia-1.0.0/bin/../share/julia/base/Enums.jl\" target=\"_blank\">Enums.jl:161</a></li> <li> show(io::<b>IO</b>, ::<b>MIME{Symbol(\"text/plain\")}</b>, t::<b>Type{LibGit2.Consts.GIT_MERGE_ANALYSIS}</b>) in LibGit2.Consts at <a href=\"file:///opt/julia-1.0.0/bin/../share/julia/base/Enums.jl\" target=\"_blank\">Enums.jl:161</a></li> <li> show(io::<b>IO</b>, ::<b>MIME{Symbol(\"text/plain\")}</b>, t::<b>Type{LibGit2.Consts.GIT_REBASE_OPERATION}</b>) in LibGit2.Consts at <a href=\"file:///opt/julia-1.0.0/bin/../share/julia/base/Enums.jl\" target=\"_blank\">Enums.jl:161</a></li> <li> show(io::<b>IO</b>, ::<b>MIME{Symbol(\"text/plain\")}</b>, t::<b>Type{LibGit2.Consts.GIT_SUBMODULE_IGNORE}</b>) in LibGit2.Consts at <a href=\"file:///opt/julia-1.0.0/bin/../share/julia/base/Enums.jl\" target=\"_blank\">Enums.jl:161</a></li> <li> show(io::<b>IO</b>, ::<b>MIME{Symbol(\"text/plain\")}</b>, t::<b>Type{LibGit2.Consts.GIT_REPOSITORY_OPEN}</b>) in LibGit2.Consts at <a href=\"file:///opt/julia-1.0.0/bin/../share/julia/base/Enums.jl\" target=\"_blank\">Enums.jl:161</a></li> <li> show(io::<b>IO</b>, ::<b>MIME{Symbol(\"text/plain\")}</b>, t::<b>Type{LibGit2.Consts.GIT_BRANCH}</b>) in LibGit2.Consts at <a href=\"file:///opt/julia-1.0.0/bin/../share/julia/base/Enums.jl\" target=\"_blank\">Enums.jl:161</a></li> <li> show(io::<b>IO</b>, ::<b>MIME{Symbol(\"text/plain\")}</b>, t::<b>Type{LibGit2.Consts.GIT_FILEMODE}</b>) in LibGit2.Consts at <a href=\"file:///opt/julia-1.0.0/bin/../share/julia/base/Enums.jl\" target=\"_blank\">Enums.jl:161</a></li> <li> show(io::<b>IO</b>, ::<b>MIME{Symbol(\"text/plain\")}</b>, t::<b>Type{LibGit2.Consts.GIT_CREDTYPE}</b>) in LibGit2.Consts at <a href=\"file:///opt/julia-1.0.0/bin/../share/julia/base/Enums.jl\" target=\"_blank\">Enums.jl:161</a></li> <li> show(io::<b>IO</b>, ::<b>MIME{Symbol(\"text/plain\")}</b>, t::<b>Type{LibGit2.Consts.GIT_FEATURE}</b>) in LibGit2.Consts at <a href=\"file:///opt/julia-1.0.0/bin/../share/julia/base/Enums.jl\" target=\"_blank\">Enums.jl:161</a></li> <li> show(io::<b>IO</b>, ::<b>MIME{Symbol(\"text/plain\")}</b>, t::<b>Type{LibGit2.Consts.GIT_CONFIG}</b>) in LibGit2.Consts at <a href=\"file:///opt/julia-1.0.0/bin/../share/julia/base/Enums.jl\" target=\"_blank\">Enums.jl:161</a></li> <li> show(io::<b>IO</b>, ::<b>MIME{Symbol(\"text/plain\")}</b>, t::<b>Type{LibGit2.Consts.GIT_OPT}</b>) in LibGit2.Consts at <a href=\"file:///opt/julia-1.0.0/bin/../share/julia/base/Enums.jl\" target=\"_blank\">Enums.jl:161</a></li> <li> show(io::<b>IO</b>, ::<b>MIME{Symbol(\"text/plain\")}</b>, t::<b>Type{LibGit2.Consts.GIT_PROXY}</b>) in LibGit2.Consts at <a href=\"file:///opt/julia-1.0.0/bin/../share/julia/base/Enums.jl\" target=\"_blank\">Enums.jl:161</a></li> <li> show(io::<b>IO</b>, ::<b>MIME{Symbol(\"text/plain\")}</b>, t::<b>Type{LibGit2.Error.Code}</b>) in LibGit2.Error at <a href=\"file:///opt/julia-1.0.0/bin/../share/julia/base/Enums.jl\" target=\"_blank\">Enums.jl:161</a></li> <li> show(io::<b>IO</b>, ::<b>MIME{Symbol(\"text/plain\")}</b>, t::<b>Type{LibGit2.Error.Class}</b>) in LibGit2.Error at <a href=\"file:///opt/julia-1.0.0/bin/../share/julia/base/Enums.jl\" target=\"_blank\">Enums.jl:161</a></li> <li> show(io::<b>IO</b>, mime::<b>MIME{Symbol(\"text/plain\")}</b>, F::<b>Union{QR, QRCompactWY, QRPivoted}</b>) in LinearAlgebra at <a href=\"file:///buildworker/worker/package_linux64/build/usr/share/julia/stdlib/v1.0/LinearAlgebra/src/qr.jl\" target=\"_blank\">/buildworker/worker/package_linux64/build/usr/share/julia/stdlib/v1.0/LinearAlgebra/src/qr.jl:398</a></li> <li> show(io::<b>IO</b>, mime::<b>MIME{Symbol(\"text/plain\")}</b>, F::<b>Union{Eigen, GeneralizedEigen}</b>) in LinearAlgebra at <a href=\"file:///buildworker/worker/package_linux64/build/usr/share/julia/stdlib/v1.0/LinearAlgebra/src/eigen.jl\" target=\"_blank\">/buildworker/worker/package_linux64/build/usr/share/julia/stdlib/v1.0/LinearAlgebra/src/eigen.jl:492</a></li> <li> show(io::<b>IO</b>, mime::<b>MIME{Symbol(\"text/plain\")}</b>, C::<b>LinearAlgebra.Cholesky{#s549,#s548} where #s548<:(AbstractArray{T,2} where T) where #s549</b>) in LinearAlgebra at <a href=\"file:///buildworker/worker/package_linux64/build/usr/share/julia/stdlib/v1.0/LinearAlgebra/src/cholesky.jl\" target=\"_blank\">/buildworker/worker/package_linux64/build/usr/share/julia/stdlib/v1.0/LinearAlgebra/src/cholesky.jl:381</a></li> <li> show(io::<b>IO</b>, mime::<b>MIME{Symbol(\"text/plain\")}</b>, C::<b>LinearAlgebra.CholeskyPivoted{#s549,#s548} where #s548<:(AbstractArray{T,2} where T) where #s549</b>) in LinearAlgebra at <a href=\"file:///buildworker/worker/package_linux64/build/usr/share/julia/stdlib/v1.0/LinearAlgebra/src/cholesky.jl\" target=\"_blank\">/buildworker/worker/package_linux64/build/usr/share/julia/stdlib/v1.0/LinearAlgebra/src/cholesky.jl:391</a></li> <li> show(io::<b>IO</b>, mime::<b>MIME{Symbol(\"text/plain\")}</b>, F::<b>LinearAlgebra.LU</b>) in LinearAlgebra at <a href=\"file:///buildworker/worker/package_linux64/build/usr/share/julia/stdlib/v1.0/LinearAlgebra/src/lu.jl\" target=\"_blank\">/buildworker/worker/package_linux64/build/usr/share/julia/stdlib/v1.0/LinearAlgebra/src/lu.jl:307</a></li> <li> show(io::<b>IO</b>, mime::<b>MIME{Symbol(\"text/plain\")}</b>, B::<b>LinearAlgebra.BunchKaufman</b>) in LinearAlgebra at <a href=\"file:///buildworker/worker/package_linux64/build/usr/share/julia/stdlib/v1.0/LinearAlgebra/src/bunchkaufman.jl\" target=\"_blank\">/buildworker/worker/package_linux64/build/usr/share/julia/stdlib/v1.0/LinearAlgebra/src/bunchkaufman.jl:252</a></li> <li> show(io::<b>IO</b>, mime::<b>MIME{Symbol(\"text/plain\")}</b>, F::<b>LinearAlgebra.Schur</b>) in LinearAlgebra at <a href=\"file:///buildworker/worker/package_linux64/build/usr/share/julia/stdlib/v1.0/LinearAlgebra/src/schur.jl\" target=\"_blank\">/buildworker/worker/package_linux64/build/usr/share/julia/stdlib/v1.0/LinearAlgebra/src/schur.jl:119</a></li> <li> show(io::<b>IO</b>, mime::<b>MIME{Symbol(\"text/plain\")}</b>, F::<b>LinearAlgebra.GeneralizedSchur</b>) in LinearAlgebra at <a href=\"file:///buildworker/worker/package_linux64/build/usr/share/julia/stdlib/v1.0/LinearAlgebra/src/schur.jl\" target=\"_blank\">/buildworker/worker/package_linux64/build/usr/share/julia/stdlib/v1.0/LinearAlgebra/src/schur.jl:264</a></li> <li> show(io::<b>IO</b>, ::<b>MIME{Symbol(\"text/plain\")}</b>, F::<b>SuiteSparse.CHOLMOD.Factor</b>) in SuiteSparse.CHOLMOD at <a href=\"file:///buildworker/worker/package_linux64/build/usr/share/julia/stdlib/v1.0/SuiteSparse/src/cholmod.jl\" target=\"_blank\">/buildworker/worker/package_linux64/build/usr/share/julia/stdlib/v1.0/SuiteSparse/src/cholmod.jl:1217</a></li> <li> show(io::<b>IO</b>, mime::<b>MIME{Symbol(\"text/plain\")}</b>, F::<b>SuiteSparse.SPQR.QRSparse</b>) in SuiteSparse.SPQR at <a href=\"file:///buildworker/worker/package_linux64/build/usr/share/julia/stdlib/v1.0/SuiteSparse/src/spqr.jl\" target=\"_blank\">/buildworker/worker/package_linux64/build/usr/share/julia/stdlib/v1.0/SuiteSparse/src/spqr.jl:324</a></li> <li> show(io::<b>IO</b>, ::<b>MIME{Symbol(\"text/plain\")}</b>, t::<b>Type{Distributed.WorkerState}</b>) in Distributed at <a href=\"file:///opt/julia-1.0.0/bin/../share/julia/base/Enums.jl\" target=\"_blank\">Enums.jl:161</a></li> <li> show(io::<b>IO</b>, ::<b>MIME{Symbol(\"text/plain\")}</b>, t::<b>Type{REPL.TerminalMenus.Key}</b>) in REPL.TerminalMenus at <a href=\"file:///opt/julia-1.0.0/bin/../share/julia/base/Enums.jl\" target=\"_blank\">Enums.jl:161</a></li> <li> show(io::<b>IO</b>, ::<b>MIME{Symbol(\"text/plain\")}</b>, t::<b>Type{Pkg.Types.UpgradeLevel}</b>) in Pkg.Types at <a href=\"file:///opt/julia-1.0.0/bin/../share/julia/base/Enums.jl\" target=\"_blank\">Enums.jl:161</a></li> <li> show(io::<b>IO</b>, ::<b>MIME{Symbol(\"text/plain\")}</b>, t::<b>Type{Pkg.Types.PackageMode}</b>) in Pkg.Types at <a href=\"file:///opt/julia-1.0.0/bin/../share/julia/base/Enums.jl\" target=\"_blank\">Enums.jl:161</a></li> <li> show(io::<b>IO</b>, ::<b>MIME{Symbol(\"text/plain\")}</b>, t::<b>Type{Pkg.Types.PackageSpecialAction}</b>) in Pkg.Types at <a href=\"file:///opt/julia-1.0.0/bin/../share/julia/base/Enums.jl\" target=\"_blank\">Enums.jl:161</a></li> <li> show(io::<b>IO</b>, ::<b>MIME{Symbol(\"text/plain\")}</b>, t::<b>Type{Pkg.REPLMode.OptionClass}</b>) in Pkg.REPLMode at <a href=\"file:///opt/julia-1.0.0/bin/../share/julia/base/Enums.jl\" target=\"_blank\">Enums.jl:161</a></li> <li> show(io::<b>IO</b>, ::<b>MIME{Symbol(\"text/plain\")}</b>, t::<b>Type{Pkg.REPLMode.CommandKind}</b>) in Pkg.REPLMode at <a href=\"file:///opt/julia-1.0.0/bin/../share/julia/base/Enums.jl\" target=\"_blank\">Enums.jl:161</a></li> <li> show(io::<b>IO</b>, ::<b>MIME{Symbol(\"text/plain\")}</b>, t::<b>Type{Pkg.REPLMode.ArgClass}</b>) in Pkg.REPLMode at <a href=\"file:///opt/julia-1.0.0/bin/../share/julia/base/Enums.jl\" target=\"_blank\">Enums.jl:161</a></li> <li> show(io::<b>IO</b>, ::<b>MIME{Symbol(\"text/plain\")}</b>, t::<b>Type{MbedTLS.MDKind}</b>) in MbedTLS at <a href=\"file:///opt/julia-1.0.0/bin/../share/julia/base/Enums.jl\" target=\"_blank\">Enums.jl:161</a></li> <li> show(io::<b>IO</b>, ::<b>MIME{Symbol(\"text/plain\")}</b>, t::<b>Type{MbedTLS.CipherID}</b>) in MbedTLS at <a href=\"file:///opt/julia-1.0.0/bin/../share/julia/base/Enums.jl\" target=\"_blank\">Enums.jl:161</a></li> <li> show(io::<b>IO</b>, ::<b>MIME{Symbol(\"text/plain\")}</b>, t::<b>Type{MbedTLS.CipherKind}</b>) in MbedTLS at <a href=\"file:///opt/julia-1.0.0/bin/../share/julia/base/Enums.jl\" target=\"_blank\">Enums.jl:161</a></li> <li> show(io::<b>IO</b>, ::<b>MIME{Symbol(\"text/plain\")}</b>, t::<b>Type{MbedTLS.CipherMode}</b>) in MbedTLS at <a href=\"file:///opt/julia-1.0.0/bin/../share/julia/base/Enums.jl\" target=\"_blank\">Enums.jl:161</a></li> <li> show(io::<b>IO</b>, ::<b>MIME{Symbol(\"text/plain\")}</b>, t::<b>Type{MbedTLS.Padding}</b>) in MbedTLS at <a href=\"file:///opt/julia-1.0.0/bin/../share/julia/base/Enums.jl\" target=\"_blank\">Enums.jl:161</a></li> <li> show(io::<b>IO</b>, ::<b>MIME{Symbol(\"text/plain\")}</b>, t::<b>Type{MbedTLS.Operation}</b>) in MbedTLS at <a href=\"file:///opt/julia-1.0.0/bin/../share/julia/base/Enums.jl\" target=\"_blank\">Enums.jl:161</a></li> <li> show(io::<b>IO</b>, ::<b>MIME{Symbol(\"text/plain\")}</b>, t::<b>Type{MbedTLS.DebugThreshold}</b>) in MbedTLS at <a href=\"file:///opt/julia-1.0.0/bin/../share/julia/base/Enums.jl\" target=\"_blank\">Enums.jl:161</a></li> <li> show(io::<b>IO</b>, ::<b>MIME{Symbol(\"text/plain\")}</b>, x) in Base at <a href=\"https://github.com/JuliaLang/julia/tree/5d4eaca0c9fa3d555c79dbacdccb9169fdf64b65/base/sysimg.jl#L194\" target=\"_blank\">sysimg.jl:194</a></li> <li> show(io::<b>IO</b>, s::<b>BitSet</b>) in Base at <a href=\"https://github.com/JuliaLang/julia/tree/5d4eaca0c9fa3d555c79dbacdccb9169fdf64b65/base/bitset.jl#L325\" target=\"_blank\">bitset.jl:325</a></li> <li> show(io::<b>IO</b>, x::<b>Some</b>) in Base at <a href=\"https://github.com/JuliaLang/julia/tree/5d4eaca0c9fa3d555c79dbacdccb9169fdf64b65/base/some.jl#L26\" target=\"_blank\">some.jl:26</a></li> <li> show(io::<b>IO</b>, ::<b>Base.EnvDict</b>) in Base at <a href=\"https://github.com/JuliaLang/julia/tree/5d4eaca0c9fa3d555c79dbacdccb9169fdf64b65/base/env.jl#L128\" target=\"_blank\">env.jl:128</a></li> <li> show<i>{K, V}</i>(io::<b>IO</b>, t::<b>AbstractDict{K,V}</b>) in Base at <a href=\"https://github.com/JuliaLang/julia/tree/5d4eaca0c9fa3d555c79dbacdccb9169fdf64b65/base/dict.jl#L25\" target=\"_blank\">dict.jl:25</a></li> <li> show(io::<b>IO</b>, s::<b>Set</b>) in Base at <a href=\"https://github.com/JuliaLang/julia/tree/5d4eaca0c9fa3d555c79dbacdccb9169fdf64b65/base/set.jl#L40\" target=\"_blank\">set.jl:40</a></li> <li> show(io::<b>IO</b>, c::<b>AbstractChar</b>) in Base at <a href=\"https://github.com/JuliaLang/julia/tree/5d4eaca0c9fa3d555c79dbacdccb9169fdf64b65/base/char.jl#L245\" target=\"_blank\">char.jl:245</a></li> <li> show(io::<b>IO</b>, s::<b>IOStream</b>) in Base at <a href=\"https://github.com/JuliaLang/julia/tree/5d4eaca0c9fa3d555c79dbacdccb9169fdf64b65/base/iostream.jl#L28\" target=\"_blank\">iostream.jl:28</a></li> <li> show(io::<b>IO</b>, b::<b>Base.GenericIOBuffer</b>) in Base at <a href=\"https://github.com/JuliaLang/julia/tree/5d4eaca0c9fa3d555c79dbacdccb9169fdf64b65/base/iobuffer.jl#L148\" target=\"_blank\">iobuffer.jl:148</a></li> <li> show<i>{S}</i>(io::<b>IO</b>, g::<b>Base.Unicode.GraphemeIterator{S}</b>) in Base.Unicode at <a href=\"https://github.com/JuliaLang/julia/tree/5d4eaca0c9fa3d555c79dbacdccb9169fdf64b65/base/strings/unicode.jl#L674\" target=\"_blank\">strings/unicode.jl:674</a></li> <li> show(io::<b>IO</b>, s::<b>SubstitutionString</b>) in Base at <a href=\"https://github.com/JuliaLang/julia/tree/5d4eaca0c9fa3d555c79dbacdccb9169fdf64b65/base/regex.jl#L263\" target=\"_blank\">regex.jl:263</a></li> <li> show(io::<b>IO</b>, s::<b>AbstractString</b>) in Base at <a href=\"https://github.com/JuliaLang/julia/tree/5d4eaca0c9fa3d555c79dbacdccb9169fdf64b65/base/strings/io.jl#L149\" target=\"_blank\">strings/io.jl:149</a></li> <li> show(io::<b>IO</b>, re::<b>Regex</b>) in Base at <a href=\"https://github.com/JuliaLang/julia/tree/5d4eaca0c9fa3d555c79dbacdccb9169fdf64b65/base/regex.jl#L94\" target=\"_blank\">regex.jl:94</a></li> <li> show(io::<b>IO</b>, m::<b>RegexMatch</b>) in Base at <a href=\"https://github.com/JuliaLang/julia/tree/5d4eaca0c9fa3d555c79dbacdccb9169fdf64b65/base/regex.jl#L125\" target=\"_blank\">regex.jl:125</a></li> <li> show(io::<b>IO</b>, ::<b>UndefInitializer</b>) in Base at <a href=\"https://github.com/JuliaLang/julia/tree/5d4eaca0c9fa3d555c79dbacdccb9169fdf64b65/base/show.jl#L3\" target=\"_blank\">show.jl:3</a></li> <li> show(io::<b>IO</b>, ctx::<b>IOContext</b>) in Base at <a href=\"https://github.com/JuliaLang/julia/tree/5d4eaca0c9fa3d555c79dbacdccb9169fdf64b65/base/show.jl#L273\" target=\"_blank\">show.jl:273</a></li> <li> show(io::<b>IO</b>, x::<b>Core.IntrinsicFunction</b>) in Base at <a href=\"https://github.com/JuliaLang/julia/tree/5d4eaca0c9fa3d555c79dbacdccb9169fdf64b65/base/show.jl#L382\" target=\"_blank\">show.jl:382</a></li> <li> show(io::<b>IO</b>, f::<b>Function</b>) in Base at <a href=\"https://github.com/JuliaLang/julia/tree/5d4eaca0c9fa3d555c79dbacdccb9169fdf64b65/base/show.jl#L367\" target=\"_blank\">show.jl:367</a></li> <li> show(io::<b>IO</b>, ::<b>Core.TypeofBottom</b>) in Base at <a href=\"https://github.com/JuliaLang/julia/tree/5d4eaca0c9fa3d555c79dbacdccb9169fdf64b65/base/show.jl#L386\" target=\"_blank\">show.jl:386</a></li> <li> show(io::<b>IO</b>, t::<b>Type{LibGit2.Consts.OBJECT}</b>) in LibGit2.Consts at <a href=\"file:///opt/julia-1.0.0/bin/../share/julia/base/Enums.jl\" target=\"_blank\">Enums.jl:158</a></li> <li> show(io::<b>IO</b>, t::<b>Type{LibGit2.Consts.DELTA_STATUS}</b>) in LibGit2.Consts at <a href=\"file:///opt/julia-1.0.0/bin/../share/julia/base/Enums.jl\" target=\"_blank\">Enums.jl:158</a></li> <li> show(io::<b>IO</b>, t::<b>Type{LibGit2.Consts.GIT_MERGE}</b>) in LibGit2.Consts at <a href=\"file:///opt/julia-1.0.0/bin/../share/julia/base/Enums.jl\" target=\"_blank\">Enums.jl:158</a></li> <li> show(io::<b>IO</b>, t::<b>Type{LibGit2.Consts.GIT_MERGE_FILE}</b>) in LibGit2.Consts at <a href=\"file:///opt/julia-1.0.0/bin/../share/julia/base/Enums.jl\" target=\"_blank\">Enums.jl:158</a></li> <li> show(io::<b>IO</b>, t::<b>Type{LibGit2.Consts.GIT_MERGE_FILE_FAVOR}</b>) in LibGit2.Consts at <a href=\"file:///opt/julia-1.0.0/bin/../share/julia/base/Enums.jl\" target=\"_blank\">Enums.jl:158</a></li> <li> show(io::<b>IO</b>, t::<b>Type{LibGit2.Consts.GIT_MERGE_PREFERENCE}</b>) in LibGit2.Consts at <a href=\"file:///opt/julia-1.0.0/bin/../share/julia/base/Enums.jl\" target=\"_blank\">Enums.jl:158</a></li> <li> show(io::<b>IO</b>, t::<b>Type{LibGit2.Consts.GIT_MERGE_ANALYSIS}</b>) in LibGit2.Consts at <a href=\"file:///opt/julia-1.0.0/bin/../share/julia/base/Enums.jl\" target=\"_blank\">Enums.jl:158</a></li> <li> show(io::<b>IO</b>, t::<b>Type{LibGit2.Consts.GIT_REBASE_OPERATION}</b>) in LibGit2.Consts at <a href=\"file:///opt/julia-1.0.0/bin/../share/julia/base/Enums.jl\" target=\"_blank\">Enums.jl:158</a></li> <li> show(io::<b>IO</b>, t::<b>Type{LibGit2.Consts.GIT_SUBMODULE_IGNORE}</b>) in LibGit2.Consts at <a href=\"file:///opt/julia-1.0.0/bin/../share/julia/base/Enums.jl\" target=\"_blank\">Enums.jl:158</a></li> <li> show(io::<b>IO</b>, t::<b>Type{LibGit2.Consts.GIT_REPOSITORY_OPEN}</b>) in LibGit2.Consts at <a href=\"file:///opt/julia-1.0.0/bin/../share/julia/base/Enums.jl\" target=\"_blank\">Enums.jl:158</a></li> <li> show(io::<b>IO</b>, t::<b>Type{LibGit2.Consts.GIT_BRANCH}</b>) in LibGit2.Consts at <a href=\"file:///opt/julia-1.0.0/bin/../share/julia/base/Enums.jl\" target=\"_blank\">Enums.jl:158</a></li> <li> show(io::<b>IO</b>, t::<b>Type{LibGit2.Consts.GIT_FILEMODE}</b>) in LibGit2.Consts at <a href=\"file:///opt/julia-1.0.0/bin/../share/julia/base/Enums.jl\" target=\"_blank\">Enums.jl:158</a></li> <li> show(io::<b>IO</b>, t::<b>Type{LibGit2.Consts.GIT_CREDTYPE}</b>) in LibGit2.Consts at <a href=\"file:///opt/julia-1.0.0/bin/../share/julia/base/Enums.jl\" target=\"_blank\">Enums.jl:158</a></li> <li> show(io::<b>IO</b>, t::<b>Type{LibGit2.Consts.GIT_FEATURE}</b>) in LibGit2.Consts at <a href=\"file:///opt/julia-1.0.0/bin/../share/julia/base/Enums.jl\" target=\"_blank\">Enums.jl:158</a></li> <li> show(io::<b>IO</b>, t::<b>Type{LibGit2.Consts.GIT_CONFIG}</b>) in LibGit2.Consts at <a href=\"file:///opt/julia-1.0.0/bin/../share/julia/base/Enums.jl\" target=\"_blank\">Enums.jl:158</a></li> <li> show(io::<b>IO</b>, t::<b>Type{LibGit2.Consts.GIT_OPT}</b>) in LibGit2.Consts at <a href=\"file:///opt/julia-1.0.0/bin/../share/julia/base/Enums.jl\" target=\"_blank\">Enums.jl:158</a></li> <li> show(io::<b>IO</b>, t::<b>Type{LibGit2.Consts.GIT_PROXY}</b>) in LibGit2.Consts at <a href=\"file:///opt/julia-1.0.0/bin/../share/julia/base/Enums.jl\" target=\"_blank\">Enums.jl:158</a></li> <li> show(io::<b>IO</b>, t::<b>Type{LibGit2.Error.Code}</b>) in LibGit2.Error at <a href=\"file:///opt/julia-1.0.0/bin/../share/julia/base/Enums.jl\" target=\"_blank\">Enums.jl:158</a></li> <li> show(io::<b>IO</b>, t::<b>Type{LibGit2.Error.Class}</b>) in LibGit2.Error at <a href=\"file:///opt/julia-1.0.0/bin/../share/julia/base/Enums.jl\" target=\"_blank\">Enums.jl:158</a></li> <li> show(io::<b>IO</b>, t::<b>Type{Distributed.WorkerState}</b>) in Distributed at <a href=\"file:///opt/julia-1.0.0/bin/../share/julia/base/Enums.jl\" target=\"_blank\">Enums.jl:158</a></li> <li> show(io::<b>IO</b>, t::<b>Type{REPL.TerminalMenus.Key}</b>) in REPL.TerminalMenus at <a href=\"file:///opt/julia-1.0.0/bin/../share/julia/base/Enums.jl\" target=\"_blank\">Enums.jl:158</a></li> <li> show(io::<b>IO</b>, t::<b>Type{Pkg.Types.UpgradeLevel}</b>) in Pkg.Types at <a href=\"file:///opt/julia-1.0.0/bin/../share/julia/base/Enums.jl\" target=\"_blank\">Enums.jl:158</a></li> <li> show(io::<b>IO</b>, t::<b>Type{Pkg.Types.PackageMode}</b>) in Pkg.Types at <a href=\"file:///opt/julia-1.0.0/bin/../share/julia/base/Enums.jl\" target=\"_blank\">Enums.jl:158</a></li> <li> show(io::<b>IO</b>, t::<b>Type{Pkg.Types.PackageSpecialAction}</b>) in Pkg.Types at <a href=\"file:///opt/julia-1.0.0/bin/../share/julia/base/Enums.jl\" target=\"_blank\">Enums.jl:158</a></li> <li> show(io::<b>IO</b>, t::<b>Type{Pkg.REPLMode.OptionClass}</b>) in Pkg.REPLMode at <a href=\"file:///opt/julia-1.0.0/bin/../share/julia/base/Enums.jl\" target=\"_blank\">Enums.jl:158</a></li> <li> show(io::<b>IO</b>, t::<b>Type{Pkg.REPLMode.CommandKind}</b>) in Pkg.REPLMode at <a href=\"file:///opt/julia-1.0.0/bin/../share/julia/base/Enums.jl\" target=\"_blank\">Enums.jl:158</a></li> <li> show(io::<b>IO</b>, t::<b>Type{Pkg.REPLMode.ArgClass}</b>) in Pkg.REPLMode at <a href=\"file:///opt/julia-1.0.0/bin/../share/julia/base/Enums.jl\" target=\"_blank\">Enums.jl:158</a></li> <li> show(io::<b>IO</b>, t::<b>Type{MbedTLS.MDKind}</b>) in MbedTLS at <a href=\"file:///opt/julia-1.0.0/bin/../share/julia/base/Enums.jl\" target=\"_blank\">Enums.jl:158</a></li> <li> show(io::<b>IO</b>, t::<b>Type{MbedTLS.CipherID}</b>) in MbedTLS at <a href=\"file:///opt/julia-1.0.0/bin/../share/julia/base/Enums.jl\" target=\"_blank\">Enums.jl:158</a></li> <li> show(io::<b>IO</b>, t::<b>Type{MbedTLS.CipherKind}</b>) in MbedTLS at <a href=\"file:///opt/julia-1.0.0/bin/../share/julia/base/Enums.jl\" target=\"_blank\">Enums.jl:158</a></li> <li> show(io::<b>IO</b>, t::<b>Type{MbedTLS.CipherMode}</b>) in MbedTLS at <a href=\"file:///opt/julia-1.0.0/bin/../share/julia/base/Enums.jl\" target=\"_blank\">Enums.jl:158</a></li> <li> show(io::<b>IO</b>, t::<b>Type{MbedTLS.Padding}</b>) in MbedTLS at <a href=\"file:///opt/julia-1.0.0/bin/../share/julia/base/Enums.jl\" target=\"_blank\">Enums.jl:158</a></li> <li> show(io::<b>IO</b>, t::<b>Type{MbedTLS.Operation}</b>) in MbedTLS at <a href=\"file:///opt/julia-1.0.0/bin/../share/julia/base/Enums.jl\" target=\"_blank\">Enums.jl:158</a></li> <li> show(io::<b>IO</b>, t::<b>Type{MbedTLS.DebugThreshold}</b>) in MbedTLS at <a href=\"file:///opt/julia-1.0.0/bin/../share/julia/base/Enums.jl\" target=\"_blank\">Enums.jl:158</a></li> <li> show(io::<b>IO</b>, x::<b>Union</b>) in Base at <a href=\"https://github.com/JuliaLang/julia/tree/5d4eaca0c9fa3d555c79dbacdccb9169fdf64b65/base/show.jl#L389\" target=\"_blank\">show.jl:389</a></li> <li> show(io::<b>IO</b>, x::<b>UnionAll</b>) in Base at <a href=\"https://github.com/JuliaLang/julia/tree/5d4eaca0c9fa3d555c79dbacdccb9169fdf64b65/base/show.jl#L414\" target=\"_blank\">show.jl:414</a></li> <li> show(io::<b>IO</b>, x::<b>DataType</b>) in Base at <a href=\"https://github.com/JuliaLang/julia/tree/5d4eaca0c9fa3d555c79dbacdccb9169fdf64b65/base/show.jl#L436\" target=\"_blank\">show.jl:436</a></li> <li> show(io::<b>IO</b>, tn::<b>Core.TypeName</b>) in Base at <a href=\"https://github.com/JuliaLang/julia/tree/5d4eaca0c9fa3d555c79dbacdccb9169fdf64b65/base/show.jl#L562\" target=\"_blank\">show.jl:562</a></li> <li> show(io::<b>IO</b>, ::<b>Nothing</b>) in Base at <a href=\"https://github.com/JuliaLang/julia/tree/5d4eaca0c9fa3d555c79dbacdccb9169fdf64b65/base/show.jl#L565\" target=\"_blank\">show.jl:565</a></li> <li> show(io::<b>IO</b>, b::<b>Bool</b>) in Base at <a href=\"https://github.com/JuliaLang/julia/tree/5d4eaca0c9fa3d555c79dbacdccb9169fdf64b65/base/show.jl#L567\" target=\"_blank\">show.jl:567</a></li> <li> show(io::<b>IO</b>, x::<b>BigInt</b>) in Base.GMP at <a href=\"https://github.com/JuliaLang/julia/tree/5d4eaca0c9fa3d555c79dbacdccb9169fdf64b65/base/gmp.jl#L597\" target=\"_blank\">gmp.jl:597</a></li> <li> show(io::<b>IO</b>, n::<b>Signed</b>) in Base at <a href=\"https://github.com/JuliaLang/julia/tree/5d4eaca0c9fa3d555c79dbacdccb9169fdf64b65/base/show.jl#L568\" target=\"_blank\">show.jl:568</a></li> <li> show(io::<b>IO</b>, n::<b>Unsigned</b>) in Base at <a href=\"https://github.com/JuliaLang/julia/tree/5d4eaca0c9fa3d555c79dbacdccb9169fdf64b65/base/show.jl#L569\" target=\"_blank\">show.jl:569</a></li> <li> show(io::<b>IO</b>, p::<b>Ptr</b>) in Base at <a href=\"https://github.com/JuliaLang/julia/tree/5d4eaca0c9fa3d555c79dbacdccb9169fdf64b65/base/show.jl#L572\" target=\"_blank\">show.jl:572</a></li> <li> show(io::<b>IO</b>, p::<b>Pair</b>) in Base at <a href=\"https://github.com/JuliaLang/julia/tree/5d4eaca0c9fa3d555c79dbacdccb9169fdf64b65/base/show.jl#L592\" target=\"_blank\">show.jl:592</a></li> <li> show(io::<b>IO</b>, m::<b>Module</b>) in Base at <a href=\"https://github.com/JuliaLang/julia/tree/5d4eaca0c9fa3d555c79dbacdccb9169fdf64b65/base/show.jl#L605\" target=\"_blank\">show.jl:605</a></li> <li> show(io::<b>IO</b>, l::<b>Core.MethodInstance</b>) in Base at <a href=\"https://github.com/JuliaLang/julia/tree/5d4eaca0c9fa3d555c79dbacdccb9169fdf64b65/base/show.jl#L633\" target=\"_blank\">show.jl:633</a></li> <li> show(io::<b>IO</b>, t::<b>Tuple</b>) in Base at <a href=\"https://github.com/JuliaLang/julia/tree/5d4eaca0c9fa3d555c79dbacdccb9169fdf64b65/base/show.jl#L714\" target=\"_blank\">show.jl:714</a></li> <li> show(io::<b>IO</b>, v::<b>Core.SimpleVector</b>) in Base at <a href=\"https://github.com/JuliaLang/julia/tree/5d4eaca0c9fa3d555c79dbacdccb9169fdf64b65/base/show.jl#L715\" target=\"_blank\">show.jl:715</a></li> <li> show(io::<b>IO</b>, s::<b>Symbol</b>) in Base at <a href=\"https://github.com/JuliaLang/julia/tree/5d4eaca0c9fa3d555c79dbacdccb9169fdf64b65/base/show.jl#L717\" target=\"_blank\">show.jl:717</a></li> <li> show(io::<b>IO</b>, ex::<b>Union{GotoNode, SSAValue, GotoIfNot, ReturnNode, Expr, GlobalRef, LineNumberNode, PhiCNode, PhiNode, QuoteNode, Slot, UpsilonNode}</b>) in Base at <a href=\"https://github.com/JuliaLang/julia/tree/5d4eaca0c9fa3d555c79dbacdccb9169fdf64b65/base/show.jl#L750\" target=\"_blank\">show.jl:750</a></li> <li> show(io::<b>IO</b>, tv::<b>TypeVar</b>) in Base at <a href=\"https://github.com/JuliaLang/julia/tree/5d4eaca0c9fa3d555c79dbacdccb9169fdf64b65/base/show.jl#L1528\" target=\"_blank\">show.jl:1528</a></li> <li> show(io::<b>IO</b>, r::<b>Core.Compiler.StmtRange</b>) in Base.IRShow at <a href=\"https://github.com/JuliaLang/julia/tree/5d4eaca0c9fa3d555c79dbacdccb9169fdf64b65/base/show.jl#L1562\" target=\"_blank\">show.jl:1562</a></li> <li> show(io::<b>IO</b>, cfg::<b>Core.Compiler.CFG</b>) in Base.IRShow at <a href=\"https://github.com/JuliaLang/julia/tree/5d4eaca0c9fa3d555c79dbacdccb9169fdf64b65/base/compiler/ssair/show.jl#L16\" target=\"_blank\">compiler/ssair/show.jl:16</a></li> <li> show(io::<b>IO</b>, code::<b>Core.Compiler.IRCode</b>) in Base.IRShow at <a href=\"https://github.com/JuliaLang/julia/tree/5d4eaca0c9fa3d555c79dbacdccb9169fdf64b65/base/compiler/ssair/show.jl#L315\" target=\"_blank\">compiler/ssair/show.jl:315</a></li> <li> show(io::<b>IO</b>, src::<b>Core.CodeInfo</b>) in Base at <a href=\"https://github.com/JuliaLang/julia/tree/5d4eaca0c9fa3d555c79dbacdccb9169fdf64b65/base/show.jl#L1568\" target=\"_blank\">show.jl:1568</a></li> <li> show(io::<b>IO</b>, r::<b>Base.LogicalIndex</b>) in Base at <a href=\"https://github.com/JuliaLang/julia/tree/5d4eaca0c9fa3d555c79dbacdccb9169fdf64b65/base/multidimensional.jl#L499\" target=\"_blank\">multidimensional.jl:499</a></li> <li> show(io::<b>IO</b>, x::<b>LinearAlgebra.Adjoint{#s549,#s548} where #s548<:LinearAlgebra.Factorization where #s549</b>) in LinearAlgebra at <a href=\"file:///buildworker/worker/package_linux64/build/usr/share/julia/stdlib/v1.0/LinearAlgebra/src/factorization.jl\" target=\"_blank\">/buildworker/worker/package_linux64/build/usr/share/julia/stdlib/v1.0/LinearAlgebra/src/factorization.jl:57</a></li> <li> show(io::<b>IO</b>, x::<b>LinearAlgebra.Transpose{#s549,#s548} where #s548<:LinearAlgebra.Factorization where #s549</b>) in LinearAlgebra at <a href=\"file:///buildworker/worker/package_linux64/build/usr/share/julia/stdlib/v1.0/LinearAlgebra/src/factorization.jl\" target=\"_blank\">/buildworker/worker/package_linux64/build/usr/share/julia/stdlib/v1.0/LinearAlgebra/src/factorization.jl:61</a></li> <li> show(io::<b>IO</b>, M::<b>LinearAlgebra.Bidiagonal</b>) in LinearAlgebra at <a href=\"file:///buildworker/worker/package_linux64/build/usr/share/julia/stdlib/v1.0/LinearAlgebra/src/bidiag.jl\" target=\"_blank\">/buildworker/worker/package_linux64/build/usr/share/julia/stdlib/v1.0/LinearAlgebra/src/bidiag.jl:211</a></li> <li> show(io::<b>IOContext</b>, S::<b>SparseArrays.SparseMatrixCSC</b>) in SparseArrays at <a href=\"file:///buildworker/worker/package_linux64/build/usr/share/julia/stdlib/v1.0/SparseArrays/src/sparsematrix.jl\" target=\"_blank\">/buildworker/worker/package_linux64/build/usr/share/julia/stdlib/v1.0/SparseArrays/src/sparsematrix.jl:161</a></li> <li> show(io::<b>IO</b>, S::<b>SparseArrays.SparseMatrixCSC</b>) in SparseArrays at <a href=\"file:///buildworker/worker/package_linux64/build/usr/share/julia/stdlib/v1.0/SparseArrays/src/sparsematrix.jl\" target=\"_blank\">/buildworker/worker/package_linux64/build/usr/share/julia/stdlib/v1.0/SparseArrays/src/sparsematrix.jl:159</a></li> <li> show(io::<b>IOContext</b>, x::<b>SparseArrays.AbstractSparseArray{Tv,Ti,1} where Ti where Tv</b>) in SparseArrays at <a href=\"file:///buildworker/worker/package_linux64/build/usr/share/julia/stdlib/v1.0/SparseArrays/src/sparsevector.jl\" target=\"_blank\">/buildworker/worker/package_linux64/build/usr/share/julia/stdlib/v1.0/SparseArrays/src/sparsevector.jl:833</a></li> <li> show(io::<b>IO</b>, x::<b>SparseArrays.AbstractSparseArray{Tv,Ti,1} where Ti where Tv</b>) in SparseArrays at <a href=\"file:///buildworker/worker/package_linux64/build/usr/share/julia/stdlib/v1.0/SparseArrays/src/sparsevector.jl\" target=\"_blank\">/buildworker/worker/package_linux64/build/usr/share/julia/stdlib/v1.0/SparseArrays/src/sparsevector.jl:830</a></li> <li> show(io::<b>IO</b>, FC::<b>SuiteSparse.CHOLMOD.FactorComponent</b>) in SuiteSparse.CHOLMOD at <a href=\"file:///buildworker/worker/package_linux64/build/usr/share/julia/stdlib/v1.0/SuiteSparse/src/cholmod.jl\" target=\"_blank\">/buildworker/worker/package_linux64/build/usr/share/julia/stdlib/v1.0/SuiteSparse/src/cholmod.jl:1200</a></li> <li> show(io::<b>IO</b>, S::<b>SharedArrays.SharedArray</b>) in SharedArrays at <a href=\"file:///buildworker/worker/package_linux64/build/usr/share/julia/stdlib/v1.0/SharedArrays/src/SharedArrays.jl\" target=\"_blank\">/buildworker/worker/package_linux64/build/usr/share/julia/stdlib/v1.0/SharedArrays/src/SharedArrays.jl:478</a></li> <li> show(io::<b>IO</b>, X::<b>AbstractArray</b>) in Base at <a href=\"https://github.com/JuliaLang/julia/tree/5d4eaca0c9fa3d555c79dbacdccb9169fdf64b65/base/arrayshow.jl#L418\" target=\"_blank\">arrayshow.jl:418</a></li> <li> show(io::<b>IO</b>, i::<b>CartesianIndex</b>) in Base.IteratorsMD at <a href=\"https://github.com/JuliaLang/julia/tree/5d4eaca0c9fa3d555c79dbacdccb9169fdf64b65/base/multidimensional.jl#L84\" target=\"_blank\">multidimensional.jl:84</a></li> <li> show<i>{Style}</i>(io::<b>IO</b>, bc::<b>Base.Broadcast.Broadcasted{Style,Axes,F,Args} where Args<:Tuple where F where Axes</b>) in Base.Broadcast at <a href=\"https://github.com/JuliaLang/julia/tree/5d4eaca0c9fa3d555c79dbacdccb9169fdf64b65/base/broadcast.jl#L183\" target=\"_blank\">broadcast.jl:183</a></li> <li> show(io::<b>IO</b>, B::<b>Base.Broadcast.BitMaskedBitArray</b>) in Base.Broadcast at <a href=\"https://github.com/JuliaLang/julia/tree/5d4eaca0c9fa3d555c79dbacdccb9169fdf64b65/base/broadcast.jl#L1013\" target=\"_blank\">broadcast.jl:1013</a></li> <li> show(io::<b>IO</b>, x::<b>Missing</b>) in Base at <a href=\"https://github.com/JuliaLang/julia/tree/5d4eaca0c9fa3d555c79dbacdccb9169fdf64b65/base/missing.jl#L5\" target=\"_blank\">missing.jl:5</a></li> <li> show(io::<b>IO</b>, v::<b>VersionNumber</b>) in Base at <a href=\"https://github.com/JuliaLang/julia/tree/5d4eaca0c9fa3d555c79dbacdccb9169fdf64b65/base/version.jl#L84\" target=\"_blank\">version.jl:84</a></li> <li> show(io::<b>IO</b>, info::<b>Base.Sys.CPUinfo</b>) in Base.Sys at <a href=\"https://github.com/JuliaLang/julia/tree/5d4eaca0c9fa3d555c79dbacdccb9169fdf64b65/base/sysinfo.jl#L159\" target=\"_blank\">sysinfo.jl:159</a></li> <li> show(io::<b>IO</b>, t::<b>Task</b>) in Base at <a href=\"https://github.com/JuliaLang/julia/tree/5d4eaca0c9fa3d555c79dbacdccb9169fdf64b65/base/task.jl#L58\" target=\"_blank\">task.jl:58</a></li> <li> show(io::<b>IO</b>, level::<b>Base.CoreLogging.LogLevel</b>) in Base.CoreLogging at <a href=\"https://github.com/JuliaLang/julia/tree/5d4eaca0c9fa3d555c79dbacdccb9169fdf64b65/base/logging.jl#L118\" target=\"_blank\">logging.jl:118</a></li> <li> show(io::<b>IO</b>, stream::<b>Base.LibuvServer</b>) in Base at <a href=\"https://github.com/JuliaLang/julia/tree/5d4eaca0c9fa3d555c79dbacdccb9169fdf64b65/base/stream.jl#L191\" target=\"_blank\">stream.jl:191</a></li> <li> show(io::<b>IO</b>, s::<b>Base.BufferStream</b>) in Base at <a href=\"https://github.com/JuliaLang/julia/tree/5d4eaca0c9fa3d555c79dbacdccb9169fdf64b65/base/stream.jl#L1075\" target=\"_blank\">stream.jl:1075</a></li> <li> show(io::<b>IO</b>, stream::<b>Sockets.UDPSocket</b>) in Sockets at <a href=\"file:///buildworker/worker/package_linux64/build/usr/share/julia/stdlib/v1.0/Sockets/src/Sockets.jl\" target=\"_blank\">/buildworker/worker/package_linux64/build/usr/share/julia/stdlib/v1.0/Sockets/src/Sockets.jl:167</a></li> <li> show(io::<b>IO</b>, stream::<b>Base.LibuvStream</b>) in Base at <a href=\"https://github.com/JuliaLang/julia/tree/5d4eaca0c9fa3d555c79dbacdccb9169fdf64b65/base/stream.jl#L194\" target=\"_blank\">stream.jl:194</a></li> <li> show(io::<b>IO</b>, stream::<b>Pipe</b>) in Base at <a href=\"https://github.com/JuliaLang/julia/tree/5d4eaca0c9fa3d555c79dbacdccb9169fdf64b65/base/stream.jl#L571\" target=\"_blank\">stream.jl:571</a></li> <li> show(io::<b>IO</b>, st::<b>Base.Filesystem.StatStruct</b>) in Base.Filesystem at <a href=\"https://github.com/JuliaLang/julia/tree/5d4eaca0c9fa3d555c79dbacdccb9169fdf64b65/base/stat.jl#L60\" target=\"_blank\">stat.jl:60</a></li> <li> show(io::<b>IO</b>, cmd::<b>Cmd</b>) in Base at <a href=\"https://github.com/JuliaLang/julia/tree/5d4eaca0c9fa3d555c79dbacdccb9169fdf64b65/base/process.jl#L101\" target=\"_blank\">process.jl:101</a></li> <li> show(io::<b>IO</b>, cmds::<b>Union{ErrOrCmds, OrCmds}</b>) in Base at <a href=\"https://github.com/JuliaLang/julia/tree/5d4eaca0c9fa3d555c79dbacdccb9169fdf64b65/base/process.jl#L119\" target=\"_blank\">process.jl:119</a></li> <li> show(io::<b>IO</b>, cmds::<b>Base.AndCmds</b>) in Base at <a href=\"https://github.com/JuliaLang/julia/tree/5d4eaca0c9fa3d555c79dbacdccb9169fdf64b65/base/process.jl#L128\" target=\"_blank\">process.jl:128</a></li> <li> show(io::<b>IO</b>, cr::<b>Base.CmdRedirect</b>) in Base at <a href=\"https://github.com/JuliaLang/julia/tree/5d4eaca0c9fa3d555c79dbacdccb9169fdf64b65/base/process.jl#L164\" target=\"_blank\">process.jl:164</a></li> <li> show(io::<b>IO</b>, p::<b>Base.Process</b>) in Base at <a href=\"https://github.com/JuliaLang/julia/tree/5d4eaca0c9fa3d555c79dbacdccb9169fdf64b65/base/process.jl#L833\" target=\"_blank\">process.jl:833</a></li> <li> show(io::<b>IO</b>, x::<b>Union{Float32, Float64}</b>) in Base.Grisu at <a href=\"https://github.com/JuliaLang/julia/tree/5d4eaca0c9fa3d555c79dbacdccb9169fdf64b65/base/grisu/grisu.jl#L148\" target=\"_blank\">grisu/grisu.jl:148</a></li> <li> show(io::<b>IO</b>, x::<b>Float16</b>) in Base.Grisu at <a href=\"https://github.com/JuliaLang/julia/tree/5d4eaca0c9fa3d555c79dbacdccb9169fdf64b65/base/grisu/grisu.jl#L156\" target=\"_blank\">grisu/grisu.jl:156</a></li> <li> show(io::<b>IO</b>, m::<b>Method</b>; <i>kwtype</i>) in Base at <a href=\"https://github.com/JuliaLang/julia/tree/5d4eaca0c9fa3d555c79dbacdccb9169fdf64b65/base/methodshow.jl#L106\" target=\"_blank\">methodshow.jl:106</a></li> <li> show(io::<b>IO</b>, ms::<b>Base.MethodList</b>) in Base at <a href=\"https://github.com/JuliaLang/julia/tree/5d4eaca0c9fa3d555c79dbacdccb9169fdf64b65/base/methodshow.jl#L187\" target=\"_blank\">methodshow.jl:187</a></li> <li> show(io::<b>IO</b>, mt::<b>Core.MethodTable</b>) in Base at <a href=\"https://github.com/JuliaLang/julia/tree/5d4eaca0c9fa3d555c79dbacdccb9169fdf64b65/base/methodshow.jl#L188\" target=\"_blank\">methodshow.jl:188</a></li> <li> show(io::<b>IO</b>, ::<b>MIME{Symbol(\"text/html\")}</b>, m::<b>Method</b>; <i>kwtype</i>) in Base at <a href=\"https://github.com/JuliaLang/julia/tree/5d4eaca0c9fa3d555c79dbacdccb9169fdf64b65/base/methodshow.jl#L241\" target=\"_blank\">methodshow.jl:241</a></li> <li> show(io::<b>IO</b>, mime::<b>MIME{Symbol(\"text/html\")}</b>, ms::<b>Base.MethodList</b>) in Base at <a href=\"https://github.com/JuliaLang/julia/tree/5d4eaca0c9fa3d555c79dbacdccb9169fdf64b65/base/methodshow.jl#L290\" target=\"_blank\">methodshow.jl:290</a></li> <li> show(io::<b>IO</b>, mime::<b>MIME{Symbol(\"text/html\")}</b>, mt::<b>Core.MethodTable</b>) in Base at <a href=\"https://github.com/JuliaLang/julia/tree/5d4eaca0c9fa3d555c79dbacdccb9169fdf64b65/base/methodshow.jl#L306\" target=\"_blank\">methodshow.jl:306</a></li> <li> show(io::<b>IO</b>, mime::<b>MIME{Symbol(\"text/html\")}</b>, mt::<b>AbstractArray{Method,1}</b>) in Base at <a href=\"https://github.com/JuliaLang/julia/tree/5d4eaca0c9fa3d555c79dbacdccb9169fdf64b65/base/methodshow.jl#L322\" target=\"_blank\">methodshow.jl:322</a></li> <li> show(io::<b>IO</b>, s::<b>Base.SecretBuffer</b>) in Base at <a href=\"https://github.com/JuliaLang/julia/tree/5d4eaca0c9fa3d555c79dbacdccb9169fdf64b65/base/secretbuffer.jl#L94\" target=\"_blank\">secretbuffer.jl:94</a></li> <li> show(io::<b>IO</b>, b::<b>BigFloat</b>) in Base.MPFR at <a href=\"https://github.com/JuliaLang/julia/tree/5d4eaca0c9fa3d555c79dbacdccb9169fdf64b65/base/mpfr.jl#L963\" target=\"_blank\">mpfr.jl:963</a></li> <li> show<i>{sym}</i>(io::<b>IO</b>, x::<b>Irrational{sym}</b>) in Base at <a href=\"https://github.com/JuliaLang/julia/tree/5d4eaca0c9fa3d555c79dbacdccb9169fdf64b65/base/irrationals.jl#L20\" target=\"_blank\">irrationals.jl:20</a></li> <li> show(io::<b>IO</b>, c::<b>Channel</b>) in Base at <a href=\"https://github.com/JuliaLang/julia/tree/5d4eaca0c9fa3d555c79dbacdccb9169fdf64b65/base/channels.jl#L382\" target=\"_blank\">channels.jl:382</a></li> <li> show(io::<b>IO</b>, frame::<b>Base.StackTraces.StackFrame</b>; <i>full_path</i>) in Base.StackTraces at <a href=\"https://github.com/JuliaLang/julia/tree/5d4eaca0c9fa3d555c79dbacdccb9169fdf64b65/base/stacktraces.jl#L272\" target=\"_blank\">stacktraces.jl:272</a></li> <li> show(io::<b>IO</b>, u::<b>Base.UUID</b>) in Base at <a href=\"https://github.com/JuliaLang/julia/tree/5d4eaca0c9fa3d555c79dbacdccb9169fdf64b65/base/uuid.jl#L62\" target=\"_blank\">uuid.jl:62</a></li> <li> show(io::<b>IO</b>, hash::<b>Base.SHA1</b>) in Base at <a href=\"https://github.com/JuliaLang/julia/tree/5d4eaca0c9fa3d555c79dbacdccb9169fdf64b65/base/loading.jl#L97\" target=\"_blank\">loading.jl:97</a></li> <li> show(io::<b>IO</b>, pkg::<b>Base.PkgId</b>) in Base at <a href=\"https://github.com/JuliaLang/julia/tree/5d4eaca0c9fa3d555c79dbacdccb9169fdf64b65/base/loading.jl#L175\" target=\"_blank\">loading.jl:175</a></li> <li> show(io::<b>IO</b>, ex::<b>Base.PrecompilableError</b>) in Base at <a href=\"https://github.com/JuliaLang/julia/tree/5d4eaca0c9fa3d555c79dbacdccb9169fdf64b65/base/loading.jl#L764\" target=\"_blank\">loading.jl:764</a></li> <li> show(io::<b>IO</b>, ::<b>MIME{Symbol(\"text/html\")}</b>, h::<b>HTML{#s549} where #s549<:Function</b>) in Base.Docs at <a href=\"https://github.com/JuliaLang/julia/tree/5d4eaca0c9fa3d555c79dbacdccb9169fdf64b65/base/docs/utils.jl#L35\" target=\"_blank\">docs/utils.jl:35</a></li> <li> show(io::<b>IO</b>, ::<b>MIME{Symbol(\"text/html\")}</b>, h::<b>HTML</b>) in Base.Docs at <a href=\"https://github.com/JuliaLang/julia/tree/5d4eaca0c9fa3d555c79dbacdccb9169fdf64b65/base/docs/utils.jl#L34\" target=\"_blank\">docs/utils.jl:34</a></li> <li> show(io::<b>IO</b>, ::<b>MIME{Symbol(\"text/markdown\")}</b>, md::<b>Markdown.MD</b>) in Markdown at <a href=\"file:///buildworker/worker/package_linux64/build/usr/share/julia/stdlib/v1.0/Markdown/src/render/plain.jl\" target=\"_blank\">/buildworker/worker/package_linux64/build/usr/share/julia/stdlib/v1.0/Markdown/src/render/plain.jl:140</a></li> <li> show(io::<b>IO</b>, ::<b>MIME{Symbol(\"text/html\")}</b>, md::<b>Markdown.MD</b>) in Markdown at <a href=\"file:///buildworker/worker/package_linux64/build/usr/share/julia/stdlib/v1.0/Markdown/src/render/html.jl\" target=\"_blank\">/buildworker/worker/package_linux64/build/usr/share/julia/stdlib/v1.0/Markdown/src/render/html.jl:188</a></li> <li> show(io::<b>IO</b>, ::<b>MIME{Symbol(\"text/latex\")}</b>, md::<b>Markdown.HorizontalRule</b>) in Markdown at <a href=\"file:///buildworker/worker/package_linux64/build/usr/share/julia/stdlib/v1.0/Markdown/src/render/latex.jl\" target=\"_blank\">/buildworker/worker/package_linux64/build/usr/share/julia/stdlib/v1.0/Markdown/src/render/latex.jl:104</a></li> <li> show(io::<b>IO</b>, ::<b>MIME{Symbol(\"text/latex\")}</b>, md::<b>Markdown.MD</b>) in Markdown at <a href=\"file:///buildworker/worker/package_linux64/build/usr/share/julia/stdlib/v1.0/Markdown/src/render/latex.jl\" target=\"_blank\">/buildworker/worker/package_linux64/build/usr/share/julia/stdlib/v1.0/Markdown/src/render/latex.jl:172</a></li> <li> show(io::<b>IO</b>, ::<b>MIME{Symbol(\"text/rst\")}</b>, md::<b>Markdown.MD</b>) in Markdown at <a href=\"file:///buildworker/worker/package_linux64/build/usr/share/julia/stdlib/v1.0/Markdown/src/render/rst.jl\" target=\"_blank\">/buildworker/worker/package_linux64/build/usr/share/julia/stdlib/v1.0/Markdown/src/render/rst.jl:145</a></li> <li> show(io::<b>IO</b>, ::<b>MIME{Symbol(\"text/csv\")}</b>, a) in DelimitedFiles at <a href=\"file:///buildworker/worker/package_linux64/build/usr/share/julia/stdlib/v1.0/DelimitedFiles/src/DelimitedFiles.jl\" target=\"_blank\">/buildworker/worker/package_linux64/build/usr/share/julia/stdlib/v1.0/DelimitedFiles/src/DelimitedFiles.jl:828</a></li> <li> show(io::<b>IO</b>, ::<b>MIME{Symbol(\"text/tab-separated-values\")}</b>, a) in DelimitedFiles at <a href=\"file:///buildworker/worker/package_linux64/build/usr/share/julia/stdlib/v1.0/DelimitedFiles/src/DelimitedFiles.jl\" target=\"_blank\">/buildworker/worker/package_linux64/build/usr/share/julia/stdlib/v1.0/DelimitedFiles/src/DelimitedFiles.jl:829</a></li> <li> show<i>{mime}</i>(io::<b>IO</b>, ::<b>MIME{mime}</b>) in Base.Multimedia at <a href=\"https://github.com/JuliaLang/julia/tree/5d4eaca0c9fa3d555c79dbacdccb9169fdf64b65/base/multimedia.jl#L20\" target=\"_blank\">multimedia.jl:20</a></li> <li> show(io::<b>IO</b>, m::<b>AbstractString</b>, x) in Base.Multimedia at <a href=\"https://github.com/JuliaLang/julia/tree/5d4eaca0c9fa3d555c79dbacdccb9169fdf64b65/base/multimedia.jl#L79\" target=\"_blank\">multimedia.jl:79</a></li> <li> show(io::<b>IO</b>, b::<b>Base.Docs.Binding</b>) in Base.Docs at <a href=\"https://github.com/JuliaLang/julia/tree/5d4eaca0c9fa3d555c79dbacdccb9169fdf64b65/base/docs/bindings.jl#L35\" target=\"_blank\">docs/bindings.jl:35</a></li> <li> show(io::<b>IO</b>, t::<b>Text</b>) in Base.Docs at <a href=\"https://github.com/JuliaLang/julia/tree/5d4eaca0c9fa3d555c79dbacdccb9169fdf64b65/base/docs/utils.jl#L73\" target=\"_blank\">docs/utils.jl:73</a></li> <li> show(io::<b>IO</b>, ::<b>SHA.SHA1_CTX</b>) in SHA at <a href=\"file:///buildworker/worker/package_linux64/build/usr/share/julia/stdlib/v1.0/SHA/src/types.jl\" target=\"_blank\">/buildworker/worker/package_linux64/build/usr/share/julia/stdlib/v1.0/SHA/src/types.jl:143</a></li> <li> show(io::<b>IO</b>, ::<b>SHA.SHA2_224_CTX</b>) in SHA at <a href=\"file:///buildworker/worker/package_linux64/build/usr/share/julia/stdlib/v1.0/SHA/src/types.jl\" target=\"_blank\">/buildworker/worker/package_linux64/build/usr/share/julia/stdlib/v1.0/SHA/src/types.jl:144</a></li> <li> show(io::<b>IO</b>, ::<b>SHA.SHA2_256_CTX</b>) in SHA at <a href=\"file:///buildworker/worker/package_linux64/build/usr/share/julia/stdlib/v1.0/SHA/src/types.jl\" target=\"_blank\">/buildworker/worker/package_linux64/build/usr/share/julia/stdlib/v1.0/SHA/src/types.jl:145</a></li> <li> show(io::<b>IO</b>, ::<b>SHA.SHA2_384_CTX</b>) in SHA at <a href=\"file:///buildworker/worker/package_linux64/build/usr/share/julia/stdlib/v1.0/SHA/src/types.jl\" target=\"_blank\">/buildworker/worker/package_linux64/build/usr/share/julia/stdlib/v1.0/SHA/src/types.jl:146</a></li> <li> show(io::<b>IO</b>, ::<b>SHA.SHA2_512_CTX</b>) in SHA at <a href=\"file:///buildworker/worker/package_linux64/build/usr/share/julia/stdlib/v1.0/SHA/src/types.jl\" target=\"_blank\">/buildworker/worker/package_linux64/build/usr/share/julia/stdlib/v1.0/SHA/src/types.jl:147</a></li> <li> show(io::<b>IO</b>, ::<b>SHA.SHA3_224_CTX</b>) in SHA at <a href=\"file:///buildworker/worker/package_linux64/build/usr/share/julia/stdlib/v1.0/SHA/src/types.jl\" target=\"_blank\">/buildworker/worker/package_linux64/build/usr/share/julia/stdlib/v1.0/SHA/src/types.jl:148</a></li> <li> show(io::<b>IO</b>, ::<b>SHA.SHA3_256_CTX</b>) in SHA at <a href=\"file:///buildworker/worker/package_linux64/build/usr/share/julia/stdlib/v1.0/SHA/src/types.jl\" target=\"_blank\">/buildworker/worker/package_linux64/build/usr/share/julia/stdlib/v1.0/SHA/src/types.jl:149</a></li> <li> show(io::<b>IO</b>, ::<b>SHA.SHA3_384_CTX</b>) in SHA at <a href=\"file:///buildworker/worker/package_linux64/build/usr/share/julia/stdlib/v1.0/SHA/src/types.jl\" target=\"_blank\">/buildworker/worker/package_linux64/build/usr/share/julia/stdlib/v1.0/SHA/src/types.jl:150</a></li> <li> show(io::<b>IO</b>, ::<b>SHA.SHA3_512_CTX</b>) in SHA at <a href=\"file:///buildworker/worker/package_linux64/build/usr/share/julia/stdlib/v1.0/SHA/src/types.jl\" target=\"_blank\">/buildworker/worker/package_linux64/build/usr/share/julia/stdlib/v1.0/SHA/src/types.jl:151</a></li> <li> show(io::<b>IO</b>, tex::<b>Markdown.LaTeX</b>) in Markdown at <a href=\"file:///buildworker/worker/package_linux64/build/usr/share/julia/stdlib/v1.0/Markdown/src/IPython/IPython.jl\" target=\"_blank\">/buildworker/worker/package_linux64/build/usr/share/julia/stdlib/v1.0/Markdown/src/IPython/IPython.jl:25</a></li> <li> show(io::<b>IO</b>, md::<b>Markdown.MD</b>) in Markdown at <a href=\"file:///buildworker/worker/package_linux64/build/usr/share/julia/stdlib/v1.0/Markdown/src/render/plain.jl\" target=\"_blank\">/buildworker/worker/package_linux64/build/usr/share/julia/stdlib/v1.0/Markdown/src/render/plain.jl:139</a></li> <li> show(io::<b>IO</b>, x::<b>LibGit2.Consts.OBJECT</b>) in LibGit2.Consts at <a href=\"file:///opt/julia-1.0.0/bin/../share/julia/base/Enums.jl\" target=\"_blank\">Enums.jl:149</a></li> <li> show(io::<b>IO</b>, x::<b>LibGit2.Consts.DELTA_STATUS</b>) in LibGit2.Consts at <a href=\"file:///opt/julia-1.0.0/bin/../share/julia/base/Enums.jl\" target=\"_blank\">Enums.jl:149</a></li> <li> show(io::<b>IO</b>, x::<b>LibGit2.Consts.GIT_MERGE</b>) in LibGit2.Consts at <a href=\"file:///opt/julia-1.0.0/bin/../share/julia/base/Enums.jl\" target=\"_blank\">Enums.jl:149</a></li> <li> show(io::<b>IO</b>, x::<b>LibGit2.Consts.GIT_MERGE_FILE</b>) in LibGit2.Consts at <a href=\"file:///opt/julia-1.0.0/bin/../share/julia/base/Enums.jl\" target=\"_blank\">Enums.jl:149</a></li> <li> show(io::<b>IO</b>, x::<b>LibGit2.Consts.GIT_MERGE_FILE_FAVOR</b>) in LibGit2.Consts at <a href=\"file:///opt/julia-1.0.0/bin/../share/julia/base/Enums.jl\" target=\"_blank\">Enums.jl:149</a></li> <li> show(io::<b>IO</b>, x::<b>LibGit2.Consts.GIT_MERGE_PREFERENCE</b>) in LibGit2.Consts at <a href=\"file:///opt/julia-1.0.0/bin/../share/julia/base/Enums.jl\" target=\"_blank\">Enums.jl:149</a></li> <li> show(io::<b>IO</b>, x::<b>LibGit2.Consts.GIT_MERGE_ANALYSIS</b>) in LibGit2.Consts at <a href=\"file:///opt/julia-1.0.0/bin/../share/julia/base/Enums.jl\" target=\"_blank\">Enums.jl:149</a></li> <li> show(io::<b>IO</b>, x::<b>LibGit2.Consts.GIT_REBASE_OPERATION</b>) in LibGit2.Consts at <a href=\"file:///opt/julia-1.0.0/bin/../share/julia/base/Enums.jl\" target=\"_blank\">Enums.jl:149</a></li> <li> show(io::<b>IO</b>, x::<b>LibGit2.Consts.GIT_SUBMODULE_IGNORE</b>) in LibGit2.Consts at <a href=\"file:///opt/julia-1.0.0/bin/../share/julia/base/Enums.jl\" target=\"_blank\">Enums.jl:149</a></li> <li> show(io::<b>IO</b>, x::<b>LibGit2.Consts.GIT_REPOSITORY_OPEN</b>) in LibGit2.Consts at <a href=\"file:///opt/julia-1.0.0/bin/../share/julia/base/Enums.jl\" target=\"_blank\">Enums.jl:149</a></li> <li> show(io::<b>IO</b>, x::<b>LibGit2.Consts.GIT_BRANCH</b>) in LibGit2.Consts at <a href=\"file:///opt/julia-1.0.0/bin/../share/julia/base/Enums.jl\" target=\"_blank\">Enums.jl:149</a></li> <li> show(io::<b>IO</b>, x::<b>LibGit2.Consts.GIT_FILEMODE</b>) in LibGit2.Consts at <a href=\"file:///opt/julia-1.0.0/bin/../share/julia/base/Enums.jl\" target=\"_blank\">Enums.jl:149</a></li> <li> show(io::<b>IO</b>, x::<b>LibGit2.Consts.GIT_CREDTYPE</b>) in LibGit2.Consts at <a href=\"file:///opt/julia-1.0.0/bin/../share/julia/base/Enums.jl\" target=\"_blank\">Enums.jl:149</a></li> <li> show(io::<b>IO</b>, x::<b>LibGit2.Consts.GIT_FEATURE</b>) in LibGit2.Consts at <a href=\"file:///opt/julia-1.0.0/bin/../share/julia/base/Enums.jl\" target=\"_blank\">Enums.jl:149</a></li> <li> show(io::<b>IO</b>, x::<b>LibGit2.Consts.GIT_CONFIG</b>) in LibGit2.Consts at <a href=\"file:///opt/julia-1.0.0/bin/../share/julia/base/Enums.jl\" target=\"_blank\">Enums.jl:149</a></li> <li> show(io::<b>IO</b>, x::<b>LibGit2.Consts.GIT_OPT</b>) in LibGit2.Consts at <a href=\"file:///opt/julia-1.0.0/bin/../share/julia/base/Enums.jl\" target=\"_blank\">Enums.jl:149</a></li> <li> show(io::<b>IO</b>, x::<b>LibGit2.Consts.GIT_PROXY</b>) in LibGit2.Consts at <a href=\"file:///opt/julia-1.0.0/bin/../share/julia/base/Enums.jl\" target=\"_blank\">Enums.jl:149</a></li> <li> show(io::<b>IO</b>, df::<b>LibGit2.DiffFile</b>) in LibGit2 at <a href=\"file:///buildworker/worker/package_linux64/build/usr/share/julia/stdlib/v1.0/LibGit2/src/types.jl\" target=\"_blank\">/buildworker/worker/package_linux64/build/usr/share/julia/stdlib/v1.0/LibGit2/src/types.jl:537</a></li> <li> show(io::<b>IO</b>, dd::<b>LibGit2.DiffDelta</b>) in LibGit2 at <a href=\"file:///buildworker/worker/package_linux64/build/usr/share/julia/stdlib/v1.0/LibGit2/src/types.jl\" target=\"_blank\">/buildworker/worker/package_linux64/build/usr/share/julia/stdlib/v1.0/LibGit2/src/types.jl:570</a></li> <li> show(io::<b>IO</b>, ie::<b>LibGit2.IndexEntry</b>) in LibGit2 at <a href=\"file:///buildworker/worker/package_linux64/build/usr/share/julia/stdlib/v1.0/LibGit2/src/types.jl\" target=\"_blank\">/buildworker/worker/package_linux64/build/usr/share/julia/stdlib/v1.0/LibGit2/src/types.jl:758</a></li> <li> show(io::<b>IO</b>, rbo::<b>LibGit2.RebaseOperation</b>) in LibGit2 at <a href=\"file:///buildworker/worker/package_linux64/build/usr/share/julia/stdlib/v1.0/LibGit2/src/types.jl\" target=\"_blank\">/buildworker/worker/package_linux64/build/usr/share/julia/stdlib/v1.0/LibGit2/src/types.jl:821</a></li> <li> show(io::<b>IO</b>, fh::<b>LibGit2.FetchHead</b>) in LibGit2 at <a href=\"file:///buildworker/worker/package_linux64/build/usr/share/julia/stdlib/v1.0/LibGit2/src/types.jl\" target=\"_blank\">/buildworker/worker/package_linux64/build/usr/share/julia/stdlib/v1.0/LibGit2/src/types.jl:899</a></li> <li> show(io::<b>IO</b>, ce::<b>LibGit2.ConfigEntry</b>) in LibGit2 at <a href=\"file:///buildworker/worker/package_linux64/build/usr/share/julia/stdlib/v1.0/LibGit2/src/types.jl\" target=\"_blank\">/buildworker/worker/package_linux64/build/usr/share/julia/stdlib/v1.0/LibGit2/src/types.jl:922</a></li> <li> show(io::<b>IO</b>, x::<b>LibGit2.Error.Code</b>) in LibGit2.Error at <a href=\"file:///opt/julia-1.0.0/bin/../share/julia/base/Enums.jl\" target=\"_blank\">Enums.jl:149</a></li> <li> show(io::<b>IO</b>, x::<b>LibGit2.Error.Class</b>) in LibGit2.Error at <a href=\"file:///opt/julia-1.0.0/bin/../share/julia/base/Enums.jl\" target=\"_blank\">Enums.jl:149</a></li> <li> show(io::<b>IO</b>, err::<b>LibGit2.Error.GitError</b>) in LibGit2.Error at <a href=\"file:///buildworker/worker/package_linux64/build/usr/share/julia/stdlib/v1.0/LibGit2/src/error.jl\" target=\"_blank\">/buildworker/worker/package_linux64/build/usr/share/julia/stdlib/v1.0/LibGit2/src/error.jl:73</a></li> <li> show(io::<b>IO</b>, sig::<b>LibGit2.Signature</b>) in LibGit2 at <a href=\"file:///buildworker/worker/package_linux64/build/usr/share/julia/stdlib/v1.0/LibGit2/src/signature.jl\" target=\"_blank\">/buildworker/worker/package_linux64/build/usr/share/julia/stdlib/v1.0/LibGit2/src/signature.jl:59</a></li> <li> show(io::<b>IO</b>, id::<b>LibGit2.GitHash</b>) in LibGit2 at <a href=\"file:///buildworker/worker/package_linux64/build/usr/share/julia/stdlib/v1.0/LibGit2/src/oid.jl\" target=\"_blank\">/buildworker/worker/package_linux64/build/usr/share/julia/stdlib/v1.0/LibGit2/src/oid.jl:182</a></li> <li> show(io::<b>IO</b>, id::<b>LibGit2.GitShortHash</b>) in LibGit2 at <a href=\"file:///buildworker/worker/package_linux64/build/usr/share/julia/stdlib/v1.0/LibGit2/src/oid.jl\" target=\"_blank\">/buildworker/worker/package_linux64/build/usr/share/julia/stdlib/v1.0/LibGit2/src/oid.jl:183</a></li> <li> show(io::<b>IO</b>, ref::<b>LibGit2.GitReference</b>) in LibGit2 at <a href=\"file:///buildworker/worker/package_linux64/build/usr/share/julia/stdlib/v1.0/LibGit2/src/reference.jl\" target=\"_blank\">/buildworker/worker/package_linux64/build/usr/share/julia/stdlib/v1.0/LibGit2/src/reference.jl:171</a></li> <li> show(io::<b>IO</b>, c::<b>LibGit2.GitCommit</b>) in LibGit2 at <a href=\"file:///buildworker/worker/package_linux64/build/usr/share/julia/stdlib/v1.0/LibGit2/src/commit.jl\" target=\"_blank\">/buildworker/worker/package_linux64/build/usr/share/julia/stdlib/v1.0/LibGit2/src/commit.jl:59</a></li> <li> show(io::<b>IO</b>, result::<b>LibGit2.GitDescribeResult</b>) in LibGit2 at <a href=\"file:///buildworker/worker/package_linux64/build/usr/share/julia/stdlib/v1.0/LibGit2/src/repository.jl\" target=\"_blank\">/buildworker/worker/package_linux64/build/usr/share/julia/stdlib/v1.0/LibGit2/src/repository.jl:342</a></li> <li> show(io::<b>IO</b>, repo::<b>LibGit2.GitRepo</b>) in LibGit2 at <a href=\"file:///buildworker/worker/package_linux64/build/usr/share/julia/stdlib/v1.0/LibGit2/src/repository.jl\" target=\"_blank\">/buildworker/worker/package_linux64/build/usr/share/julia/stdlib/v1.0/LibGit2/src/repository.jl:516</a></li> <li> show(io::<b>IO</b>, rmt::<b>LibGit2.GitRemote</b>) in LibGit2 at <a href=\"file:///buildworker/worker/package_linux64/build/usr/share/julia/stdlib/v1.0/LibGit2/src/remote.jl\" target=\"_blank\">/buildworker/worker/package_linux64/build/usr/share/julia/stdlib/v1.0/LibGit2/src/remote.jl:341</a></li> <li> show(io::<b>IO</b>, idx::<b>LibGit2.GitIndex</b>) in LibGit2 at <a href=\"file:///buildworker/worker/package_linux64/build/usr/share/julia/stdlib/v1.0/LibGit2/src/index.jl\" target=\"_blank\">/buildworker/worker/package_linux64/build/usr/share/julia/stdlib/v1.0/LibGit2/src/index.jl:217</a></li> <li> show(io::<b>IO</b>, tag::<b>LibGit2.GitTag</b>) in LibGit2 at <a href=\"file:///buildworker/worker/package_linux64/build/usr/share/julia/stdlib/v1.0/LibGit2/src/tag.jl\" target=\"_blank\">/buildworker/worker/package_linux64/build/usr/share/julia/stdlib/v1.0/LibGit2/src/tag.jl:88</a></li> <li> show(io::<b>IO</b>, blob::<b>LibGit2.GitBlob</b>) in LibGit2 at <a href=\"file:///buildworker/worker/package_linux64/build/usr/share/julia/stdlib/v1.0/LibGit2/src/blob.jl\" target=\"_blank\">/buildworker/worker/package_linux64/build/usr/share/julia/stdlib/v1.0/LibGit2/src/blob.jl:77</a></li> <li> show(io::<b>IO</b>, diff_stat::<b>LibGit2.GitDiffStats</b>) in LibGit2 at <a href=\"file:///buildworker/worker/package_linux64/build/usr/share/julia/stdlib/v1.0/LibGit2/src/diff.jl\" target=\"_blank\">/buildworker/worker/package_linux64/build/usr/share/julia/stdlib/v1.0/LibGit2/src/diff.jl:132</a></li> <li> show(io::<b>IO</b>, diff::<b>LibGit2.GitDiff</b>) in LibGit2 at <a href=\"file:///buildworker/worker/package_linux64/build/usr/share/julia/stdlib/v1.0/LibGit2/src/diff.jl\" target=\"_blank\">/buildworker/worker/package_linux64/build/usr/share/julia/stdlib/v1.0/LibGit2/src/diff.jl:139</a></li> <li> show(io::<b>IO</b>, rb::<b>LibGit2.GitRebase</b>) in LibGit2 at <a href=\"file:///buildworker/worker/package_linux64/build/usr/share/julia/stdlib/v1.0/LibGit2/src/rebase.jl\" target=\"_blank\">/buildworker/worker/package_linux64/build/usr/share/julia/stdlib/v1.0/LibGit2/src/rebase.jl:66</a></li> <li> show(io::<b>IO</b>, blame_hunk::<b>LibGit2.BlameHunk</b>) in LibGit2 at <a href=\"file:///buildworker/worker/package_linux64/build/usr/share/julia/stdlib/v1.0/LibGit2/src/blame.jl\" target=\"_blank\">/buildworker/worker/package_linux64/build/usr/share/julia/stdlib/v1.0/LibGit2/src/blame.jl:48</a></li> <li> show(io::<b>IO</b>, te::<b>LibGit2.GitTreeEntry</b>) in LibGit2 at <a href=\"file:///buildworker/worker/package_linux64/build/usr/share/julia/stdlib/v1.0/LibGit2/src/tree.jl\" target=\"_blank\">/buildworker/worker/package_linux64/build/usr/share/julia/stdlib/v1.0/LibGit2/src/tree.jl:137</a></li> <li> show(io::<b>IO</b>, tree::<b>LibGit2.GitTree</b>) in LibGit2 at <a href=\"file:///buildworker/worker/package_linux64/build/usr/share/julia/stdlib/v1.0/LibGit2/src/tree.jl\" target=\"_blank\">/buildworker/worker/package_linux64/build/usr/share/julia/stdlib/v1.0/LibGit2/src/tree.jl:144</a></li> <li> show(io::<b>IO</b>, ip::<b>Sockets.IPv4</b>) in Sockets at <a href=\"file:///buildworker/worker/package_linux64/build/usr/share/julia/stdlib/v1.0/Sockets/src/IPAddr.jl\" target=\"_blank\">/buildworker/worker/package_linux64/build/usr/share/julia/stdlib/v1.0/Sockets/src/IPAddr.jl:46</a></li> <li> show(io::<b>IO</b>, ip::<b>Sockets.IPv6</b>) in Sockets at <a href=\"file:///buildworker/worker/package_linux64/build/usr/share/julia/stdlib/v1.0/Sockets/src/IPAddr.jl\" target=\"_blank\">/buildworker/worker/package_linux64/build/usr/share/julia/stdlib/v1.0/Sockets/src/IPAddr.jl:110</a></li> <li> show(io::<b>IO</b>, err::<b>Sockets.DNSError</b>) in Sockets at <a href=\"file:///buildworker/worker/package_linux64/build/usr/share/julia/stdlib/v1.0/Sockets/src/addrinfo.jl\" target=\"_blank\">/buildworker/worker/package_linux64/build/usr/share/julia/stdlib/v1.0/Sockets/src/addrinfo.jl:9</a></li> <li> show(io::<b>IO</b>, x::<b>Dates.Period</b>) in Dates at <a href=\"file:///buildworker/worker/package_linux64/build/usr/share/julia/stdlib/v1.0/Dates/src/periods.jl\" target=\"_blank\">/buildworker/worker/package_linux64/build/usr/share/julia/stdlib/v1.0/Dates/src/periods.jl:43</a></li> <li> show(io::<b>IO</b>, x::<b>Dates.CompoundPeriod</b>) in Dates at <a href=\"file:///buildworker/worker/package_linux64/build/usr/share/julia/stdlib/v1.0/Dates/src/periods.jl\" target=\"_blank\">/buildworker/worker/package_linux64/build/usr/share/julia/stdlib/v1.0/Dates/src/periods.jl:343</a></li> <li> show(io::<b>IO</b>, df::<b>Dates.DateFunction</b>) in Dates at <a href=\"file:///buildworker/worker/package_linux64/build/usr/share/julia/stdlib/v1.0/Dates/src/adjusters.jl\" target=\"_blank\">/buildworker/worker/package_linux64/build/usr/share/julia/stdlib/v1.0/Dates/src/adjusters.jl:194</a></li> <li> show(io::<b>IO</b>, x::<b>Dates.Time</b>) in Dates at <a href=\"file:///buildworker/worker/package_linux64/build/usr/share/julia/stdlib/v1.0/Dates/src/io.jl\" target=\"_blank\">/buildworker/worker/package_linux64/build/usr/share/julia/stdlib/v1.0/Dates/src/io.jl:54</a></li> <li> show<i>{c}</i>(io::<b>IO</b>, d::<b>Dates.DatePart{c}</b>) in Dates at <a href=\"file:///buildworker/worker/package_linux64/build/usr/share/julia/stdlib/v1.0/Dates/src/io.jl\" target=\"_blank\">/buildworker/worker/package_linux64/build/usr/share/julia/stdlib/v1.0/Dates/src/io.jl:83</a></li> <li> show(io::<b>IO</b>, d::<b>Dates.Delim</b>) in Dates at <a href=\"file:///buildworker/worker/package_linux64/build/usr/share/julia/stdlib/v1.0/Dates/src/io.jl\" target=\"_blank\">/buildworker/worker/package_linux64/build/usr/share/julia/stdlib/v1.0/Dates/src/io.jl:241</a></li> <li> show(io::<b>IO</b>, df::<b>Dates.DateFormat</b>) in Dates at <a href=\"file:///buildworker/worker/package_linux64/build/usr/share/julia/stdlib/v1.0/Dates/src/io.jl\" target=\"_blank\">/buildworker/worker/package_linux64/build/usr/share/julia/stdlib/v1.0/Dates/src/io.jl:375</a></li> <li> show(io::<b>IO</b>, dt::<b>Dates.DateTime</b>) in Dates at <a href=\"file:///buildworker/worker/package_linux64/build/usr/share/julia/stdlib/v1.0/Dates/src/io.jl\" target=\"_blank\">/buildworker/worker/package_linux64/build/usr/share/julia/stdlib/v1.0/Dates/src/io.jl:533</a></li> <li> show(io::<b>IO</b>, dt::<b>Dates.Date</b>) in Dates at <a href=\"file:///buildworker/worker/package_linux64/build/usr/share/julia/stdlib/v1.0/Dates/src/io.jl\" target=\"_blank\">/buildworker/worker/package_linux64/build/usr/share/julia/stdlib/v1.0/Dates/src/io.jl:541</a></li> <li> show(io::<b>IO</b>, C::<b>LinearAlgebra.LQ</b>) in LinearAlgebra at <a href=\"file:///buildworker/worker/package_linux64/build/usr/share/julia/stdlib/v1.0/LinearAlgebra/src/lq.jl\" target=\"_blank\">/buildworker/worker/package_linux64/build/usr/share/julia/stdlib/v1.0/LinearAlgebra/src/lq.jl:108</a></li> <li> show(io::<b>IO</b>, J::<b>LinearAlgebra.UniformScaling</b>) in LinearAlgebra at <a href=\"file:///buildworker/worker/package_linux64/build/usr/share/julia/stdlib/v1.0/LinearAlgebra/src/uniformscaling.jl\" target=\"_blank\">/buildworker/worker/package_linux64/build/usr/share/julia/stdlib/v1.0/LinearAlgebra/src/uniformscaling.jl:57</a></li> <li> show(io::<b>IO</b>, F::<b>SuiteSparse.UMFPACK.UmfpackLU</b>) in SuiteSparse.UMFPACK at <a href=\"file:///buildworker/worker/package_linux64/build/usr/share/julia/stdlib/v1.0/SuiteSparse/src/umfpack.jl\" target=\"_blank\">/buildworker/worker/package_linux64/build/usr/share/julia/stdlib/v1.0/SuiteSparse/src/umfpack.jl:191</a></li> <li> show(io::<b>IO</b>, F::<b>SuiteSparse.CHOLMOD.Factor</b>) in SuiteSparse.CHOLMOD at <a href=\"file:///buildworker/worker/package_linux64/build/usr/share/julia/stdlib/v1.0/SuiteSparse/src/cholmod.jl\" target=\"_blank\">/buildworker/worker/package_linux64/build/usr/share/julia/stdlib/v1.0/SuiteSparse/src/cholmod.jl:1195</a></li> <li> show(io::<b>IO</b>, x::<b>Distributed.WorkerState</b>) in Distributed at <a href=\"file:///opt/julia-1.0.0/bin/../share/julia/base/Enums.jl\" target=\"_blank\">Enums.jl:149</a></li> <li> show(io::<b>IO</b>, x::<b>REPL.LineEdit.Prompt</b>) in REPL.LineEdit at <a href=\"file:///buildworker/worker/package_linux64/build/usr/share/julia/stdlib/v1.0/REPL/src/LineEdit.jl\" target=\"_blank\">/buildworker/worker/package_linux64/build/usr/share/julia/stdlib/v1.0/REPL/src/LineEdit.jl:42</a></li> <li> show(io::<b>IO</b>, s::<b>REPL.LineEdit.MIState</b>) in REPL.LineEdit at <a href=\"file:///buildworker/worker/package_linux64/build/usr/share/julia/stdlib/v1.0/REPL/src/LineEdit.jl\" target=\"_blank\">/buildworker/worker/package_linux64/build/usr/share/julia/stdlib/v1.0/REPL/src/LineEdit.jl:61</a></li> <li> show(io::<b>IO</b>, s::<b>REPL.LineEdit.PrefixSearchState</b>) in REPL.LineEdit at <a href=\"file:///buildworker/worker/package_linux64/build/usr/share/julia/stdlib/v1.0/REPL/src/LineEdit.jl\" target=\"_blank\">/buildworker/worker/package_linux64/build/usr/share/julia/stdlib/v1.0/REPL/src/LineEdit.jl:1615</a></li> <li> show(io::<b>IO</b>, x::<b>REPL.TerminalMenus.Key</b>) in REPL.TerminalMenus at <a href=\"file:///opt/julia-1.0.0/bin/../share/julia/base/Enums.jl\" target=\"_blank\">Enums.jl:149</a></li> <li> show(io::<b>IO</b>, tbl::<b>Pkg.TOML.Table</b>) in Pkg.TOML at <a href=\"file:///buildworker/worker/package_linux64/build/usr/share/julia/stdlib/v1.0/Pkg/ext/TOML/src/parser.jl\" target=\"_blank\">/buildworker/worker/package_linux64/build/usr/share/julia/stdlib/v1.0/Pkg/ext/TOML/src/parser.jl:11</a></li> <li> show(io::<b>IO</b>, tbl::<b>Pkg.TOML.Table</b>, level::<b>Int64</b>) in Pkg.TOML at <a href=\"file:///buildworker/worker/package_linux64/build/usr/share/julia/stdlib/v1.0/Pkg/ext/TOML/src/parser.jl\" target=\"_blank\">/buildworker/worker/package_linux64/build/usr/share/julia/stdlib/v1.0/Pkg/ext/TOML/src/parser.jl:11</a></li> <li> show(io::<b>IO</b>, r::<b>Pkg.Types.VersionRange</b>) in Pkg.Types at <a href=\"file:///buildworker/worker/package_linux64/build/usr/share/julia/stdlib/v1.0/Pkg/src/versions.jl\" target=\"_blank\">/buildworker/worker/package_linux64/build/usr/share/julia/stdlib/v1.0/Pkg/src/versions.jl:138</a></li> <li> show(io::<b>IO</b>, s::<b>Pkg.Types.VersionSpec</b>) in Pkg.Types at <a href=\"file:///buildworker/worker/package_linux64/build/usr/share/julia/stdlib/v1.0/Pkg/src/versions.jl\" target=\"_blank\">/buildworker/worker/package_linux64/build/usr/share/julia/stdlib/v1.0/Pkg/src/versions.jl:244</a></li> <li> show(io::<b>IO</b>, f::<b>Pkg.Types.Fixed</b>) in Pkg.Types at <a href=\"file:///buildworker/worker/package_linux64/build/usr/share/julia/stdlib/v1.0/Pkg/src/Types.jl\" target=\"_blank\">/buildworker/worker/package_linux64/build/usr/share/julia/stdlib/v1.0/Pkg/src/Types.jl:87</a></li> <li> show(io::<b>IO</b>, err::<b>Pkg.Types.PkgError</b>) in Pkg.Types at <a href=\"file:///buildworker/worker/package_linux64/build/usr/share/julia/stdlib/v1.0/Pkg/src/Types.jl\" target=\"_blank\">/buildworker/worker/package_linux64/build/usr/share/julia/stdlib/v1.0/Pkg/src/Types.jl:121</a></li> <li> show(io::<b>IO</b>, x::<b>Pkg.Types.UpgradeLevel</b>) in Pkg.Types at <a href=\"file:///opt/julia-1.0.0/bin/../share/julia/base/Enums.jl\" target=\"_blank\">Enums.jl:149</a></li> <li> show(io::<b>IO</b>, x::<b>Pkg.Types.PackageMode</b>) in Pkg.Types at <a href=\"file:///opt/julia-1.0.0/bin/../share/julia/base/Enums.jl\" target=\"_blank\">Enums.jl:149</a></li> <li> show(io::<b>IO</b>, x::<b>Pkg.Types.PackageSpecialAction</b>) in Pkg.Types at <a href=\"file:///opt/julia-1.0.0/bin/../share/julia/base/Enums.jl\" target=\"_blank\">Enums.jl:149</a></li> <li> show(io::<b>IO</b>, pkg::<b>Pkg.Types.PackageSpec</b>) in Pkg.Types at <a href=\"file:///buildworker/worker/package_linux64/build/usr/share/julia/stdlib/v1.0/Pkg/src/Types.jl\" target=\"_blank\">/buildworker/worker/package_linux64/build/usr/share/julia/stdlib/v1.0/Pkg/src/Types.jl:194</a></li> <li> show(io::<b>IO</b>, i::<b>Pkg.Pkg2.Pkg2Types.VersionInterval</b>) in Pkg.Pkg2.Pkg2Types at <a href=\"file:///buildworker/worker/package_linux64/build/usr/share/julia/stdlib/v1.0/Pkg/src/Pkg2/types.jl\" target=\"_blank\">/buildworker/worker/package_linux64/build/usr/share/julia/stdlib/v1.0/Pkg/src/Pkg2/types.jl:20</a></li> <li> show(io::<b>IO</b>, s::<b>Pkg.Pkg2.Pkg2Types.VersionSet</b>) in Pkg.Pkg2.Pkg2Types at <a href=\"file:///buildworker/worker/package_linux64/build/usr/share/julia/stdlib/v1.0/Pkg/src/Pkg2/types.jl\" target=\"_blank\">/buildworker/worker/package_linux64/build/usr/share/julia/stdlib/v1.0/Pkg/src/Pkg2/types.jl:119</a></li> <li> show(io::<b>IO</b>, a::<b>Pkg.Resolve.VersionWeights.VersionWeight</b>) in Pkg.Resolve.VersionWeights at <a href=\"file:///buildworker/worker/package_linux64/build/usr/share/julia/stdlib/v1.0/Pkg/src/resolve/VersionWeights.jl\" target=\"_blank\">/buildworker/worker/package_linux64/build/usr/share/julia/stdlib/v1.0/Pkg/src/resolve/VersionWeights.jl:48</a></li> <li> show(io::<b>IO</b>, a::<b>Pkg.Resolve.MaxSum.FieldValues.FieldValue</b>) in Pkg.Resolve.MaxSum.FieldValues at <a href=\"file:///buildworker/worker/package_linux64/build/usr/share/julia/stdlib/v1.0/Pkg/src/resolve/FieldValues.jl\" target=\"_blank\">/buildworker/worker/package_linux64/build/usr/share/julia/stdlib/v1.0/Pkg/src/resolve/FieldValues.jl:32</a></li> <li> show(io::<b>IO</b>, x::<b>Pkg.REPLMode.OptionClass</b>) in Pkg.REPLMode at <a href=\"file:///opt/julia-1.0.0/bin/../share/julia/base/Enums.jl\" target=\"_blank\">Enums.jl:149</a></li> <li> show(io::<b>IO</b>, opt::<b>Pkg.REPLMode.Option</b>) in Pkg.REPLMode at <a href=\"file:///buildworker/worker/package_linux64/build/usr/share/julia/stdlib/v1.0/Pkg/src/REPLMode.jl\" target=\"_blank\">/buildworker/worker/package_linux64/build/usr/share/julia/stdlib/v1.0/Pkg/src/REPLMode.jl:74</a></li> <li> show(io::<b>IO</b>, x::<b>Pkg.REPLMode.CommandKind</b>) in Pkg.REPLMode at <a href=\"file:///opt/julia-1.0.0/bin/../share/julia/base/Enums.jl\" target=\"_blank\">Enums.jl:149</a></li> <li> show(io::<b>IO</b>, x::<b>Pkg.REPLMode.ArgClass</b>) in Pkg.REPLMode at <a href=\"file:///opt/julia-1.0.0/bin/../share/julia/base/Enums.jl\" target=\"_blank\">Enums.jl:149</a></li> <li> show(io::<b>IO</b>, t::<b>Test.Pass</b>) in Test at <a href=\"file:///buildworker/worker/package_linux64/build/usr/share/julia/stdlib/v1.0/Test/src/Test.jl\" target=\"_blank\">/buildworker/worker/package_linux64/build/usr/share/julia/stdlib/v1.0/Test/src/Test.jl:73</a></li> <li> show(io::<b>IO</b>, t::<b>Test.Fail</b>) in Test at <a href=\"file:///buildworker/worker/package_linux64/build/usr/share/julia/stdlib/v1.0/Test/src/Test.jl\" target=\"_blank\">/buildworker/worker/package_linux64/build/usr/share/julia/stdlib/v1.0/Test/src/Test.jl:101</a></li> <li> show(io::<b>IO</b>, t::<b>Test.Error</b>) in Test at <a href=\"file:///buildworker/worker/package_linux64/build/usr/share/julia/stdlib/v1.0/Test/src/Test.jl\" target=\"_blank\">/buildworker/worker/package_linux64/build/usr/share/julia/stdlib/v1.0/Test/src/Test.jl:152</a></li> <li> show(io::<b>IO</b>, t::<b>Test.Broken</b>) in Test at <a href=\"file:///buildworker/worker/package_linux64/build/usr/share/julia/stdlib/v1.0/Test/src/Test.jl\" target=\"_blank\">/buildworker/worker/package_linux64/build/usr/share/julia/stdlib/v1.0/Test/src/Test.jl:194</a></li> <li> show(io::<b>IO</b>, ex::<b>Test.TestSetException</b>) in Test at <a href=\"file:///buildworker/worker/package_linux64/build/usr/share/julia/stdlib/v1.0/Test/src/Test.jl\" target=\"_blank\">/buildworker/worker/package_linux64/build/usr/share/julia/stdlib/v1.0/Test/src/Test.jl:673</a></li> <li> show(io::<b>IO</b>, t::<b>Test.LogTestFailure</b>) in Test at <a href=\"file:///buildworker/worker/package_linux64/build/usr/share/julia/stdlib/v1.0/Test/src/logging.jl\" target=\"_blank\">/buildworker/worker/package_linux64/build/usr/share/julia/stdlib/v1.0/Test/src/logging.jl:67</a></li> <li> show(io::<b>IO</b>, err::<b>MbedTLS.MbedException</b>) in MbedTLS at <a href=\"file:///home/jupyter/.julia/packages/MbedTLS/Qo8TN/src/error.jl\" target=\"_blank\">/home/jupyter/.julia/packages/MbedTLS/Qo8TN/src/error.jl:14</a></li> <li> show(io::<b>IO</b>, x::<b>MbedTLS.MDKind</b>) in MbedTLS at <a href=\"file:///opt/julia-1.0.0/bin/../share/julia/base/Enums.jl\" target=\"_blank\">Enums.jl:149</a></li> <li> show(io::<b>IO</b>, info::<b>MbedTLS.MDInfo</b>) in MbedTLS at <a href=\"file:///home/jupyter/.julia/packages/MbedTLS/Qo8TN/src/md.jl\" target=\"_blank\">/home/jupyter/.julia/packages/MbedTLS/Qo8TN/src/md.jl:58</a></li> <li> show(io::<b>IO</b>, md::<b>MbedTLS.MD{true}</b>) in MbedTLS at <a href=\"file:///home/jupyter/.julia/packages/MbedTLS/Qo8TN/src/md.jl\" target=\"_blank\">/home/jupyter/.julia/packages/MbedTLS/Qo8TN/src/md.jl:62</a></li> <li> show(io::<b>IO</b>, md::<b>MbedTLS.MD{false}</b>) in MbedTLS at <a href=\"file:///home/jupyter/.julia/packages/MbedTLS/Qo8TN/src/md.jl\" target=\"_blank\">/home/jupyter/.julia/packages/MbedTLS/Qo8TN/src/md.jl:66</a></li> <li> show(io::<b>IO</b>, x::<b>MbedTLS.CipherID</b>) in MbedTLS at <a href=\"file:///opt/julia-1.0.0/bin/../share/julia/base/Enums.jl\" target=\"_blank\">Enums.jl:149</a></li> <li> show(io::<b>IO</b>, x::<b>MbedTLS.CipherKind</b>) in MbedTLS at <a href=\"file:///opt/julia-1.0.0/bin/../share/julia/base/Enums.jl\" target=\"_blank\">Enums.jl:149</a></li> <li> show(io::<b>IO</b>, x::<b>MbedTLS.CipherMode</b>) in MbedTLS at <a href=\"file:///opt/julia-1.0.0/bin/../share/julia/base/Enums.jl\" target=\"_blank\">Enums.jl:149</a></li> <li> show(io::<b>IO</b>, x::<b>MbedTLS.Padding</b>) in MbedTLS at <a href=\"file:///opt/julia-1.0.0/bin/../share/julia/base/Enums.jl\" target=\"_blank\">Enums.jl:149</a></li> <li> show(io::<b>IO</b>, x::<b>MbedTLS.Operation</b>) in MbedTLS at <a href=\"file:///opt/julia-1.0.0/bin/../share/julia/base/Enums.jl\" target=\"_blank\">Enums.jl:149</a></li> <li> show(io::<b>IO</b>, cipher::<b>MbedTLS.Cipher</b>) in MbedTLS at <a href=\"file:///home/jupyter/.julia/packages/MbedTLS/Qo8TN/src/cipher.jl\" target=\"_blank\">/home/jupyter/.julia/packages/MbedTLS/Qo8TN/src/cipher.jl:185</a></li> <li> show(io::<b>IO</b>, crt::<b>MbedTLS.CRT</b>) in MbedTLS at <a href=\"file:///home/jupyter/.julia/packages/MbedTLS/Qo8TN/src/x509_crt.jl\" target=\"_blank\">/home/jupyter/.julia/packages/MbedTLS/Qo8TN/src/x509_crt.jl:16</a></li> <li> show(io::<b>IO</b>, c::<b>MbedTLS.SSLConfig</b>) in MbedTLS at <a href=\"file:///home/jupyter/.julia/packages/MbedTLS/Qo8TN/src/ssl.jl\" target=\"_blank\">/home/jupyter/.julia/packages/MbedTLS/Qo8TN/src/ssl.jl:22</a></li> <li> show(io::<b>IO</b>, x::<b>MbedTLS.DebugThreshold</b>) in MbedTLS at <a href=\"file:///opt/julia-1.0.0/bin/../share/julia/base/Enums.jl\" target=\"_blank\">Enums.jl:149</a></li> <li> show(io::<b>IO</b>, msg::<b>IJulia.Msg</b>) in IJulia at <a href=\"file:///home/jupyter/.julia/packages/IJulia/k5o7j/src/msg.jl\" target=\"_blank\">/home/jupyter/.julia/packages/IJulia/k5o7j/src/msg.jl:38</a></li> <li> show(io::<b>IO</b>, time::<b>MyTime</b>) in Main at In[121]:2</li> <li> show(io::<b>IO</b>, x) in Base at <a href=\"https://github.com/JuliaLang/julia/tree/5d4eaca0c9fa3d555c79dbacdccb9169fdf64b65/base/show.jl#L315\" target=\"_blank\">show.jl:315</a></li> <li> show(x) in Base at <a href=\"https://github.com/JuliaLang/julia/tree/5d4eaca0c9fa3d555c79dbacdccb9169fdf64b65/base/show.jl#L313\" target=\"_blank\">show.jl:313</a></li> </ul>"
      ],
      "text/plain": [
       "# 325 methods for generic function \"show\":\n",
       "[1] show(io::IO, opt::Base.JLOptions) in Base at options.jl:54\n",
       "[2] show(io::IO, r::LinRange) in Base at range.jl:383\n",
       "[3] show(io::IO, r::UnitRange) in Base at range.jl:693\n",
       "[4] show(io::IO, r::Base.OneTo) in Base at range.jl:694\n",
       "[5] show(io::IO, r::Base.Slice) in Base at indices.jl:303\n",
       "[6] show(io::IO, r::AbstractRange) in Base at range.jl:692\n",
       "[7] show(io::IO, iter::Union{KeySet, ValueIterator}) in Base at abstractdict.jl:50\n",
       "[8] show(io::IO, t::NamedTuple) in Base at namedtuple.jl:126\n",
       "[9] show(io::IO, z::Complex{Bool}) in Base at complex.jl:198\n",
       "[10] show(io::IO, z::Complex) in Base at complex.jl:183\n",
       "[11] show(io::IO, x::Rational) in Base at rational.jl:64\n",
       "[12] show(io::IO, ::MIME{Symbol(\"text/plain\")}, c::T) where T<:AbstractChar in Base at char.jl:281\n",
       "[13] show(io::IO, ::MIME{Symbol(\"text/plain\")}, r::LinRange) in Base at show.jl:14\n",
       "[14] show(io::IO, ::MIME{Symbol(\"text/plain\")}, r::AbstractRange) in Base at show.jl:7\n",
       "[15] show(io::IO, ::MIME{Symbol(\"text/plain\")}, f::Function) in Base at show.jl:22\n",
       "[16] show(io::IO, ::MIME{Symbol(\"text/plain\")}, iter::Union{KeySet, ValueIterator}) in Base at show.jl:44\n",
       "[17] show(io::IO, ::MIME{Symbol(\"text/plain\")}, t::AbstractDict{K,V}) where {K, V} in Base at show.jl:75\n",
       "[18] show(io::IO, ::MIME{Symbol(\"text/plain\")}, opt::Base.JLOptions) in Base at show.jl:134\n",
       "[19] show(io::IO, ::MIME{Symbol(\"text/plain\")}, t::Task) in Base at show.jl:150\n",
       "[20] show(io::IO, ::MIME{Symbol(\"text/plain\")}, x::LinearAlgebra.Adjoint{#s549,#s548} where #s548<:LinearAlgebra.Factorization where #s549) in LinearAlgebra at /buildworker/worker/package_linux64/build/usr/share/julia/stdlib/v1.0/LinearAlgebra/src/factorization.jl:65\n",
       "[21] show(io::IO, ::MIME{Symbol(\"text/plain\")}, x::LinearAlgebra.Transpose{#s549,#s548} where #s548<:LinearAlgebra.Factorization where #s549) in LinearAlgebra at /buildworker/worker/package_linux64/build/usr/share/julia/stdlib/v1.0/LinearAlgebra/src/factorization.jl:69\n",
       "[22] show(io::IO, ::MIME{Symbol(\"text/plain\")}, S::SparseArrays.SparseMatrixCSC) in SparseArrays at /buildworker/worker/package_linux64/build/usr/share/julia/stdlib/v1.0/SparseArrays/src/sparsematrix.jl:150\n",
       "[23] show(io::IO, ::MIME{Symbol(\"text/plain\")}, x::SparseArrays.AbstractSparseArray{Tv,Ti,1} where Ti where Tv) in SparseArrays at /buildworker/worker/package_linux64/build/usr/share/julia/stdlib/v1.0/SparseArrays/src/sparsevector.jl:821\n",
       "[24] show(io::IO, ::MIME{Symbol(\"text/plain\")}, FC::SuiteSparse.CHOLMOD.FactorComponent) in SuiteSparse.CHOLMOD at /buildworker/worker/package_linux64/build/usr/share/julia/stdlib/v1.0/SuiteSparse/src/cholmod.jl:1216\n",
       "[25] show(io::IO, mime::MIME{Symbol(\"text/plain\")}, S::SharedArrays.SharedArray) in SharedArrays at /buildworker/worker/package_linux64/build/usr/share/julia/stdlib/v1.0/SharedArrays/src/SharedArrays.jl:486\n",
       "[26] show(io::IO, mime::MIME{Symbol(\"text/plain\")}, mt::AbstractArray{Method,1}) in Base at methodshow.jl:310\n",
       "[27] show(io::IO, ::MIME{Symbol(\"text/plain\")}, X::AbstractArray) in Base at arrayshow.jl:316\n",
       "[28] show(io::IO, ::MIME{Symbol(\"text/plain\")}, md::Markdown.MD) in Markdown at /buildworker/worker/package_linux64/build/usr/share/julia/stdlib/v1.0/Markdown/src/render/terminal/render.jl:169\n",
       "[29] show(io::IO, ::MIME{Symbol(\"text/plain\")}, t::Type{LibGit2.Consts.OBJECT}) in LibGit2.Consts at Enums.jl:161\n",
       "[30] show(io::IO, ::MIME{Symbol(\"text/plain\")}, t::Type{LibGit2.Consts.DELTA_STATUS}) in LibGit2.Consts at Enums.jl:161\n",
       "[31] show(io::IO, ::MIME{Symbol(\"text/plain\")}, t::Type{LibGit2.Consts.GIT_MERGE}) in LibGit2.Consts at Enums.jl:161\n",
       "[32] show(io::IO, ::MIME{Symbol(\"text/plain\")}, t::Type{LibGit2.Consts.GIT_MERGE_FILE}) in LibGit2.Consts at Enums.jl:161\n",
       "[33] show(io::IO, ::MIME{Symbol(\"text/plain\")}, t::Type{LibGit2.Consts.GIT_MERGE_FILE_FAVOR}) in LibGit2.Consts at Enums.jl:161\n",
       "[34] show(io::IO, ::MIME{Symbol(\"text/plain\")}, t::Type{LibGit2.Consts.GIT_MERGE_PREFERENCE}) in LibGit2.Consts at Enums.jl:161\n",
       "[35] show(io::IO, ::MIME{Symbol(\"text/plain\")}, t::Type{LibGit2.Consts.GIT_MERGE_ANALYSIS}) in LibGit2.Consts at Enums.jl:161\n",
       "[36] show(io::IO, ::MIME{Symbol(\"text/plain\")}, t::Type{LibGit2.Consts.GIT_REBASE_OPERATION}) in LibGit2.Consts at Enums.jl:161\n",
       "[37] show(io::IO, ::MIME{Symbol(\"text/plain\")}, t::Type{LibGit2.Consts.GIT_SUBMODULE_IGNORE}) in LibGit2.Consts at Enums.jl:161\n",
       "[38] show(io::IO, ::MIME{Symbol(\"text/plain\")}, t::Type{LibGit2.Consts.GIT_REPOSITORY_OPEN}) in LibGit2.Consts at Enums.jl:161\n",
       "[39] show(io::IO, ::MIME{Symbol(\"text/plain\")}, t::Type{LibGit2.Consts.GIT_BRANCH}) in LibGit2.Consts at Enums.jl:161\n",
       "[40] show(io::IO, ::MIME{Symbol(\"text/plain\")}, t::Type{LibGit2.Consts.GIT_FILEMODE}) in LibGit2.Consts at Enums.jl:161\n",
       "[41] show(io::IO, ::MIME{Symbol(\"text/plain\")}, t::Type{LibGit2.Consts.GIT_CREDTYPE}) in LibGit2.Consts at Enums.jl:161\n",
       "[42] show(io::IO, ::MIME{Symbol(\"text/plain\")}, t::Type{LibGit2.Consts.GIT_FEATURE}) in LibGit2.Consts at Enums.jl:161\n",
       "[43] show(io::IO, ::MIME{Symbol(\"text/plain\")}, t::Type{LibGit2.Consts.GIT_CONFIG}) in LibGit2.Consts at Enums.jl:161\n",
       "[44] show(io::IO, ::MIME{Symbol(\"text/plain\")}, t::Type{LibGit2.Consts.GIT_OPT}) in LibGit2.Consts at Enums.jl:161\n",
       "[45] show(io::IO, ::MIME{Symbol(\"text/plain\")}, t::Type{LibGit2.Consts.GIT_PROXY}) in LibGit2.Consts at Enums.jl:161\n",
       "[46] show(io::IO, ::MIME{Symbol(\"text/plain\")}, t::Type{LibGit2.Error.Code}) in LibGit2.Error at Enums.jl:161\n",
       "[47] show(io::IO, ::MIME{Symbol(\"text/plain\")}, t::Type{LibGit2.Error.Class}) in LibGit2.Error at Enums.jl:161\n",
       "[48] show(io::IO, mime::MIME{Symbol(\"text/plain\")}, F::Union{QR, QRCompactWY, QRPivoted}) in LinearAlgebra at /buildworker/worker/package_linux64/build/usr/share/julia/stdlib/v1.0/LinearAlgebra/src/qr.jl:398\n",
       "[49] show(io::IO, mime::MIME{Symbol(\"text/plain\")}, F::Union{Eigen, GeneralizedEigen}) in LinearAlgebra at /buildworker/worker/package_linux64/build/usr/share/julia/stdlib/v1.0/LinearAlgebra/src/eigen.jl:492\n",
       "[50] show(io::IO, mime::MIME{Symbol(\"text/plain\")}, C::LinearAlgebra.Cholesky{#s549,#s548} where #s548<:(AbstractArray{T,2} where T) where #s549) in LinearAlgebra at /buildworker/worker/package_linux64/build/usr/share/julia/stdlib/v1.0/LinearAlgebra/src/cholesky.jl:381\n",
       "[51] show(io::IO, mime::MIME{Symbol(\"text/plain\")}, C::LinearAlgebra.CholeskyPivoted{#s549,#s548} where #s548<:(AbstractArray{T,2} where T) where #s549) in LinearAlgebra at /buildworker/worker/package_linux64/build/usr/share/julia/stdlib/v1.0/LinearAlgebra/src/cholesky.jl:391\n",
       "[52] show(io::IO, mime::MIME{Symbol(\"text/plain\")}, F::LinearAlgebra.LU) in LinearAlgebra at /buildworker/worker/package_linux64/build/usr/share/julia/stdlib/v1.0/LinearAlgebra/src/lu.jl:307\n",
       "[53] show(io::IO, mime::MIME{Symbol(\"text/plain\")}, B::LinearAlgebra.BunchKaufman) in LinearAlgebra at /buildworker/worker/package_linux64/build/usr/share/julia/stdlib/v1.0/LinearAlgebra/src/bunchkaufman.jl:252\n",
       "[54] show(io::IO, mime::MIME{Symbol(\"text/plain\")}, F::LinearAlgebra.Schur) in LinearAlgebra at /buildworker/worker/package_linux64/build/usr/share/julia/stdlib/v1.0/LinearAlgebra/src/schur.jl:119\n",
       "[55] show(io::IO, mime::MIME{Symbol(\"text/plain\")}, F::LinearAlgebra.GeneralizedSchur) in LinearAlgebra at /buildworker/worker/package_linux64/build/usr/share/julia/stdlib/v1.0/LinearAlgebra/src/schur.jl:264\n",
       "[56] show(io::IO, ::MIME{Symbol(\"text/plain\")}, F::SuiteSparse.CHOLMOD.Factor) in SuiteSparse.CHOLMOD at /buildworker/worker/package_linux64/build/usr/share/julia/stdlib/v1.0/SuiteSparse/src/cholmod.jl:1217\n",
       "[57] show(io::IO, mime::MIME{Symbol(\"text/plain\")}, F::SuiteSparse.SPQR.QRSparse) in SuiteSparse.SPQR at /buildworker/worker/package_linux64/build/usr/share/julia/stdlib/v1.0/SuiteSparse/src/spqr.jl:324\n",
       "[58] show(io::IO, ::MIME{Symbol(\"text/plain\")}, t::Type{Distributed.WorkerState}) in Distributed at Enums.jl:161\n",
       "[59] show(io::IO, ::MIME{Symbol(\"text/plain\")}, t::Type{REPL.TerminalMenus.Key}) in REPL.TerminalMenus at Enums.jl:161\n",
       "[60] show(io::IO, ::MIME{Symbol(\"text/plain\")}, t::Type{Pkg.Types.UpgradeLevel}) in Pkg.Types at Enums.jl:161\n",
       "[61] show(io::IO, ::MIME{Symbol(\"text/plain\")}, t::Type{Pkg.Types.PackageMode}) in Pkg.Types at Enums.jl:161\n",
       "[62] show(io::IO, ::MIME{Symbol(\"text/plain\")}, t::Type{Pkg.Types.PackageSpecialAction}) in Pkg.Types at Enums.jl:161\n",
       "[63] show(io::IO, ::MIME{Symbol(\"text/plain\")}, t::Type{Pkg.REPLMode.OptionClass}) in Pkg.REPLMode at Enums.jl:161\n",
       "[64] show(io::IO, ::MIME{Symbol(\"text/plain\")}, t::Type{Pkg.REPLMode.CommandKind}) in Pkg.REPLMode at Enums.jl:161\n",
       "[65] show(io::IO, ::MIME{Symbol(\"text/plain\")}, t::Type{Pkg.REPLMode.ArgClass}) in Pkg.REPLMode at Enums.jl:161\n",
       "[66] show(io::IO, ::MIME{Symbol(\"text/plain\")}, t::Type{MbedTLS.MDKind}) in MbedTLS at Enums.jl:161\n",
       "[67] show(io::IO, ::MIME{Symbol(\"text/plain\")}, t::Type{MbedTLS.CipherID}) in MbedTLS at Enums.jl:161\n",
       "[68] show(io::IO, ::MIME{Symbol(\"text/plain\")}, t::Type{MbedTLS.CipherKind}) in MbedTLS at Enums.jl:161\n",
       "[69] show(io::IO, ::MIME{Symbol(\"text/plain\")}, t::Type{MbedTLS.CipherMode}) in MbedTLS at Enums.jl:161\n",
       "[70] show(io::IO, ::MIME{Symbol(\"text/plain\")}, t::Type{MbedTLS.Padding}) in MbedTLS at Enums.jl:161\n",
       "[71] show(io::IO, ::MIME{Symbol(\"text/plain\")}, t::Type{MbedTLS.Operation}) in MbedTLS at Enums.jl:161\n",
       "[72] show(io::IO, ::MIME{Symbol(\"text/plain\")}, t::Type{MbedTLS.DebugThreshold}) in MbedTLS at Enums.jl:161\n",
       "[73] show(io::IO, ::MIME{Symbol(\"text/plain\")}, x) in Base at sysimg.jl:194\n",
       "[74] show(io::IO, s::BitSet) in Base at bitset.jl:325\n",
       "[75] show(io::IO, x::Some) in Base at some.jl:26\n",
       "[76] show(io::IO, ::Base.EnvDict) in Base at env.jl:128\n",
       "[77] show(io::IO, t::AbstractDict{K,V}) where {K, V} in Base at dict.jl:25\n",
       "[78] show(io::IO, s::Set) in Base at set.jl:40\n",
       "[79] show(io::IO, c::AbstractChar) in Base at char.jl:245\n",
       "[80] show(io::IO, s::IOStream) in Base at iostream.jl:28\n",
       "[81] show(io::IO, b::Base.GenericIOBuffer) in Base at iobuffer.jl:148\n",
       "[82] show(io::IO, g::Base.Unicode.GraphemeIterator{S}) where S in Base.Unicode at strings/unicode.jl:674\n",
       "[83] show(io::IO, s::SubstitutionString) in Base at regex.jl:263\n",
       "[84] show(io::IO, s::AbstractString) in Base at strings/io.jl:149\n",
       "[85] show(io::IO, re::Regex) in Base at regex.jl:94\n",
       "[86] show(io::IO, m::RegexMatch) in Base at regex.jl:125\n",
       "[87] show(io::IO, ::UndefInitializer) in Base at show.jl:3\n",
       "[88] show(io::IO, ctx::IOContext) in Base at show.jl:273\n",
       "[89] show(io::IO, x::Core.IntrinsicFunction) in Base at show.jl:382\n",
       "[90] show(io::IO, f::Function) in Base at show.jl:367\n",
       "[91] show(io::IO, ::Core.TypeofBottom) in Base at show.jl:386\n",
       "[92] show(io::IO, t::Type{LibGit2.Consts.OBJECT}) in LibGit2.Consts at Enums.jl:158\n",
       "[93] show(io::IO, t::Type{LibGit2.Consts.DELTA_STATUS}) in LibGit2.Consts at Enums.jl:158\n",
       "[94] show(io::IO, t::Type{LibGit2.Consts.GIT_MERGE}) in LibGit2.Consts at Enums.jl:158\n",
       "[95] show(io::IO, t::Type{LibGit2.Consts.GIT_MERGE_FILE}) in LibGit2.Consts at Enums.jl:158\n",
       "[96] show(io::IO, t::Type{LibGit2.Consts.GIT_MERGE_FILE_FAVOR}) in LibGit2.Consts at Enums.jl:158\n",
       "[97] show(io::IO, t::Type{LibGit2.Consts.GIT_MERGE_PREFERENCE}) in LibGit2.Consts at Enums.jl:158\n",
       "[98] show(io::IO, t::Type{LibGit2.Consts.GIT_MERGE_ANALYSIS}) in LibGit2.Consts at Enums.jl:158\n",
       "[99] show(io::IO, t::Type{LibGit2.Consts.GIT_REBASE_OPERATION}) in LibGit2.Consts at Enums.jl:158\n",
       "[100] show(io::IO, t::Type{LibGit2.Consts.GIT_SUBMODULE_IGNORE}) in LibGit2.Consts at Enums.jl:158\n",
       "[101] show(io::IO, t::Type{LibGit2.Consts.GIT_REPOSITORY_OPEN}) in LibGit2.Consts at Enums.jl:158\n",
       "[102] show(io::IO, t::Type{LibGit2.Consts.GIT_BRANCH}) in LibGit2.Consts at Enums.jl:158\n",
       "[103] show(io::IO, t::Type{LibGit2.Consts.GIT_FILEMODE}) in LibGit2.Consts at Enums.jl:158\n",
       "[104] show(io::IO, t::Type{LibGit2.Consts.GIT_CREDTYPE}) in LibGit2.Consts at Enums.jl:158\n",
       "[105] show(io::IO, t::Type{LibGit2.Consts.GIT_FEATURE}) in LibGit2.Consts at Enums.jl:158\n",
       "[106] show(io::IO, t::Type{LibGit2.Consts.GIT_CONFIG}) in LibGit2.Consts at Enums.jl:158\n",
       "[107] show(io::IO, t::Type{LibGit2.Consts.GIT_OPT}) in LibGit2.Consts at Enums.jl:158\n",
       "[108] show(io::IO, t::Type{LibGit2.Consts.GIT_PROXY}) in LibGit2.Consts at Enums.jl:158\n",
       "[109] show(io::IO, t::Type{LibGit2.Error.Code}) in LibGit2.Error at Enums.jl:158\n",
       "[110] show(io::IO, t::Type{LibGit2.Error.Class}) in LibGit2.Error at Enums.jl:158\n",
       "[111] show(io::IO, t::Type{Distributed.WorkerState}) in Distributed at Enums.jl:158\n",
       "[112] show(io::IO, t::Type{REPL.TerminalMenus.Key}) in REPL.TerminalMenus at Enums.jl:158\n",
       "[113] show(io::IO, t::Type{Pkg.Types.UpgradeLevel}) in Pkg.Types at Enums.jl:158\n",
       "[114] show(io::IO, t::Type{Pkg.Types.PackageMode}) in Pkg.Types at Enums.jl:158\n",
       "[115] show(io::IO, t::Type{Pkg.Types.PackageSpecialAction}) in Pkg.Types at Enums.jl:158\n",
       "[116] show(io::IO, t::Type{Pkg.REPLMode.OptionClass}) in Pkg.REPLMode at Enums.jl:158\n",
       "[117] show(io::IO, t::Type{Pkg.REPLMode.CommandKind}) in Pkg.REPLMode at Enums.jl:158\n",
       "[118] show(io::IO, t::Type{Pkg.REPLMode.ArgClass}) in Pkg.REPLMode at Enums.jl:158\n",
       "[119] show(io::IO, t::Type{MbedTLS.MDKind}) in MbedTLS at Enums.jl:158\n",
       "[120] show(io::IO, t::Type{MbedTLS.CipherID}) in MbedTLS at Enums.jl:158\n",
       "[121] show(io::IO, t::Type{MbedTLS.CipherKind}) in MbedTLS at Enums.jl:158\n",
       "[122] show(io::IO, t::Type{MbedTLS.CipherMode}) in MbedTLS at Enums.jl:158\n",
       "[123] show(io::IO, t::Type{MbedTLS.Padding}) in MbedTLS at Enums.jl:158\n",
       "[124] show(io::IO, t::Type{MbedTLS.Operation}) in MbedTLS at Enums.jl:158\n",
       "[125] show(io::IO, t::Type{MbedTLS.DebugThreshold}) in MbedTLS at Enums.jl:158\n",
       "[126] show(io::IO, x::Union) in Base at show.jl:389\n",
       "[127] show(io::IO, x::UnionAll) in Base at show.jl:414\n",
       "[128] show(io::IO, x::DataType) in Base at show.jl:436\n",
       "[129] show(io::IO, tn::Core.TypeName) in Base at show.jl:562\n",
       "[130] show(io::IO, ::Nothing) in Base at show.jl:565\n",
       "[131] show(io::IO, b::Bool) in Base at show.jl:567\n",
       "[132] show(io::IO, x::BigInt) in Base.GMP at gmp.jl:597\n",
       "[133] show(io::IO, n::Signed) in Base at show.jl:568\n",
       "[134] show(io::IO, n::Unsigned) in Base at show.jl:569\n",
       "[135] show(io::IO, p::Ptr) in Base at show.jl:572\n",
       "[136] show(io::IO, p::Pair) in Base at show.jl:592\n",
       "[137] show(io::IO, m::Module) in Base at show.jl:605\n",
       "[138] show(io::IO, l::Core.MethodInstance) in Base at show.jl:633\n",
       "[139] show(io::IO, t::Tuple) in Base at show.jl:714\n",
       "[140] show(io::IO, v::Core.SimpleVector) in Base at show.jl:715\n",
       "[141] show(io::IO, s::Symbol) in Base at show.jl:717\n",
       "[142] show(io::IO, ex::Union{GotoNode, SSAValue, GotoIfNot, ReturnNode, Expr, GlobalRef, LineNumberNode, PhiCNode, PhiNode, QuoteNode, Slot, UpsilonNode}) in Base at show.jl:750\n",
       "[143] show(io::IO, tv::TypeVar) in Base at show.jl:1528\n",
       "[144] show(io::IO, r::Core.Compiler.StmtRange) in Base.IRShow at show.jl:1562\n",
       "[145] show(io::IO, cfg::Core.Compiler.CFG) in Base.IRShow at compiler/ssair/show.jl:16\n",
       "[146] show(io::IO, code::Core.Compiler.IRCode) in Base.IRShow at compiler/ssair/show.jl:315\n",
       "[147] show(io::IO, src::Core.CodeInfo) in Base at show.jl:1568\n",
       "[148] show(io::IO, r::Base.LogicalIndex) in Base at multidimensional.jl:499\n",
       "[149] show(io::IO, x::LinearAlgebra.Adjoint{#s549,#s548} where #s548<:LinearAlgebra.Factorization where #s549) in LinearAlgebra at /buildworker/worker/package_linux64/build/usr/share/julia/stdlib/v1.0/LinearAlgebra/src/factorization.jl:57\n",
       "[150] show(io::IO, x::LinearAlgebra.Transpose{#s549,#s548} where #s548<:LinearAlgebra.Factorization where #s549) in LinearAlgebra at /buildworker/worker/package_linux64/build/usr/share/julia/stdlib/v1.0/LinearAlgebra/src/factorization.jl:61\n",
       "[151] show(io::IO, M::LinearAlgebra.Bidiagonal) in LinearAlgebra at /buildworker/worker/package_linux64/build/usr/share/julia/stdlib/v1.0/LinearAlgebra/src/bidiag.jl:211\n",
       "[152] show(io::IOContext, S::SparseArrays.SparseMatrixCSC) in SparseArrays at /buildworker/worker/package_linux64/build/usr/share/julia/stdlib/v1.0/SparseArrays/src/sparsematrix.jl:161\n",
       "[153] show(io::IO, S::SparseArrays.SparseMatrixCSC) in SparseArrays at /buildworker/worker/package_linux64/build/usr/share/julia/stdlib/v1.0/SparseArrays/src/sparsematrix.jl:159\n",
       "[154] show(io::IOContext, x::SparseArrays.AbstractSparseArray{Tv,Ti,1} where Ti where Tv) in SparseArrays at /buildworker/worker/package_linux64/build/usr/share/julia/stdlib/v1.0/SparseArrays/src/sparsevector.jl:833\n",
       "[155] show(io::IO, x::SparseArrays.AbstractSparseArray{Tv,Ti,1} where Ti where Tv) in SparseArrays at /buildworker/worker/package_linux64/build/usr/share/julia/stdlib/v1.0/SparseArrays/src/sparsevector.jl:830\n",
       "[156] show(io::IO, FC::SuiteSparse.CHOLMOD.FactorComponent) in SuiteSparse.CHOLMOD at /buildworker/worker/package_linux64/build/usr/share/julia/stdlib/v1.0/SuiteSparse/src/cholmod.jl:1200\n",
       "[157] show(io::IO, S::SharedArrays.SharedArray) in SharedArrays at /buildworker/worker/package_linux64/build/usr/share/julia/stdlib/v1.0/SharedArrays/src/SharedArrays.jl:478\n",
       "[158] show(io::IO, X::AbstractArray) in Base at arrayshow.jl:418\n",
       "[159] show(io::IO, i::CartesianIndex) in Base.IteratorsMD at multidimensional.jl:84\n",
       "[160] show(io::IO, bc::Base.Broadcast.Broadcasted{Style,Axes,F,Args} where Args<:Tuple where F where Axes) where Style in Base.Broadcast at broadcast.jl:183\n",
       "[161] show(io::IO, B::Base.Broadcast.BitMaskedBitArray) in Base.Broadcast at broadcast.jl:1013\n",
       "[162] show(io::IO, x::Missing) in Base at missing.jl:5\n",
       "[163] show(io::IO, v::VersionNumber) in Base at version.jl:84\n",
       "[164] show(io::IO, info::Base.Sys.CPUinfo) in Base.Sys at sysinfo.jl:159\n",
       "[165] show(io::IO, t::Task) in Base at task.jl:58\n",
       "[166] show(io::IO, level::Base.CoreLogging.LogLevel) in Base.CoreLogging at logging.jl:118\n",
       "[167] show(io::IO, stream::Base.LibuvServer) in Base at stream.jl:191\n",
       "[168] show(io::IO, s::Base.BufferStream) in Base at stream.jl:1075\n",
       "[169] show(io::IO, stream::Sockets.UDPSocket) in Sockets at /buildworker/worker/package_linux64/build/usr/share/julia/stdlib/v1.0/Sockets/src/Sockets.jl:167\n",
       "[170] show(io::IO, stream::Base.LibuvStream) in Base at stream.jl:194\n",
       "[171] show(io::IO, stream::Pipe) in Base at stream.jl:571\n",
       "[172] show(io::IO, st::Base.Filesystem.StatStruct) in Base.Filesystem at stat.jl:60\n",
       "[173] show(io::IO, cmd::Cmd) in Base at process.jl:101\n",
       "[174] show(io::IO, cmds::Union{ErrOrCmds, OrCmds}) in Base at process.jl:119\n",
       "[175] show(io::IO, cmds::Base.AndCmds) in Base at process.jl:128\n",
       "[176] show(io::IO, cr::Base.CmdRedirect) in Base at process.jl:164\n",
       "[177] show(io::IO, p::Base.Process) in Base at process.jl:833\n",
       "[178] show(io::IO, x::Union{Float32, Float64}) in Base.Grisu at grisu/grisu.jl:148\n",
       "[179] show(io::IO, x::Float16) in Base.Grisu at grisu/grisu.jl:156\n",
       "[180] show(io::IO, m::Method; kwtype) in Base at methodshow.jl:106\n",
       "[181] show(io::IO, ms::Base.MethodList) in Base at methodshow.jl:187\n",
       "[182] show(io::IO, mt::Core.MethodTable) in Base at methodshow.jl:188\n",
       "[183] show(io::IO, ::MIME{Symbol(\"text/html\")}, m::Method; kwtype) in Base at methodshow.jl:241\n",
       "[184] show(io::IO, mime::MIME{Symbol(\"text/html\")}, ms::Base.MethodList) in Base at methodshow.jl:290\n",
       "[185] show(io::IO, mime::MIME{Symbol(\"text/html\")}, mt::Core.MethodTable) in Base at methodshow.jl:306\n",
       "[186] show(io::IO, mime::MIME{Symbol(\"text/html\")}, mt::AbstractArray{Method,1}) in Base at methodshow.jl:322\n",
       "[187] show(io::IO, s::Base.SecretBuffer) in Base at secretbuffer.jl:94\n",
       "[188] show(io::IO, b::BigFloat) in Base.MPFR at mpfr.jl:963\n",
       "[189] show(io::IO, x::Irrational{sym}) where sym in Base at irrationals.jl:20\n",
       "[190] show(io::IO, c::Channel) in Base at channels.jl:382\n",
       "[191] show(io::IO, frame::Base.StackTraces.StackFrame; full_path) in Base.StackTraces at stacktraces.jl:272\n",
       "[192] show(io::IO, u::Base.UUID) in Base at uuid.jl:62\n",
       "[193] show(io::IO, hash::Base.SHA1) in Base at loading.jl:97\n",
       "[194] show(io::IO, pkg::Base.PkgId) in Base at loading.jl:175\n",
       "[195] show(io::IO, ex::Base.PrecompilableError) in Base at loading.jl:764\n",
       "[196] show(io::IO, ::MIME{Symbol(\"text/html\")}, h::HTML{#s549} where #s549<:Function) in Base.Docs at docs/utils.jl:35\n",
       "[197] show(io::IO, ::MIME{Symbol(\"text/html\")}, h::HTML) in Base.Docs at docs/utils.jl:34\n",
       "[198] show(io::IO, ::MIME{Symbol(\"text/markdown\")}, md::Markdown.MD) in Markdown at /buildworker/worker/package_linux64/build/usr/share/julia/stdlib/v1.0/Markdown/src/render/plain.jl:140\n",
       "[199] show(io::IO, ::MIME{Symbol(\"text/html\")}, md::Markdown.MD) in Markdown at /buildworker/worker/package_linux64/build/usr/share/julia/stdlib/v1.0/Markdown/src/render/html.jl:188\n",
       "[200] show(io::IO, ::MIME{Symbol(\"text/latex\")}, md::Markdown.HorizontalRule) in Markdown at /buildworker/worker/package_linux64/build/usr/share/julia/stdlib/v1.0/Markdown/src/render/latex.jl:104\n",
       "[201] show(io::IO, ::MIME{Symbol(\"text/latex\")}, md::Markdown.MD) in Markdown at /buildworker/worker/package_linux64/build/usr/share/julia/stdlib/v1.0/Markdown/src/render/latex.jl:172\n",
       "[202] show(io::IO, ::MIME{Symbol(\"text/rst\")}, md::Markdown.MD) in Markdown at /buildworker/worker/package_linux64/build/usr/share/julia/stdlib/v1.0/Markdown/src/render/rst.jl:145\n",
       "[203] show(io::IO, ::MIME{Symbol(\"text/csv\")}, a) in DelimitedFiles at /buildworker/worker/package_linux64/build/usr/share/julia/stdlib/v1.0/DelimitedFiles/src/DelimitedFiles.jl:828\n",
       "[204] show(io::IO, ::MIME{Symbol(\"text/tab-separated-values\")}, a) in DelimitedFiles at /buildworker/worker/package_linux64/build/usr/share/julia/stdlib/v1.0/DelimitedFiles/src/DelimitedFiles.jl:829\n",
       "[205] show(io::IO, ::MIME{mime}) where mime in Base.Multimedia at multimedia.jl:20\n",
       "[206] show(io::IO, m::AbstractString, x) in Base.Multimedia at multimedia.jl:79\n",
       "[207] show(io::IO, b::Base.Docs.Binding) in Base.Docs at docs/bindings.jl:35\n",
       "[208] show(io::IO, t::Text) in Base.Docs at docs/utils.jl:73\n",
       "[209] show(io::IO, ::SHA.SHA1_CTX) in SHA at /buildworker/worker/package_linux64/build/usr/share/julia/stdlib/v1.0/SHA/src/types.jl:143\n",
       "[210] show(io::IO, ::SHA.SHA2_224_CTX) in SHA at /buildworker/worker/package_linux64/build/usr/share/julia/stdlib/v1.0/SHA/src/types.jl:144\n",
       "[211] show(io::IO, ::SHA.SHA2_256_CTX) in SHA at /buildworker/worker/package_linux64/build/usr/share/julia/stdlib/v1.0/SHA/src/types.jl:145\n",
       "[212] show(io::IO, ::SHA.SHA2_384_CTX) in SHA at /buildworker/worker/package_linux64/build/usr/share/julia/stdlib/v1.0/SHA/src/types.jl:146\n",
       "[213] show(io::IO, ::SHA.SHA2_512_CTX) in SHA at /buildworker/worker/package_linux64/build/usr/share/julia/stdlib/v1.0/SHA/src/types.jl:147\n",
       "[214] show(io::IO, ::SHA.SHA3_224_CTX) in SHA at /buildworker/worker/package_linux64/build/usr/share/julia/stdlib/v1.0/SHA/src/types.jl:148\n",
       "[215] show(io::IO, ::SHA.SHA3_256_CTX) in SHA at /buildworker/worker/package_linux64/build/usr/share/julia/stdlib/v1.0/SHA/src/types.jl:149\n",
       "[216] show(io::IO, ::SHA.SHA3_384_CTX) in SHA at /buildworker/worker/package_linux64/build/usr/share/julia/stdlib/v1.0/SHA/src/types.jl:150\n",
       "[217] show(io::IO, ::SHA.SHA3_512_CTX) in SHA at /buildworker/worker/package_linux64/build/usr/share/julia/stdlib/v1.0/SHA/src/types.jl:151\n",
       "[218] show(io::IO, tex::Markdown.LaTeX) in Markdown at /buildworker/worker/package_linux64/build/usr/share/julia/stdlib/v1.0/Markdown/src/IPython/IPython.jl:25\n",
       "[219] show(io::IO, md::Markdown.MD) in Markdown at /buildworker/worker/package_linux64/build/usr/share/julia/stdlib/v1.0/Markdown/src/render/plain.jl:139\n",
       "[220] show(io::IO, x::LibGit2.Consts.OBJECT) in LibGit2.Consts at Enums.jl:149\n",
       "[221] show(io::IO, x::LibGit2.Consts.DELTA_STATUS) in LibGit2.Consts at Enums.jl:149\n",
       "[222] show(io::IO, x::LibGit2.Consts.GIT_MERGE) in LibGit2.Consts at Enums.jl:149\n",
       "[223] show(io::IO, x::LibGit2.Consts.GIT_MERGE_FILE) in LibGit2.Consts at Enums.jl:149\n",
       "[224] show(io::IO, x::LibGit2.Consts.GIT_MERGE_FILE_FAVOR) in LibGit2.Consts at Enums.jl:149\n",
       "[225] show(io::IO, x::LibGit2.Consts.GIT_MERGE_PREFERENCE) in LibGit2.Consts at Enums.jl:149\n",
       "[226] show(io::IO, x::LibGit2.Consts.GIT_MERGE_ANALYSIS) in LibGit2.Consts at Enums.jl:149\n",
       "[227] show(io::IO, x::LibGit2.Consts.GIT_REBASE_OPERATION) in LibGit2.Consts at Enums.jl:149\n",
       "[228] show(io::IO, x::LibGit2.Consts.GIT_SUBMODULE_IGNORE) in LibGit2.Consts at Enums.jl:149\n",
       "[229] show(io::IO, x::LibGit2.Consts.GIT_REPOSITORY_OPEN) in LibGit2.Consts at Enums.jl:149\n",
       "[230] show(io::IO, x::LibGit2.Consts.GIT_BRANCH) in LibGit2.Consts at Enums.jl:149\n",
       "[231] show(io::IO, x::LibGit2.Consts.GIT_FILEMODE) in LibGit2.Consts at Enums.jl:149\n",
       "[232] show(io::IO, x::LibGit2.Consts.GIT_CREDTYPE) in LibGit2.Consts at Enums.jl:149\n",
       "[233] show(io::IO, x::LibGit2.Consts.GIT_FEATURE) in LibGit2.Consts at Enums.jl:149\n",
       "[234] show(io::IO, x::LibGit2.Consts.GIT_CONFIG) in LibGit2.Consts at Enums.jl:149\n",
       "[235] show(io::IO, x::LibGit2.Consts.GIT_OPT) in LibGit2.Consts at Enums.jl:149\n",
       "[236] show(io::IO, x::LibGit2.Consts.GIT_PROXY) in LibGit2.Consts at Enums.jl:149\n",
       "[237] show(io::IO, df::LibGit2.DiffFile) in LibGit2 at /buildworker/worker/package_linux64/build/usr/share/julia/stdlib/v1.0/LibGit2/src/types.jl:537\n",
       "[238] show(io::IO, dd::LibGit2.DiffDelta) in LibGit2 at /buildworker/worker/package_linux64/build/usr/share/julia/stdlib/v1.0/LibGit2/src/types.jl:570\n",
       "[239] show(io::IO, ie::LibGit2.IndexEntry) in LibGit2 at /buildworker/worker/package_linux64/build/usr/share/julia/stdlib/v1.0/LibGit2/src/types.jl:758\n",
       "[240] show(io::IO, rbo::LibGit2.RebaseOperation) in LibGit2 at /buildworker/worker/package_linux64/build/usr/share/julia/stdlib/v1.0/LibGit2/src/types.jl:821\n",
       "[241] show(io::IO, fh::LibGit2.FetchHead) in LibGit2 at /buildworker/worker/package_linux64/build/usr/share/julia/stdlib/v1.0/LibGit2/src/types.jl:899\n",
       "[242] show(io::IO, ce::LibGit2.ConfigEntry) in LibGit2 at /buildworker/worker/package_linux64/build/usr/share/julia/stdlib/v1.0/LibGit2/src/types.jl:922\n",
       "[243] show(io::IO, x::LibGit2.Error.Code) in LibGit2.Error at Enums.jl:149\n",
       "[244] show(io::IO, x::LibGit2.Error.Class) in LibGit2.Error at Enums.jl:149\n",
       "[245] show(io::IO, err::LibGit2.Error.GitError) in LibGit2.Error at /buildworker/worker/package_linux64/build/usr/share/julia/stdlib/v1.0/LibGit2/src/error.jl:73\n",
       "[246] show(io::IO, sig::LibGit2.Signature) in LibGit2 at /buildworker/worker/package_linux64/build/usr/share/julia/stdlib/v1.0/LibGit2/src/signature.jl:59\n",
       "[247] show(io::IO, id::LibGit2.GitHash) in LibGit2 at /buildworker/worker/package_linux64/build/usr/share/julia/stdlib/v1.0/LibGit2/src/oid.jl:182\n",
       "[248] show(io::IO, id::LibGit2.GitShortHash) in LibGit2 at /buildworker/worker/package_linux64/build/usr/share/julia/stdlib/v1.0/LibGit2/src/oid.jl:183\n",
       "[249] show(io::IO, ref::LibGit2.GitReference) in LibGit2 at /buildworker/worker/package_linux64/build/usr/share/julia/stdlib/v1.0/LibGit2/src/reference.jl:171\n",
       "[250] show(io::IO, c::LibGit2.GitCommit) in LibGit2 at /buildworker/worker/package_linux64/build/usr/share/julia/stdlib/v1.0/LibGit2/src/commit.jl:59\n",
       "[251] show(io::IO, result::LibGit2.GitDescribeResult) in LibGit2 at /buildworker/worker/package_linux64/build/usr/share/julia/stdlib/v1.0/LibGit2/src/repository.jl:342\n",
       "[252] show(io::IO, repo::LibGit2.GitRepo) in LibGit2 at /buildworker/worker/package_linux64/build/usr/share/julia/stdlib/v1.0/LibGit2/src/repository.jl:516\n",
       "[253] show(io::IO, rmt::LibGit2.GitRemote) in LibGit2 at /buildworker/worker/package_linux64/build/usr/share/julia/stdlib/v1.0/LibGit2/src/remote.jl:341\n",
       "[254] show(io::IO, idx::LibGit2.GitIndex) in LibGit2 at /buildworker/worker/package_linux64/build/usr/share/julia/stdlib/v1.0/LibGit2/src/index.jl:217\n",
       "[255] show(io::IO, tag::LibGit2.GitTag) in LibGit2 at /buildworker/worker/package_linux64/build/usr/share/julia/stdlib/v1.0/LibGit2/src/tag.jl:88\n",
       "[256] show(io::IO, blob::LibGit2.GitBlob) in LibGit2 at /buildworker/worker/package_linux64/build/usr/share/julia/stdlib/v1.0/LibGit2/src/blob.jl:77\n",
       "[257] show(io::IO, diff_stat::LibGit2.GitDiffStats) in LibGit2 at /buildworker/worker/package_linux64/build/usr/share/julia/stdlib/v1.0/LibGit2/src/diff.jl:132\n",
       "[258] show(io::IO, diff::LibGit2.GitDiff) in LibGit2 at /buildworker/worker/package_linux64/build/usr/share/julia/stdlib/v1.0/LibGit2/src/diff.jl:139\n",
       "[259] show(io::IO, rb::LibGit2.GitRebase) in LibGit2 at /buildworker/worker/package_linux64/build/usr/share/julia/stdlib/v1.0/LibGit2/src/rebase.jl:66\n",
       "[260] show(io::IO, blame_hunk::LibGit2.BlameHunk) in LibGit2 at /buildworker/worker/package_linux64/build/usr/share/julia/stdlib/v1.0/LibGit2/src/blame.jl:48\n",
       "[261] show(io::IO, te::LibGit2.GitTreeEntry) in LibGit2 at /buildworker/worker/package_linux64/build/usr/share/julia/stdlib/v1.0/LibGit2/src/tree.jl:137\n",
       "[262] show(io::IO, tree::LibGit2.GitTree) in LibGit2 at /buildworker/worker/package_linux64/build/usr/share/julia/stdlib/v1.0/LibGit2/src/tree.jl:144\n",
       "[263] show(io::IO, ip::Sockets.IPv4) in Sockets at /buildworker/worker/package_linux64/build/usr/share/julia/stdlib/v1.0/Sockets/src/IPAddr.jl:46\n",
       "[264] show(io::IO, ip::Sockets.IPv6) in Sockets at /buildworker/worker/package_linux64/build/usr/share/julia/stdlib/v1.0/Sockets/src/IPAddr.jl:110\n",
       "[265] show(io::IO, err::Sockets.DNSError) in Sockets at /buildworker/worker/package_linux64/build/usr/share/julia/stdlib/v1.0/Sockets/src/addrinfo.jl:9\n",
       "[266] show(io::IO, x::Dates.Period) in Dates at /buildworker/worker/package_linux64/build/usr/share/julia/stdlib/v1.0/Dates/src/periods.jl:43\n",
       "[267] show(io::IO, x::Dates.CompoundPeriod) in Dates at /buildworker/worker/package_linux64/build/usr/share/julia/stdlib/v1.0/Dates/src/periods.jl:343\n",
       "[268] show(io::IO, df::Dates.DateFunction) in Dates at /buildworker/worker/package_linux64/build/usr/share/julia/stdlib/v1.0/Dates/src/adjusters.jl:194\n",
       "[269] show(io::IO, x::Dates.Time) in Dates at /buildworker/worker/package_linux64/build/usr/share/julia/stdlib/v1.0/Dates/src/io.jl:54\n",
       "[270] show(io::IO, d::Dates.DatePart{c}) where c in Dates at /buildworker/worker/package_linux64/build/usr/share/julia/stdlib/v1.0/Dates/src/io.jl:83\n",
       "[271] show(io::IO, d::Dates.Delim) in Dates at /buildworker/worker/package_linux64/build/usr/share/julia/stdlib/v1.0/Dates/src/io.jl:241\n",
       "[272] show(io::IO, df::Dates.DateFormat) in Dates at /buildworker/worker/package_linux64/build/usr/share/julia/stdlib/v1.0/Dates/src/io.jl:375\n",
       "[273] show(io::IO, dt::Dates.DateTime) in Dates at /buildworker/worker/package_linux64/build/usr/share/julia/stdlib/v1.0/Dates/src/io.jl:533\n",
       "[274] show(io::IO, dt::Dates.Date) in Dates at /buildworker/worker/package_linux64/build/usr/share/julia/stdlib/v1.0/Dates/src/io.jl:541\n",
       "[275] show(io::IO, C::LinearAlgebra.LQ) in LinearAlgebra at /buildworker/worker/package_linux64/build/usr/share/julia/stdlib/v1.0/LinearAlgebra/src/lq.jl:108\n",
       "[276] show(io::IO, J::LinearAlgebra.UniformScaling) in LinearAlgebra at /buildworker/worker/package_linux64/build/usr/share/julia/stdlib/v1.0/LinearAlgebra/src/uniformscaling.jl:57\n",
       "[277] show(io::IO, F::SuiteSparse.UMFPACK.UmfpackLU) in SuiteSparse.UMFPACK at /buildworker/worker/package_linux64/build/usr/share/julia/stdlib/v1.0/SuiteSparse/src/umfpack.jl:191\n",
       "[278] show(io::IO, F::SuiteSparse.CHOLMOD.Factor) in SuiteSparse.CHOLMOD at /buildworker/worker/package_linux64/build/usr/share/julia/stdlib/v1.0/SuiteSparse/src/cholmod.jl:1195\n",
       "[279] show(io::IO, x::Distributed.WorkerState) in Distributed at Enums.jl:149\n",
       "[280] show(io::IO, x::REPL.LineEdit.Prompt) in REPL.LineEdit at /buildworker/worker/package_linux64/build/usr/share/julia/stdlib/v1.0/REPL/src/LineEdit.jl:42\n",
       "[281] show(io::IO, s::REPL.LineEdit.MIState) in REPL.LineEdit at /buildworker/worker/package_linux64/build/usr/share/julia/stdlib/v1.0/REPL/src/LineEdit.jl:61\n",
       "[282] show(io::IO, s::REPL.LineEdit.PrefixSearchState) in REPL.LineEdit at /buildworker/worker/package_linux64/build/usr/share/julia/stdlib/v1.0/REPL/src/LineEdit.jl:1615\n",
       "[283] show(io::IO, x::REPL.TerminalMenus.Key) in REPL.TerminalMenus at Enums.jl:149\n",
       "[284] show(io::IO, tbl::Pkg.TOML.Table) in Pkg.TOML at /buildworker/worker/package_linux64/build/usr/share/julia/stdlib/v1.0/Pkg/ext/TOML/src/parser.jl:11\n",
       "[285] show(io::IO, tbl::Pkg.TOML.Table, level::Int64) in Pkg.TOML at /buildworker/worker/package_linux64/build/usr/share/julia/stdlib/v1.0/Pkg/ext/TOML/src/parser.jl:11\n",
       "[286] show(io::IO, r::Pkg.Types.VersionRange) in Pkg.Types at /buildworker/worker/package_linux64/build/usr/share/julia/stdlib/v1.0/Pkg/src/versions.jl:138\n",
       "[287] show(io::IO, s::Pkg.Types.VersionSpec) in Pkg.Types at /buildworker/worker/package_linux64/build/usr/share/julia/stdlib/v1.0/Pkg/src/versions.jl:244\n",
       "[288] show(io::IO, f::Pkg.Types.Fixed) in Pkg.Types at /buildworker/worker/package_linux64/build/usr/share/julia/stdlib/v1.0/Pkg/src/Types.jl:87\n",
       "[289] show(io::IO, err::Pkg.Types.PkgError) in Pkg.Types at /buildworker/worker/package_linux64/build/usr/share/julia/stdlib/v1.0/Pkg/src/Types.jl:121\n",
       "[290] show(io::IO, x::Pkg.Types.UpgradeLevel) in Pkg.Types at Enums.jl:149\n",
       "[291] show(io::IO, x::Pkg.Types.PackageMode) in Pkg.Types at Enums.jl:149\n",
       "[292] show(io::IO, x::Pkg.Types.PackageSpecialAction) in Pkg.Types at Enums.jl:149\n",
       "[293] show(io::IO, pkg::Pkg.Types.PackageSpec) in Pkg.Types at /buildworker/worker/package_linux64/build/usr/share/julia/stdlib/v1.0/Pkg/src/Types.jl:194\n",
       "[294] show(io::IO, i::Pkg.Pkg2.Pkg2Types.VersionInterval) in Pkg.Pkg2.Pkg2Types at /buildworker/worker/package_linux64/build/usr/share/julia/stdlib/v1.0/Pkg/src/Pkg2/types.jl:20\n",
       "[295] show(io::IO, s::Pkg.Pkg2.Pkg2Types.VersionSet) in Pkg.Pkg2.Pkg2Types at /buildworker/worker/package_linux64/build/usr/share/julia/stdlib/v1.0/Pkg/src/Pkg2/types.jl:119\n",
       "[296] show(io::IO, a::Pkg.Resolve.VersionWeights.VersionWeight) in Pkg.Resolve.VersionWeights at /buildworker/worker/package_linux64/build/usr/share/julia/stdlib/v1.0/Pkg/src/resolve/VersionWeights.jl:48\n",
       "[297] show(io::IO, a::Pkg.Resolve.MaxSum.FieldValues.FieldValue) in Pkg.Resolve.MaxSum.FieldValues at /buildworker/worker/package_linux64/build/usr/share/julia/stdlib/v1.0/Pkg/src/resolve/FieldValues.jl:32\n",
       "[298] show(io::IO, x::Pkg.REPLMode.OptionClass) in Pkg.REPLMode at Enums.jl:149\n",
       "[299] show(io::IO, opt::Pkg.REPLMode.Option) in Pkg.REPLMode at /buildworker/worker/package_linux64/build/usr/share/julia/stdlib/v1.0/Pkg/src/REPLMode.jl:74\n",
       "[300] show(io::IO, x::Pkg.REPLMode.CommandKind) in Pkg.REPLMode at Enums.jl:149\n",
       "[301] show(io::IO, x::Pkg.REPLMode.ArgClass) in Pkg.REPLMode at Enums.jl:149\n",
       "[302] show(io::IO, t::Test.Pass) in Test at /buildworker/worker/package_linux64/build/usr/share/julia/stdlib/v1.0/Test/src/Test.jl:73\n",
       "[303] show(io::IO, t::Test.Fail) in Test at /buildworker/worker/package_linux64/build/usr/share/julia/stdlib/v1.0/Test/src/Test.jl:101\n",
       "[304] show(io::IO, t::Test.Error) in Test at /buildworker/worker/package_linux64/build/usr/share/julia/stdlib/v1.0/Test/src/Test.jl:152\n",
       "[305] show(io::IO, t::Test.Broken) in Test at /buildworker/worker/package_linux64/build/usr/share/julia/stdlib/v1.0/Test/src/Test.jl:194\n",
       "[306] show(io::IO, ex::Test.TestSetException) in Test at /buildworker/worker/package_linux64/build/usr/share/julia/stdlib/v1.0/Test/src/Test.jl:673\n",
       "[307] show(io::IO, t::Test.LogTestFailure) in Test at /buildworker/worker/package_linux64/build/usr/share/julia/stdlib/v1.0/Test/src/logging.jl:67\n",
       "[308] show(io::IO, err::MbedTLS.MbedException) in MbedTLS at /home/jupyter/.julia/packages/MbedTLS/Qo8TN/src/error.jl:14\n",
       "[309] show(io::IO, x::MbedTLS.MDKind) in MbedTLS at Enums.jl:149\n",
       "[310] show(io::IO, info::MbedTLS.MDInfo) in MbedTLS at /home/jupyter/.julia/packages/MbedTLS/Qo8TN/src/md.jl:58\n",
       "[311] show(io::IO, md::MbedTLS.MD{true}) in MbedTLS at /home/jupyter/.julia/packages/MbedTLS/Qo8TN/src/md.jl:62\n",
       "[312] show(io::IO, md::MbedTLS.MD{false}) in MbedTLS at /home/jupyter/.julia/packages/MbedTLS/Qo8TN/src/md.jl:66\n",
       "[313] show(io::IO, x::MbedTLS.CipherID) in MbedTLS at Enums.jl:149\n",
       "[314] show(io::IO, x::MbedTLS.CipherKind) in MbedTLS at Enums.jl:149\n",
       "[315] show(io::IO, x::MbedTLS.CipherMode) in MbedTLS at Enums.jl:149\n",
       "[316] show(io::IO, x::MbedTLS.Padding) in MbedTLS at Enums.jl:149\n",
       "[317] show(io::IO, x::MbedTLS.Operation) in MbedTLS at Enums.jl:149\n",
       "[318] show(io::IO, cipher::MbedTLS.Cipher) in MbedTLS at /home/jupyter/.julia/packages/MbedTLS/Qo8TN/src/cipher.jl:185\n",
       "[319] show(io::IO, crt::MbedTLS.CRT) in MbedTLS at /home/jupyter/.julia/packages/MbedTLS/Qo8TN/src/x509_crt.jl:16\n",
       "[320] show(io::IO, c::MbedTLS.SSLConfig) in MbedTLS at /home/jupyter/.julia/packages/MbedTLS/Qo8TN/src/ssl.jl:22\n",
       "[321] show(io::IO, x::MbedTLS.DebugThreshold) in MbedTLS at Enums.jl:149\n",
       "[322] show(io::IO, msg::IJulia.Msg) in IJulia at /home/jupyter/.julia/packages/IJulia/k5o7j/src/msg.jl:38\n",
       "[323] show(io::IO, time::MyTime) in Main at In[121]:2\n",
       "[324] show(io::IO, x) in Base at show.jl:315\n",
       "[325] show(x) in Base at show.jl:313"
      ]
     },
     "execution_count": 122,
     "metadata": {},
     "output_type": "execute_result"
    }
   ],
   "source": [
    "methods(Base.show)"
   ]
  },
  {
   "cell_type": "code",
   "execution_count": 123,
   "metadata": {},
   "outputs": [
    {
     "data": {
      "text/plain": [
       "01:02:03"
      ]
     },
     "execution_count": 123,
     "metadata": {},
     "output_type": "execute_result"
    }
   ],
   "source": [
    "MyTime(1,2,3)"
   ]
  },
  {
   "cell_type": "markdown",
   "metadata": {},
   "source": [
    "Maintenant tous les MyTime seront affichés de base comme ça ! "
   ]
  },
  {
   "cell_type": "markdown",
   "metadata": {},
   "source": [
    "C'est très dur dans un autre langage de programmation de changer l'affichage d'une structure \"Instance\" "
   ]
  },
  {
   "cell_type": "code",
   "execution_count": null,
   "metadata": {},
   "outputs": [],
   "source": []
  },
  {
   "cell_type": "markdown",
   "metadata": {},
   "source": [
    "## More Examples"
   ]
  },
  {
   "cell_type": "code",
   "execution_count": 8,
   "metadata": {},
   "outputs": [
    {
     "data": {
      "text/plain": [
       "increment! (generic function with 1 method)"
      ]
     },
     "execution_count": 8,
     "metadata": {},
     "output_type": "execute_result"
    }
   ],
   "source": [
    "function increment!(t::MyTime, seconds::Int64)\n",
    "    seconds += timetoint(t) \n",
    "    time = inttotime(seconds)\n",
    "    t.hours = time.hours\n",
    "    t.minutes = time.minutes\n",
    "    t.seconds = time.seconds\n",
    "    nothing\n",
    "end"
   ]
  },
  {
   "cell_type": "code",
   "execution_count": 10,
   "metadata": {},
   "outputs": [
    {
     "data": {
      "text/plain": [
       "MyTime(14, 3, 35)"
      ]
     },
     "execution_count": 10,
     "metadata": {},
     "output_type": "execute_result"
    }
   ],
   "source": [
    "time = MyTime(13,43,1)\n",
    "increment!(time, 1234)\n",
    "time"
   ]
  },
  {
   "cell_type": "markdown",
   "metadata": {},
   "source": [
    "Le problème ici est qu'on ne peut contrôler ce que l'on donne : si on veut d'abord donner les secondes, impossible car ce n'est pas dans l'ordre prévu ; on fait alors un constructeur : "
   ]
  },
  {
   "cell_type": "markdown",
   "metadata": {},
   "source": [
    "## Constructors"
   ]
  },
  {
   "cell_type": "code",
   "execution_count": 15,
   "metadata": {},
   "outputs": [
    {
     "data": {
      "text/plain": [
       "MyTime"
      ]
     },
     "execution_count": 15,
     "metadata": {},
     "output_type": "execute_result"
    }
   ],
   "source": [
    "function MyTime(time::MyTime) # La particularité est que le nom de la fonction est le meme que le nom de la struct\n",
    "    MyTime(time.hours, time.minutes, time.seconds)\n",
    "end "
   ]
  },
  {
   "cell_type": "code",
   "execution_count": 14,
   "metadata": {},
   "outputs": [
    {
     "data": {
      "text/plain": [
       "MyTime(14, 3, 35)"
      ]
     },
     "execution_count": 14,
     "metadata": {},
     "output_type": "execute_result"
    }
   ],
   "source": [
    "time2 = MyTime(time)"
   ]
  },
  {
   "cell_type": "code",
   "execution_count": 15,
   "metadata": {},
   "outputs": [
    {
     "data": {
      "text/plain": [
       "false"
      ]
     },
     "execution_count": 15,
     "metadata": {},
     "output_type": "execute_result"
    }
   ],
   "source": [
    "time === time2"
   ]
  },
  {
   "cell_type": "code",
   "execution_count": 16,
   "metadata": {},
   "outputs": [
    {
     "data": {
      "text/plain": [
       "false"
      ]
     },
     "execution_count": 16,
     "metadata": {},
     "output_type": "execute_result"
    }
   ],
   "source": [
    "time == time2"
   ]
  },
  {
   "cell_type": "markdown",
   "metadata": {},
   "source": [
    "On n'a ni le même objet, ni le meme pointeur en adresse : en fait, pour un objet \"Mutable\", le === équivaut le =="
   ]
  },
  {
   "cell_type": "code",
   "execution_count": 11,
   "metadata": {},
   "outputs": [],
   "source": [
    "import Base.=="
   ]
  },
  {
   "cell_type": "code",
   "execution_count": 12,
   "metadata": {},
   "outputs": [
    {
     "data": {
      "text/plain": [
       "== (generic function with 143 methods)"
      ]
     },
     "execution_count": 12,
     "metadata": {},
     "output_type": "execute_result"
    }
   ],
   "source": [
    "function ==(t1::MyTime, t2::MyTime)\n",
    "    (t1.hours, t1.minutes, t1.seconds) = (t2.hours, t2.minutes, t2.seconds)\n",
    "end"
   ]
  },
  {
   "cell_type": "markdown",
   "metadata": {},
   "source": [
    "On a maintenant changé la définition de \"==\" pour les MyTime !"
   ]
  },
  {
   "cell_type": "markdown",
   "metadata": {},
   "source": [
    "Mais on a toujours pas réglé le problème de l'ordre par exemple ... On doit en fait redéfinir les constructeurs de base qui existent dans MyTime :"
   ]
  },
  {
   "cell_type": "code",
   "execution_count": 4,
   "metadata": {},
   "outputs": [],
   "source": [
    "mutable struct MyTime\n",
    "    hours :: Int64\n",
    "    minutes :: Int64\n",
    "    seconds :: Int64\n",
    "    function MyTime(seconds::Int64=0, minutes::Int64=0, hours::Int64=0) # le =0 fait en sorte que par défaut, si on ne précise rien, on a 0\n",
    "        new(hours, minutes, seconds)\n",
    "    end\n",
    "end\n",
    "\n",
    "using Printf\n",
    "function Base.show(io::IO, time::MyTime)\n",
    "     @printf(io, \"%02d:%02d:%02d\", time.hours, time.minutes, time.seconds)\n",
    "end"
   ]
  },
  {
   "cell_type": "code",
   "execution_count": 13,
   "metadata": {},
   "outputs": [
    {
     "data": {
      "text/plain": [
       "00:02:50"
      ]
     },
     "execution_count": 13,
     "metadata": {},
     "output_type": "execute_result"
    }
   ],
   "source": [
    "time = MyTime(50,2)"
   ]
  },
  {
   "cell_type": "code",
   "execution_count": 16,
   "metadata": {},
   "outputs": [
    {
     "data": {
      "text/plain": [
       "50:02:00"
      ]
     },
     "execution_count": 16,
     "metadata": {},
     "output_type": "execute_result"
    }
   ],
   "source": [
    "time2 = MyTime(time)"
   ]
  },
  {
   "cell_type": "code",
   "execution_count": null,
   "metadata": {},
   "outputs": [],
   "source": []
  },
  {
   "cell_type": "markdown",
   "metadata": {},
   "source": [
    "## show"
   ]
  },
  {
   "cell_type": "code",
   "execution_count": null,
   "metadata": {},
   "outputs": [],
   "source": []
  },
  {
   "cell_type": "markdown",
   "metadata": {},
   "source": [
    "## Operator Overloading"
   ]
  },
  {
   "cell_type": "code",
   "execution_count": 19,
   "metadata": {},
   "outputs": [],
   "source": [
    "import Base.+"
   ]
  },
  {
   "cell_type": "code",
   "execution_count": 23,
   "metadata": {},
   "outputs": [
    {
     "data": {
      "text/plain": [
       "+ (generic function with 164 methods)"
      ]
     },
     "execution_count": 23,
     "metadata": {},
     "output_type": "execute_result"
    }
   ],
   "source": [
    "function +(t1::MyTime, t2::MyTime)\n",
    "    val = timetoint(t1)+timetoint(t2)\n",
    "    inttotime(val)\n",
    "end"
   ]
  },
  {
   "cell_type": "code",
   "execution_count": 24,
   "metadata": {},
   "outputs": [
    {
     "data": {
      "text/plain": [
       "02:30:30"
      ]
     },
     "execution_count": 24,
     "metadata": {},
     "output_type": "execute_result"
    }
   ],
   "source": [
    "MyTime(30) + MyTime(0,30,2)"
   ]
  },
  {
   "cell_type": "markdown",
   "metadata": {},
   "source": [
    "## Multiple Dispatch"
   ]
  },
  {
   "cell_type": "code",
   "execution_count": null,
   "metadata": {},
   "outputs": [],
   "source": []
  },
  {
   "cell_type": "markdown",
   "metadata": {},
   "source": [
    "## Polymorphism"
   ]
  },
  {
   "cell_type": "code",
   "execution_count": 26,
   "metadata": {},
   "outputs": [
    {
     "data": {
      "text/plain": [
       "histogram (generic function with 1 method)"
      ]
     },
     "execution_count": 26,
     "metadata": {},
     "output_type": "execute_result"
    }
   ],
   "source": [
    "function histogram(list)\n",
    "    d = Dict()\n",
    "    for elem in list\n",
    "        if elem ∈ keys(d)\n",
    "            d[elem] += 1\n",
    "        else\n",
    "            d[elem] = 1\n",
    "        end\n",
    "    end\n",
    "    d\n",
    "end"
   ]
  },
  {
   "cell_type": "code",
   "execution_count": 27,
   "metadata": {},
   "outputs": [
    {
     "data": {
      "text/plain": [
       "Dict{Any,Any} with 16 entries:\n",
       "  'n' => 1\n",
       "  '!' => 1\n",
       "  '1' => 2\n",
       "  'e' => 4\n",
       "  '7' => 1\n",
       "  'o' => 3\n",
       "  's' => 1\n",
       "  'i' => 2\n",
       "  't' => 2\n",
       "  'r' => 2\n",
       "  ' ' => 6\n",
       "  'a' => 1\n",
       "  'p' => 1\n",
       "  'm' => 2\n",
       "  'u' => 1\n",
       "  'l' => 3"
      ]
     },
     "execution_count": 27,
     "metadata": {},
     "output_type": "execute_result"
    }
   ],
   "source": [
    "histogram(\"171 est la meilleure promotion ! \")"
   ]
  },
  {
   "cell_type": "code",
   "execution_count": 28,
   "metadata": {},
   "outputs": [
    {
     "data": {
      "text/plain": [
       "Dict{Any,Any} with 4 entries:\n",
       "  189 => 1\n",
       "  161 => 1\n",
       "  171 => 2\n",
       "  150 => 2"
      ]
     },
     "execution_count": 28,
     "metadata": {},
     "output_type": "execute_result"
    }
   ],
   "source": [
    "histogram([150, 171, 189, 150, 171, 161])"
   ]
  },
  {
   "cell_type": "markdown",
   "metadata": {},
   "source": [
    "Ici on n'a rien précisé pour la fonction histogram, elle fonctionne pour un string comme pour un array ! "
   ]
  },
  {
   "cell_type": "markdown",
   "metadata": {},
   "source": [
    "C'est ce qu'on appelle le polymorphisme. L'interface est la fonction sans savoir précisément ce qui se trouve dedans, on veut juste savoir ce que la fonction fait "
   ]
  },
  {
   "cell_type": "markdown",
   "metadata": {},
   "source": [
    "## Interface and Implementation"
   ]
  },
  {
   "cell_type": "code",
   "execution_count": null,
   "metadata": {},
   "outputs": [],
   "source": []
  }
 ],
 "metadata": {
  "kernelspec": {
   "display_name": "Julia 1.0.0",
   "language": "julia",
   "name": "julia-1.0"
  },
  "language_info": {
   "file_extension": ".jl",
   "mimetype": "application/julia",
   "name": "julia",
   "version": "1.0.0"
  }
 },
 "nbformat": 4,
 "nbformat_minor": 2
}
