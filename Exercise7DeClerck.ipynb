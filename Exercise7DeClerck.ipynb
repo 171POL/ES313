{
 "cells": [
  {
   "cell_type": "markdown",
   "metadata": {},
   "source": [
    "# PS 02-03 Oct\n",
    "Remember vector spaces? Remember how this was not so easy/beatiful to implement in Matlab? Use your own defined type to implement the vector space $C=\\{(x_{1},x_{2})\\mid x_{1},x_{2}\\in\\mathbb{R}\\}$ where the addition and scalar multiplication are defined as:\n",
    "\\begin{equation}\n",
    "(x_{1},x_{2})+(y_{1},y_{2})=(x_{1}+y_{1}+1,x_{2}+y_{2}+1)\\\\\n",
    "\\alpha(x_{1},x_{2})=(\\alpha x_{1}+\\alpha-1,\\alpha x_{2}+\\alpha-1)\n",
    "\\end{equation}\n",
    "\n",
    "When you request a vector without values for its components, it should return the zero vector (watch out, the zero vector is defined as $(-1,-1)$).\n",
    "\n",
    "Implement the basic operations using the standard operators `+`,`*`,`-`,`==` etc."
   ]
  },
  {
   "cell_type": "code",
   "execution_count": null,
   "metadata": {},
   "outputs": [],
   "source": []
  },
  {
   "cell_type": "markdown",
   "metadata": {},
   "source": [
    "### Card play\n",
    "Implement a card game using your own types for cards, a deck, a hand etc. Consider the ace as a card with rank 1.\n",
    "\n",
    "make a deck, shuffle it and deal the hands. Try to implement a poker game (cf. Ch. 18 from ThinkJulia)"
   ]
  },
  {
   "cell_type": "code",
   "execution_count": null,
   "metadata": {},
   "outputs": [],
   "source": []
  },
  {
   "cell_type": "markdown",
   "metadata": {},
   "source": [
    "## Small coding challenges and student questions\n",
    "### Ch1\n",
    "Write a program to solve a classic ancient Chinese puzzle: \n",
    "We count 35 heads and 94 legs among the chickens and rabbits in a farm. How many rabbits and how many chickens do we have?\n",
    "\n",
    "1. Solve this\n",
    "2. Expand this to more animals. Think how you could implement this. What is a possible problem?\n"
   ]
  },
  {
   "cell_type": "code",
   "execution_count": 10,
   "metadata": {},
   "outputs": [
    {
     "name": "stdout",
     "output_type": "stream",
     "text": [
      "There are 13 rabbits and 22 chickens\n",
      "13 x 4 = 52 \t 22 x 2 = 44 \t  52 + 44 = 96\n"
     ]
    }
   ],
   "source": [
    "h = 35 ; # Number of heads\n",
    "l = 96 ; # Number of legs\n",
    "lc = 2 ; # Legs in a chicken\n",
    "lr = 4 ; # Legs in a rabbit\n",
    "s = -1 ; # Number of rabbits\n",
    "check = 0 ; # Calculated number of legs\n",
    "\n",
    "while (check ≠ l)\n",
    "    check = 0\n",
    "    s = s + 1\n",
    "    check = check + lr*s + lc*(h-s)\n",
    "    if s > h\n",
    "        error(\"Error, not a possible combination.\")\n",
    "        break\n",
    "    end\n",
    "end\n",
    "println(\"There are $s rabbits and $(h-s) chickens\")\n",
    "println(\"$s x 4 = $(s*4) \\t $(h-s) x 2 = $((h-s)*2) \\t  $(s*4) + $((h-s)*2) = $((s*4) + (h-s)*2 )\")"
   ]
  },
  {
   "cell_type": "markdown",
   "metadata": {},
   "source": [
    "### Ch2\n",
    "write a program to print pascal's triangle for a number of lines (input parameter). Optionally use memoizing to accallerate the code"
   ]
  },
  {
   "cell_type": "code",
   "execution_count": 43,
   "metadata": {},
   "outputs": [
    {
     "data": {
      "text/plain": [
       "pascals (generic function with 1 method)"
      ]
     },
     "execution_count": 43,
     "metadata": {},
     "output_type": "execute_result"
    }
   ],
   "source": [
    "function pascals(n)\n",
    "    mat = zeros(n,n)\n",
    "    mat[1,1] = 1\n",
    "    println(\"\\t\"^(n-1),Int(mat[1,1]),\"\\t\"^(n-1))\n",
    "    for i in 2:1:n \n",
    "        mat[i,1] = 1\n",
    "        println(\"\\t\"^(n-i),Int(mat[i,1]),\"\\t\")\n",
    "        for j in 2:1:n\n",
    "           mat[i,j] = mat[i-1,j] + mat[i-1,j-1]\n",
    "            if mat[i,j] != 0\n",
    "                print(Int(mat[i,j]))\n",
    "            end\n",
    "            if i<=n && j<n\n",
    "                print(\"\\t\")\n",
    "            end\n",
    "        end\n",
    "        if i<n\n",
    "            print(\"\\t\"^(n-i-1))\n",
    "        end\n",
    "    end\n",
    "end"
   ]
  },
  {
   "cell_type": "code",
   "execution_count": 44,
   "metadata": {},
   "outputs": [
    {
     "name": "stdout",
     "output_type": "stream",
     "text": [
      "\t\t\t\t1\t\t\t\t\n",
      "\t\t\t1\t\n",
      "1\t\t\t\t\t\t\t1\t\n",
      "2\t1\t\t\t\t1\t\n",
      "3\t3\t1\t1\t\n",
      "4\t6\t4\t1"
     ]
    }
   ],
   "source": [
    "pascals(5)"
   ]
  },
  {
   "cell_type": "markdown",
   "metadata": {},
   "source": [
    "### Ch3 \n",
    "implement a robot in Julia.\n",
    "* robot should be a type\n",
    "* robot should have its methods to deal with movement (forward, turning etc.)\n",
    "* write a function that takes a robot and string input to do a series of actions \n",
    "  \n",
    "  e.g. \"FFLLARR\" could move  the robot Forward for two steps, then turn Left twice, do an Action and finally turn Right twice."
   ]
  },
  {
   "cell_type": "code",
   "execution_count": 4,
   "metadata": {},
   "outputs": [
    {
     "data": {
      "text/plain": [
       "move (generic function with 1 method)"
      ]
     },
     "execution_count": 4,
     "metadata": {},
     "output_type": "execute_result"
    }
   ],
   "source": [
    "mutable struct MyRobot\n",
    "    name::String\n",
    "    x::Int64\n",
    "    y::Int64\n",
    "    orient::Char\n",
    "    orientint::Int64\n",
    "end\n",
    "orientations = ['N','E','S','W']\n",
    "\n",
    "function orders(R::MyRobot, S::String)\n",
    "    for chr in S\n",
    "        move(R,chr)\n",
    "    end\n",
    "end\n",
    "                                \n",
    "function move(R::MyRobot,chr::Char)\n",
    "    if chr == 'F'\n",
    "        if R.orient == 'N'\n",
    "            R.y = R.y + 10\n",
    "        elseif R.orient == 'E'\n",
    "            R.x = R.x + 10\n",
    "        elseif R.orient == 'W'\n",
    "            R.x = R.x - 10\n",
    "        elseif R.orient == 'S'\n",
    "            R.y = R.y - 10\n",
    "        else\n",
    "            error(\"Orientation not valid (use N, E, W or S).\")\n",
    "        end\n",
    "    elseif chr == 'L'\n",
    "        R.orientint = (R.orientint - 1)\n",
    "        if R.orientint < 0\n",
    "            R.orientint = R.orientint + 4\n",
    "        end\n",
    "        R.orient = orientations[R.orientint]\n",
    "    elseif chr == 'R'\n",
    "        R.orientint = (R.orientint + 1)%4\n",
    "        R.orient = orientations[R.orientint]\n",
    "    elseif chr == 'B'\n",
    "        if R.orient == 'N'\n",
    "            R.y = R.y - 10\n",
    "        elseif R.orient == 'E'\n",
    "            R.x = R.x - 10\n",
    "        elseif R.orient == 'W'\n",
    "            R.x = R.x + 10\n",
    "        elseif R.orient == 'S'\n",
    "            R.y = R.y + 10\n",
    "        else\n",
    "            error(\"Orientation not valid (use N, E, W or S).\")\n",
    "        end\n",
    "    elseif chr == 'A'\n",
    "        println(\"ACTION\")\n",
    "    else\n",
    "        error(\"Letter not assigned.\")\n",
    "    end\n",
    "end"
   ]
  },
  {
   "cell_type": "code",
   "execution_count": 5,
   "metadata": {},
   "outputs": [
    {
     "data": {
      "text/plain": [
       "MyRobot(\"Connard\", 0, 0, 'N', 0)"
      ]
     },
     "execution_count": 5,
     "metadata": {},
     "output_type": "execute_result"
    }
   ],
   "source": [
    "R1 = MyRobot(\"Connard\",0,0,'N',0)"
   ]
  },
  {
   "cell_type": "code",
   "execution_count": 7,
   "metadata": {},
   "outputs": [],
   "source": [
    "ord = \"FF\"\n",
    "orders(R1,ord)"
   ]
  },
  {
   "cell_type": "code",
   "execution_count": 8,
   "metadata": {},
   "outputs": [
    {
     "data": {
      "text/plain": [
       "MyRobot(\"Connard\", 0, 40, 'N', 0)"
      ]
     },
     "execution_count": 8,
     "metadata": {},
     "output_type": "execute_result"
    }
   ],
   "source": [
    "R1"
   ]
  },
  {
   "cell_type": "markdown",
   "metadata": {},
   "source": [
    "### Ch4\n",
    "write a passwordgenerator:\n",
    "* Length should be an option. \n",
    "* You should somehow be able to make a selection of character types (e.g. uppercase/ lowercase only or also include special characters)"
   ]
  },
  {
   "cell_type": "code",
   "execution_count": 47,
   "metadata": {},
   "outputs": [
    {
     "data": {
      "text/plain": [
       "-1"
      ]
     },
     "execution_count": 47,
     "metadata": {},
     "output_type": "execute_result"
    }
   ],
   "source": [
    "-1 % 4"
   ]
  },
  {
   "cell_type": "code",
   "execution_count": null,
   "metadata": {},
   "outputs": [],
   "source": []
  }
 ],
 "metadata": {
  "kernelspec": {
   "display_name": "Julia 1.0.0",
   "language": "julia",
   "name": "julia-1.0"
  },
  "language_info": {
   "file_extension": ".jl",
   "mimetype": "application/julia",
   "name": "julia",
   "version": "1.0.0"
  }
 },
 "nbformat": 4,
 "nbformat_minor": 2
}
