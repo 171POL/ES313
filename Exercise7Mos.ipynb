{
 "cells": [
  {
   "cell_type": "markdown",
   "metadata": {},
   "source": [
    "# PS 02-03 Oct\n",
    "Remember vector spaces? Remember how this was not so easy/beatiful to implement in Matlab? Use your own defined type to implement the vector space $C=\\{(x_{1},x_{2})\\mid x_{1},x_{2}\\in\\mathbb{R}\\}$ where the addition and scalar multiplication are defined as:\n",
    "\\begin{equation}\n",
    "(x_{1},x_{2})+(y_{1},y_{2})=(x_{1}+y_{1}+1,x_{2}+y_{2}+1)\\\\\n",
    "\\alpha(x_{1},x_{2})=(\\alpha x_{1}+\\alpha-1,\\alpha x_{2}+\\alpha-1)\n",
    "\\end{equation}\n",
    "\n",
    "When you request a vector without values for its components, it should return the zero vector (watch out, the zero vector is defined as $(-1,-1)$).\n",
    "\n",
    "Implement the basic operations using the standard operators `+`,`*`,`-`,`==` etc."
   ]
  },
  {
   "cell_type": "code",
   "execution_count": 1,
   "metadata": {},
   "outputs": [],
   "source": [
    "struct Vec\n",
    "    x1::Real\n",
    "    x2::Real\n",
    "end"
   ]
  },
  {
   "cell_type": "code",
   "execution_count": 2,
   "metadata": {},
   "outputs": [
    {
     "data": {
      "text/plain": [
       "show (generic function with 325 methods)"
      ]
     },
     "execution_count": 2,
     "metadata": {},
     "output_type": "execute_result"
    }
   ],
   "source": [
    "import Base.show\n",
    "\n",
    "function show(io::IO, v::Vec)\n",
    "    write(io,\"[$(v.x1),$(v.x2)]\")\n",
    "end"
   ]
  },
  {
   "cell_type": "code",
   "execution_count": 3,
   "metadata": {},
   "outputs": [
    {
     "data": {
      "text/plain": [
       "[1,2]"
      ]
     },
     "execution_count": 3,
     "metadata": {},
     "output_type": "execute_result"
    }
   ],
   "source": [
    "v = Vec(1,2)"
   ]
  },
  {
   "cell_type": "code",
   "execution_count": 16,
   "metadata": {},
   "outputs": [
    {
     "data": {
      "text/plain": [
       "+ (generic function with 164 methods)"
      ]
     },
     "execution_count": 16,
     "metadata": {},
     "output_type": "execute_result"
    }
   ],
   "source": [
    "# Vectorial addition\n",
    "import Base.+\n",
    "function +(v::Vec, w::Vec)\n",
    "    Vec(v.x1 + w.x1 + 1, v.x2 + w.x2 + 1)\n",
    "end "
   ]
  },
  {
   "cell_type": "markdown",
   "metadata": {},
   "source": [
    "w = Vec(1,1)\n",
    "z = v + w"
   ]
  },
  {
   "cell_type": "code",
   "execution_count": null,
   "metadata": {},
   "outputs": [],
   "source": []
  },
  {
   "cell_type": "code",
   "execution_count": 5,
   "metadata": {},
   "outputs": [
    {
     "data": {
      "text/plain": [
       "0.0"
      ]
     },
     "execution_count": 5,
     "metadata": {},
     "output_type": "execute_result"
    }
   ],
   "source": [
    "zero(Float64)"
   ]
  },
  {
   "cell_type": "code",
   "execution_count": 14,
   "metadata": {},
   "outputs": [
    {
     "data": {
      "text/plain": [
       "0.0"
      ]
     },
     "execution_count": 14,
     "metadata": {},
     "output_type": "execute_result"
    }
   ],
   "source": [
    "zero(3.2)"
   ]
  },
  {
   "cell_type": "code",
   "execution_count": 21,
   "metadata": {},
   "outputs": [
    {
     "data": {
      "text/plain": [
       "* (generic function with 345 methods)"
      ]
     },
     "execution_count": 21,
     "metadata": {},
     "output_type": "execute_result"
    }
   ],
   "source": [
    "# Implementing our special zero\n",
    "import Base.zero\n",
    "function zero(v::Vec)\n",
    "    Vec(-1,-1)\n",
    "end\n",
    "function zero(Vec)\n",
    "    Vec(-1,-1)\n",
    "end\n",
    "\n",
    "# Scalar multiplication\n",
    "import Base.*\n",
    "function *(a::Real, v::Vec)\n",
    "    Vec(a*v.x1 + a - 1, a*v.x2 + a - 1)\n",
    "end\n",
    "function *(v::Vec, a::Real)\n",
    "    a*v\n",
    "end"
   ]
  },
  {
   "cell_type": "markdown",
   "metadata": {},
   "source": [
    "Petite parenthèse : certains DataTypes sont dits \"abstraits\" (Real par exemple) car aucune attribution en mémoire n'est effectuée, contrairement aux conrets comme Float64 ou Int64, où l'on sait directement qu'il faut allouer 64 bits."
   ]
  },
  {
   "cell_type": "code",
   "execution_count": 20,
   "metadata": {},
   "outputs": [
    {
     "data": {
      "text/markdown": [
       "```\n",
       "zero(x)\n",
       "```\n",
       "\n",
       "Get the additive identity element for the type of `x` (`x` can also specify the type itself).\n",
       "\n",
       "# Examples\n",
       "\n",
       "```jldoctest\n",
       "julia> zero(1)\n",
       "0\n",
       "\n",
       "julia> zero(big\"2.0\")\n",
       "0.0\n",
       "\n",
       "julia> zero(rand(2,2))\n",
       "2×2 Array{Float64,2}:\n",
       " 0.0  0.0\n",
       " 0.0  0.0\n",
       "```\n"
      ],
      "text/plain": [
       "\u001b[36m  zero(x)\u001b[39m\n",
       "\n",
       "  Get the additive identity element for the type of \u001b[36mx\u001b[39m (\u001b[36mx\u001b[39m can also specify the\n",
       "  type itself).\n",
       "\n",
       "\u001b[1m  Examples\u001b[22m\n",
       "\u001b[1m  ≡≡≡≡≡≡≡≡≡≡\u001b[22m\n",
       "\n",
       "\u001b[36m  julia> zero(1)\u001b[39m\n",
       "\u001b[36m  0\u001b[39m\n",
       "\u001b[36m  \u001b[39m\n",
       "\u001b[36m  julia> zero(big\"2.0\")\u001b[39m\n",
       "\u001b[36m  0.0\u001b[39m\n",
       "\u001b[36m  \u001b[39m\n",
       "\u001b[36m  julia> zero(rand(2,2))\u001b[39m\n",
       "\u001b[36m  2×2 Array{Float64,2}:\u001b[39m\n",
       "\u001b[36m   0.0  0.0\u001b[39m\n",
       "\u001b[36m   0.0  0.0\u001b[39m"
      ]
     },
     "execution_count": 20,
     "metadata": {},
     "output_type": "execute_result"
    }
   ],
   "source": [
    "?zero()"
   ]
  },
  {
   "cell_type": "code",
   "execution_count": 22,
   "metadata": {},
   "outputs": [
    {
     "ename": "UndefVarError",
     "evalue": "UndefVarError: $ not defined",
     "output_type": "error",
     "traceback": [
      "UndefVarError: $ not defined",
      "",
      "Stacktrace:",
      " [1] top-level scope at In[22]:1"
     ]
    }
   ],
   "source": [
    "pppOPOALLRLLA$$\n",
    "\n",
    "\n",
    "\n"
   ]
  },
  {
   "cell_type": "code",
   "execution_count": null,
   "metadata": {},
   "outputs": [],
   "source": []
  },
  {
   "cell_type": "code",
   "execution_count": null,
   "metadata": {},
   "outputs": [],
   "source": []
  },
  {
   "cell_type": "code",
   "execution_count": null,
   "metadata": {},
   "outputs": [],
   "source": []
  },
  {
   "cell_type": "code",
   "execution_count": null,
   "metadata": {},
   "outputs": [],
   "source": []
  },
  {
   "cell_type": "markdown",
   "metadata": {},
   "source": [
    "### Card play\n",
    "Implement a card game using your own types for cards, a deck, a hand etc. Consider the ace as a card with rank 1.\n",
    "\n",
    "make a deck, shuffle it and deal the hands. Try to implement a poker game (cf. Ch. 18 from ThinkJulia)"
   ]
  },
  {
   "cell_type": "code",
   "execution_count": 1,
   "metadata": {},
   "outputs": [
    {
     "data": {
      "text/plain": [
       "show (generic function with 325 methods)"
      ]
     },
     "execution_count": 1,
     "metadata": {},
     "output_type": "execute_result"
    }
   ],
   "source": [
    "struct Card\n",
    "    suit::Int64\n",
    "    rank::Int64\n",
    "    #function Card(suit::Int64,rank::Int64)\n",
    "     #   @assert(1 ≤ suit ≤ 4, \"Suit is between 1 and 4\")\n",
    "      #  @assert(1 ≤ rank ≤ 13, \"Rank is between 1 and 13\")\n",
    "    #end\n",
    "end\n",
    "\n",
    "suit_symbols = [\"♣\",\"♦\",\"♥\",\"♠\"]\n",
    "rank_symbols = [\"A\",\"2\",\"3\",\"4\",\"5\",\"6\",\"7\",\"8\",\"9\",\"10\",\"J\",\"Q\",\"K\"]\n",
    "\n",
    "import Base.show\n",
    "function show(io::IO,c::Card)\n",
    "    print(io,\"$(rank_symbols[c.rank])$(suit_symbols[c.suit])\")\n",
    "end"
   ]
  },
  {
   "cell_type": "code",
   "execution_count": 11,
   "metadata": {},
   "outputs": [
    {
     "data": {
      "text/plain": [
       "J♠"
      ]
     },
     "execution_count": 11,
     "metadata": {},
     "output_type": "execute_result"
    }
   ],
   "source": [
    "Card(4,11)"
   ]
  },
  {
   "cell_type": "code",
   "execution_count": 2,
   "metadata": {},
   "outputs": [
    {
     "data": {
      "text/plain": [
       "show (generic function with 326 methods)"
      ]
     },
     "execution_count": 2,
     "metadata": {},
     "output_type": "execute_result"
    }
   ],
   "source": [
    "# JEU COMPLET\n",
    "struct Game\n",
    "    cards::Array{Card,1}\n",
    "    function Game()\n",
    "        new([Card(i,j) for i in 1:4 for j in 1:13])\n",
    "    end\n",
    "end\n",
    "function show(io::IO,g::Game)\n",
    "    for card in g.cards\n",
    "        print(io,card, \" \")\n",
    "    end\n",
    "end"
   ]
  },
  {
   "cell_type": "code",
   "execution_count": 23,
   "metadata": {},
   "outputs": [
    {
     "data": {
      "text/plain": [
       "A♣ 2♣ 3♣ 4♣ 5♣ 6♣ 7♣ 8♣ 9♣ 10♣ J♣ Q♣ K♣ A♦ 2♦ 3♦ 4♦ 5♦ 6♦ 7♦ 8♦ 9♦ 10♦ J♦ Q♦ K♦ A♥ 2♥ 3♥ 4♥ 5♥ 6♥ 7♥ 8♥ 9♥ 10♥ J♥ Q♥ K♥ A♠ 2♠ 3♠ 4♠ 5♠ 6♠ 7♠ 8♠ 9♠ 10♠ J♠ Q♠ K♠ "
      ]
     },
     "execution_count": 23,
     "metadata": {},
     "output_type": "execute_result"
    }
   ],
   "source": [
    "Game()"
   ]
  },
  {
   "cell_type": "code",
   "execution_count": 3,
   "metadata": {},
   "outputs": [
    {
     "data": {
      "text/plain": [
       "shuffle! (generic function with 4 methods)"
      ]
     },
     "execution_count": 3,
     "metadata": {},
     "output_type": "execute_result"
    }
   ],
   "source": [
    "import Random\n",
    "import Random.shuffle!\n",
    "function shuffle!(g::Game)\n",
    "    shuffle!(g.cards)\n",
    "    nothing\n",
    "end"
   ]
  },
  {
   "cell_type": "code",
   "execution_count": 6,
   "metadata": {},
   "outputs": [
    {
     "name": "stdout",
     "output_type": "stream",
     "text": [
      "A♣ 2♣ 3♣ 4♣ 5♣ 6♣ 7♣ 8♣ 9♣ 10♣ J♣ Q♣ K♣ A♦ 2♦ 3♦ 4♦ 5♦ 6♦ 7♦ 8♦ 9♦ 10♦ J♦ Q♦ K♦ A♥ 2♥ 3♥ 4♥ 5♥ 6♥ 7♥ 8♥ 9♥ 10♥ J♥ Q♥ K♥ A♠ 2♠ 3♠ 4♠ 5♠ 6♠ 7♠ 8♠ 9♠ 10♠ J♠ Q♠ K♠ \n",
      "9♥ A♣ 4♠ 6♥ 7♣ K♦ 3♥ Q♥ K♠ 9♣ A♠ 4♥ 10♥ 7♠ 10♠ 3♠ 9♦ J♦ Q♦ 10♣ 2♠ 3♣ K♥ 2♥ 5♦ 2♣ 10♦ 8♠ 6♠ 6♦ Q♣ A♥ 7♥ 8♦ 5♠ 8♥ A♦ J♥ 5♣ Q♠ J♣ 6♣ 7♦ J♠ 3♦ 5♥ K♣ 4♦ 8♣ 4♣ 9♠ 2♦ \n"
     ]
    }
   ],
   "source": [
    "a = Game()\n",
    "println(a)\n",
    "shuffle!(a)\n",
    "println(a)"
   ]
  },
  {
   "cell_type": "code",
   "execution_count": 4,
   "metadata": {},
   "outputs": [
    {
     "data": {
      "text/plain": [
       "isless (generic function with 74 methods)"
      ]
     },
     "execution_count": 4,
     "metadata": {},
     "output_type": "execute_result"
    }
   ],
   "source": [
    "import Base.isless\n",
    "function isless(c1::Card, c2::Card)\n",
    "    if c1.rank == 1\n",
    "        false\n",
    "    else\n",
    "        c1.rank < c2.rank\n",
    "    end\n",
    "end"
   ]
  },
  {
   "cell_type": "code",
   "execution_count": 5,
   "metadata": {},
   "outputs": [
    {
     "data": {
      "text/plain": [
       "7♠"
      ]
     },
     "execution_count": 5,
     "metadata": {},
     "output_type": "execute_result"
    }
   ],
   "source": [
    "a = Card(3,1)\n",
    "b = Card(4,7)"
   ]
  },
  {
   "cell_type": "code",
   "execution_count": 6,
   "metadata": {},
   "outputs": [
    {
     "data": {
      "text/plain": [
       "false"
      ]
     },
     "execution_count": 6,
     "metadata": {},
     "output_type": "execute_result"
    }
   ],
   "source": [
    "a<b"
   ]
  },
  {
   "cell_type": "code",
   "execution_count": null,
   "metadata": {},
   "outputs": [],
   "source": []
  }
 ],
 "metadata": {
  "kernelspec": {
   "display_name": "Julia 1.0.0",
   "language": "julia",
   "name": "julia-1.0"
  },
  "language_info": {
   "file_extension": ".jl",
   "mimetype": "application/julia",
   "name": "julia",
   "version": "1.0.0"
  }
 },
 "nbformat": 4,
 "nbformat_minor": 2
}
