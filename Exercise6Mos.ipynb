{
 "cells": [
  {
   "cell_type": "markdown",
   "metadata": {},
   "source": [
    "# PS6 - 26 Sep\n",
    "## Updating your Julia - IJulia configuration\n",
    "From time to time it is suggested to update your system. The code below should be run in a Julia terminal. This might take some time (depending on the amount of packages to be updated and your internet connection).\n",
    "\n",
    "```Julia\n",
    "using Pkg\n",
    "Pkg.update()\n",
    "```"
   ]
  },
  {
   "cell_type": "markdown",
   "metadata": {},
   "source": [
    "## Disk indexing\n",
    "* make a function that scans a folders' (and its subfolders) \n",
    "* alle folders en files inside the roots folder should be indexed\n",
    "* write the structure to a text file, you should destinguish between files and folder (for readability)\n",
    "* Use indentation in your text file to destinguish different levels\n",
    "* test your application\n",
    "\n",
    "An example output is given below:\n",
    "```Julia\n",
    "loc = \"/Users/bart/Documents/KMS/ES313/ES313.jl/Exercises/spygames/\"\n",
    "listfolder(loc)\n",
    "```\n",
    "\n",
    "```\n",
    "Analysis of /Users/bart/Documents/KMS/ES313/ES313.jl/Exercises/spygames/:\n",
    "\n",
    "Folders in /Users/bart/Documents/KMS/ES313/ES313.jl/Exercises/spygames/:\n",
    "\t[HIDDEN].ipynb_checkpoints\n",
    "\tFiles in /Users/bart/Documents/KMS/ES313/ES313.jl/Exercises/spygames//.ipynb_checkpoints:\n",
    "\t\tWarning-checkpoint.txt\n",
    "\ttype 2\n",
    "\ttype 3\n",
    "Files in /Users/bart/Documents/KMS/ES313/ES313.jl/Exercises/spygames/:\n",
    "\t[HIDDEN].DS_Store\n",
    "\tWarning.txt\n",
    "\n",
    "\n",
    "```"
   ]
  },
  {
   "cell_type": "code",
   "execution_count": 1,
   "metadata": {},
   "outputs": [
    {
     "data": {
      "text/plain": [
       "listfolder (generic function with 1 method)"
      ]
     },
     "execution_count": 1,
     "metadata": {},
     "output_type": "execute_result"
    }
   ],
   "source": [
    "# 1st part : function with IOStream\n",
    "function listfolder(loc)\n",
    "    open(\"fichier.txt\", \"w\")\n",
    "    crawlfolder(loc)\n",
    "end\n",
    "# 2nd part : analyse folder\n",
    "fout = open(\"fichier.txt\", \"w\")\n",
    "function listfolder(loc)\n",
    "    if isfile(loc)\n",
    "        println(fout, loc)\n",
    "    return\n",
    "    end\n",
    "    \n",
    "    println(fout, \"Files & Folders in \", loc)\n",
    "    if isdir(loc)\n",
    "        for name in readdir(loc)\n",
    "            listfolder(loc*\"/\"*name)\n",
    "            loc = loc*\"/\"*name\n",
    "        end\n",
    "        close(fout)\n",
    "    end\n",
    "end"
   ]
  },
  {
   "cell_type": "code",
   "execution_count": 2,
   "metadata": {},
   "outputs": [],
   "source": [
    "listfolder(\"/home/jupyter/Work\")"
   ]
  },
  {
   "cell_type": "code",
   "execution_count": 3,
   "metadata": {},
   "outputs": [
    {
     "ename": "UndefVarError",
     "evalue": "UndefVarError: iostream not defined",
     "output_type": "error",
     "traceback": [
      "UndefVarError: iostream not defined",
      "",
      "Stacktrace:",
      " [1] top-level scope at ./In[3]:5"
     ]
    }
   ],
   "source": [
    "folders = filter(x->isdir(x),readdir(pwd()))\n",
    "files = filter(x->isfile(x),readdir(pwd()))\n",
    "\n",
    "for file in files\n",
    "    write(iostream,\"Message $file\")\n",
    "end\n",
    "for folder in folders\n",
    "    write(iostream,\"Message $folder\")\n",
    "    recurse(folder)\n",
    "end"
   ]
  },
  {
   "cell_type": "code",
   "execution_count": null,
   "metadata": {},
   "outputs": [],
   "source": []
  },
  {
   "cell_type": "markdown",
   "metadata": {},
   "source": [
    "### Working with types\n",
    "* Write your own types holding (Lat,Long) coordinates of a point on earth. For ease of use, we will respect the following convention: $Lat\\in\\left[-90°,90°\\right]$ and $Long\\in\\left[0°,360°\\right[$\n",
    "* The shortest path $P$ between two locations on a spere is calculated as follows ($R_{earth} \\approx 6400$km):\n",
    "\\begin{equation}\n",
    "\\cos\\left(p\\right)=\\sin\\left(Lat_{A}\\right)\\sin\\left(Lat_{B}\\right)+\\cos\\left(Long_{A}\\right)\\cos\\left(Long_{B}\\right)\\cos\\left(\\Delta Long\\right)\n",
    "\\end{equation}\n",
    "\\begin{equation}\n",
    "P = \\cos^{-1}\\left( p\\right)*R_{earth}\n",
    "\\end{equation}\n",
    "\n",
    "* write a function to determine the shortest path between two points\n",
    "* write a function to determine the two closest or two furthest points from an array of points\n",
    "* try your functions for some locations on the globe (generate random points)\n",
    "* think about how you would like your points to look when printed"
   ]
  },
  {
   "cell_type": "code",
   "execution_count": 10,
   "metadata": {},
   "outputs": [
    {
     "data": {
      "text/plain": [
       "show (generic function with 325 methods)"
      ]
     },
     "execution_count": 10,
     "metadata": {},
     "output_type": "execute_result"
    }
   ],
   "source": [
    "mutable struct Coord\n",
    "    Name::String\n",
    "    Lat::Int64\n",
    "    Long::Int64\n",
    "end\n",
    "\n",
    "import Base.show\n",
    "function show(io::IO,p::Coord)\n",
    "    write(io,\"$(p.Name) : $(p.Lat)° Lat, $(p.Long)° Long\")\n",
    "end"
   ]
  },
  {
   "cell_type": "code",
   "execution_count": 11,
   "metadata": {},
   "outputs": [
    {
     "data": {
      "text/plain": [
       "A : -80° Lat, 350° Long"
      ]
     },
     "execution_count": 11,
     "metadata": {},
     "output_type": "execute_result"
    }
   ],
   "source": [
    "A = Coord(\"A\",-80,350)"
   ]
  },
  {
   "cell_type": "code",
   "execution_count": 25,
   "metadata": {},
   "outputs": [
    {
     "data": {
      "text/plain": [
       "mindist (generic function with 2 methods)"
      ]
     },
     "execution_count": 25,
     "metadata": {},
     "output_type": "execute_result"
    }
   ],
   "source": [
    "function mindist(a::Coord, b::Coord)\n",
    "    La = a.Lat*pi/180\n",
    "    Lb = b.Lat*pi/180\n",
    "    Longa = a.Long*pi/180\n",
    "    Longb = b.Long*pi/180\n",
    "    ΔLong = (Longa-Longb)*pi/180\n",
    "    R = 6400\n",
    "    d = acos(sin(La)*sin(Lb) + cos(Longa)*cos(Longb)*cos(ΔLong)) * R\n",
    "    return d\n",
    "end\n",
    "\n",
    "function mindist(b::Tuple{Coord,Coord})\n",
    "    mindist(b[1],b[2])\n",
    "end"
   ]
  },
  {
   "cell_type": "code",
   "execution_count": 26,
   "metadata": {},
   "outputs": [
    {
     "data": {
      "text/plain": [
       "19755.27371538039"
      ]
     },
     "execution_count": 26,
     "metadata": {},
     "output_type": "execute_result"
    }
   ],
   "source": [
    "a = Coord(\"A\", 0, 0)\n",
    "b = Coord(\"B\", 0, 180)\n",
    "c = Coord(\"C\",230,180)\n",
    "mindist(a,b)"
   ]
  },
  {
   "cell_type": "code",
   "execution_count": 32,
   "metadata": {},
   "outputs": [
    {
     "data": {
      "text/plain": [
       "6-element Array{Tuple{Coord,Coord},1}:\n",
       " (A : 0° Lat, 0° Long, B : 0° Lat, 180° Long)    \n",
       " (A : 0° Lat, 0° Long, C : 230° Lat, 180° Long)  \n",
       " (B : 0° Lat, 180° Long, A : 0° Lat, 0° Long)    \n",
       " (B : 0° Lat, 180° Long, C : 230° Lat, 180° Long)\n",
       " (C : 230° Lat, 180° Long, A : 0° Lat, 0° Long)  \n",
       " (C : 230° Lat, 180° Long, B : 0° Lat, 180° Long)"
      ]
     },
     "execution_count": 32,
     "metadata": {},
     "output_type": "execute_result"
    }
   ],
   "source": [
    "arr = [a,b,c]\n",
    "comp = [(a,b) for a in arr for b in arr if a ≠ b]"
   ]
  },
  {
   "cell_type": "code",
   "execution_count": 31,
   "metadata": {},
   "outputs": [
    {
     "data": {
      "text/plain": [
       "6-element Array{Float64,1}:\n",
       " 19755.27371538039\n",
       " 19755.27371538039\n",
       " 19755.27371538039\n",
       "     0.0          \n",
       " 19755.27371538039\n",
       "     0.0          "
      ]
     },
     "execution_count": 31,
     "metadata": {},
     "output_type": "execute_result"
    }
   ],
   "source": [
    "(mindist.(comp))"
   ]
  },
  {
   "cell_type": "code",
   "execution_count": null,
   "metadata": {},
   "outputs": [],
   "source": []
  }
 ],
 "metadata": {
  "kernelspec": {
   "display_name": "Julia 1.0.0",
   "language": "julia",
   "name": "julia-1.0"
  },
  "language_info": {
   "file_extension": ".jl",
   "mimetype": "application/julia",
   "name": "julia",
   "version": "1.0.0"
  }
 },
 "nbformat": 4,
 "nbformat_minor": 2
}
