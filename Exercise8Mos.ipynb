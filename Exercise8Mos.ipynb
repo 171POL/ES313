{
 "cells": [
  {
   "cell_type": "markdown",
   "metadata": {},
   "source": [
    "# Phase Change\n",
    "\n",
    "Find the critical value of the percentage ($p$) of porous cells to reach the bottom of the structure.\n",
    "\n",
    "1. Remember to simulate multiple times (100) for a given $p$ to include stochastic effects.\n",
    "2. How many time steps do you have to simulate? When do you stop?\n",
    "3. Try to make an automatic procedure that gives the critical value (2 significant digits)?\n",
    "4. Does the size of the structure plays a role?"
   ]
  },
  {
   "cell_type": "code",
   "execution_count": null,
   "metadata": {},
   "outputs": [],
   "source": [
    "1+1"
   ]
  },
  {
   "cell_type": "markdown",
   "metadata": {},
   "source": [
    "# Fractals"
   ]
  },
  {
   "cell_type": "code",
   "execution_count": null,
   "metadata": {},
   "outputs": [],
   "source": [
    "using Pkg\n",
    "pkg\"add Plots\""
   ]
  },
  {
   "cell_type": "code",
   "execution_count": null,
   "metadata": {},
   "outputs": [],
   "source": [
    "using Plots"
   ]
  },
  {
   "cell_type": "markdown",
   "metadata": {},
   "source": [
    "## 1D Cellular Automata\n",
    "\n",
    "The dimension of a cellular automata can be estimated by its area, i.e. the number of \"on\" cells.\n",
    "\n",
    "Make a loglog plot (`plot(x, y, xscale=:log10, yscale=:log10)`) of the area of rule (20, 50 and 18) as a function of the number of time steps, $n$. Compare with the graphs of $y=n$ and $y=n^2$.\n",
    "\n",
    "The dimension is the slope of the resulting graph. A fractal result means that the cellular automata shows a fractal behavior."
   ]
  },
  {
   "cell_type": "markdown",
   "metadata": {},
   "source": [
    "## Percolation\n",
    "\n",
    "The dimension of a percolation model is also estimated by its area, i.e. the number of \"wet\" cells at the end of the simulation.\n",
    "\n",
    "Make of loglog plot of the number of wet cells as a function of the total number of cells. Show that for a critical value of $p$ the dimension is fractal."
   ]
  },
  {
   "cell_type": "code",
   "execution_count": null,
   "metadata": {},
   "outputs": [],
   "source": [
    "function visualizearray(array::Array{Float64, 2}, dim)\n",
    "    (nr_y, nr_x) = size(array)\n",
    "    width = dim * (nr_x - 1)\n",
    "    height = dim * (nr_y - 1)\n",
    "    Drawing(width, height, \"out.svg\")\n",
    "    for (j, y) in enumerate(2:nr_y-1)\n",
    "        for (i, x) in enumerate(2:nr_x-1)\n",
    "            sethue(setgray(0.8*(1-array[y, x])+0.1))\n",
    "            box(i*dim, j*dim, dim, dim, :fill)\n",
    "        end\n",
    "     end\n",
    "     finish()\n",
    "     preview()\n",
    "end"
   ]
  },
  {
   "cell_type": "code",
   "execution_count": null,
   "metadata": {},
   "outputs": [],
   "source": [
    "function applypercolation(array::Array{Float64, 2})\n",
    "    nr_y, nr_x = size(array)\n",
    "    out = deepcopy(array)\n",
    "    for y in 2:nr_y-1\n",
    "        for x in 2:nr_x-1\n",
    "            if out[y, x] > 0.0\n",
    "                c = array[y-1, x] + array[y, x-1] + array[y, x+1] + array[y+1, x]\n",
    "                if c ≥ 0.5\n",
    "                    out[y, x] = 0.5\n",
    "                end\n",
    "            end\n",
    "        end\n",
    "    end\n",
    "    out\n",
    "end"
   ]
  },
  {
   "cell_type": "code",
   "execution_count": null,
   "metadata": {},
   "outputs": [],
   "source": [
    "function createarray(xdim::Int64, ydim::Int64, p)\n",
    "    array = zeros(Float64, xdim, ydim)\n",
    "    array[2, 2:ydim-1] = ones(Float64, ydim-2)*0.5\n",
    "    array[3:xdim-1, 2:ydim-1] = rand(Float64, xdim-3, ydim-2)\n",
    "    for y in 3:ydim-1\n",
    "        for x in 2:xdim-1\n",
    "            if array[y, x] < p # 0.59375\n",
    "                array[y, x] = 0.1\n",
    "            else\n",
    "                array[y, x] = 0.0\n",
    "            end\n",
    "        end\n",
    "    end\n",
    "    visualizearray(array, 4)\n",
    "end"
   ]
  },
  {
   "cell_type": "code",
   "execution_count": null,
   "metadata": {},
   "outputs": [],
   "source": [
    "function countwet(array::Array{Float64, 2})\n",
    "    count(v->v==0.5, array)\n",
    "end"
   ]
  },
  {
   "cell_type": "code",
   "execution_count": null,
   "metadata": {},
   "outputs": [],
   "source": [
    "function isbottomwet(array::Array{Float64, 2})\n",
    "    count(v->v==0.5)"
   ]
  }
 ],
 "metadata": {
  "kernelspec": {
   "display_name": "Julia 1.0.0",
   "language": "julia",
   "name": "julia-1.0"
  },
  "language_info": {
   "file_extension": ".jl",
   "mimetype": "application/julia",
   "name": "julia",
   "version": "1.0.0"
  }
 },
 "nbformat": 4,
 "nbformat_minor": 2
}
