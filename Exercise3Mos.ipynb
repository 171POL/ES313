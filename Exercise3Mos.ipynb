{
 "cells": [
  {
   "cell_type": "markdown",
   "metadata": {},
   "source": [
    "# PS 12 Sep - string, wordplay, arrays, tuples"
   ]
  },
  {
   "cell_type": "markdown",
   "metadata": {},
   "source": [
    "\n",
    "\n",
    "#### Fruitful functions, indexing, logical operators, type checking, incremental development etc.\n",
    "Write a function that take an array and an index $i$ as input and returns the value at position $i$\n",
    "\n",
    "\n",
    "\n",
    "Test your function on the array `x = [1 2 3 4]`.\n"
   ]
  },
  {
   "cell_type": "code",
   "execution_count": 21,
   "metadata": {},
   "outputs": [
    {
     "data": {
      "text/plain": [
       "select (generic function with 1 method)"
      ]
     },
     "execution_count": 21,
     "metadata": {},
     "output_type": "execute_result"
    }
   ],
   "source": [
    "function select(x,i)\n",
    "    S = sort!((collect(size(x))))\n",
    "    mS = S[1]\n",
    "    if i <= 0 || typeof(i) != Int64\n",
    "        println(\"Index must be a non-zero positive integer\")\n",
    "        return 0\n",
    "    elseif i > length(x)\n",
    "        println(\"Index bigger than array's length\")\n",
    "        return 0\n",
    "    end\n",
    "    return x[i]\n",
    "end"
   ]
  },
  {
   "cell_type": "code",
   "execution_count": 22,
   "metadata": {},
   "outputs": [
    {
     "data": {
      "text/plain": [
       "2"
      ]
     },
     "execution_count": 22,
     "metadata": {},
     "output_type": "execute_result"
    }
   ],
   "source": [
    "select([1 2 3 4], 2)"
   ]
  },
  {
   "cell_type": "markdown",
   "metadata": {},
   "source": [
    "In Julia, indexing starts at 1. Write a function that takes an index and a maximum dimension and maps it to an appropriate value. Example for `x = [1 2 3 4]`.\n",
    "\n",
    "* index: -1 0 1 2 3 4 5 6\n",
    "* value:  3 4 1 2 3 4 1 2"
   ]
  },
  {
   "cell_type": "code",
   "execution_count": 2,
   "metadata": {},
   "outputs": [
    {
     "data": {
      "text/plain": [
       "indexval (generic function with 1 method)"
      ]
     },
     "execution_count": 2,
     "metadata": {},
     "output_type": "execute_result"
    }
   ],
   "source": [
    "function indexval(x,i)\n",
    "    l = length(x)\n",
    "    j = i%l\n",
    "    if j <=0\n",
    "        j = l + j \n",
    "    end\n",
    "    return x[j]\n",
    "end\n",
    "\n",
    "# Directly with an array"
   ]
  },
  {
   "cell_type": "markdown",
   "metadata": {},
   "source": [
    "Use the mapper function to create a modified selection function that takes an array and a value and returns the element (cyclic)."
   ]
  },
  {
   "cell_type": "code",
   "execution_count": 1,
   "metadata": {},
   "outputs": [],
   "source": [
    "# SEE ABOVE"
   ]
  },
  {
   "cell_type": "markdown",
   "metadata": {},
   "source": [
    "Expand the capacities of the previously created function to a matrix. Test the function on the array `x = [1 2 3 4; 5 6 7 8]`.\n",
    "\n",
    "Useful instruction: `?size()`"
   ]
  },
  {
   "cell_type": "code",
   "execution_count": 2,
   "metadata": {},
   "outputs": [],
   "source": [
    "function indexval(i, x)\n",
    "    a, b = size(x)\n",
    "    l = a * b\n",
    "    j = i%l\n",
    "    if j <=0\n",
    "        j = l + j \n",
    "    end\n",
    "    x = transpose(x)\n",
    "    return x[j]\n",
    "end\n",
    "    "
   ]
  },
  {
   "cell_type": "code",
   "execution_count": 4,
   "metadata": {},
   "outputs": [
    {
     "data": {
      "text/plain": [
       "mapper (generic function with 1 method)"
      ]
     },
     "execution_count": 4,
     "metadata": {},
     "output_type": "execute_result"
    }
   ],
   "source": [
    "# ALSO : \n",
    "function cylcicmatrix(A,i,j)\n",
    "    maxx, maxy = size(A)\n",
    "    m = mapper(i,maxx)\n",
    "    n = mapper(j,maxy)\n",
    "    return A[m,n]\n",
    "end\n",
    "\n",
    "function mapper(i,maxdim)\n",
    "    j = i%maxdim\n",
    "    if j <= 0\n",
    "        return j+maxdim\n",
    "    else\n",
    "        return j\n",
    "    end\n",
    "end"
   ]
  },
  {
   "cell_type": "markdown",
   "metadata": {},
   "source": [
    "**Challenge:**\n",
    "build a function that takes a matrix $A$,two indices $(i,j)$ and a value $n$ that returns a square submatrix of A of size $1+2n$. E.g. if $n=0$, the function should only return $A[i,j]$. If $n=1$, the  function should return a $3\\times3$ matrix with $A[i,j]$ as central element etc. \n",
    "\n",
    "Use the function you just built to map negative indices and values that exceed the matrix dimension to their corresponding value."
   ]
  },
  {
   "cell_type": "code",
   "execution_count": 21,
   "metadata": {},
   "outputs": [
    {
     "data": {
      "text/plain": [
       "sqsub (generic function with 1 method)"
      ]
     },
     "execution_count": 21,
     "metadata": {},
     "output_type": "execute_result"
    }
   ],
   "source": [
    "## NON-CYCLIC IN COMMENTS\n",
    "\n",
    "function sqsub(A, i, j, n)\n",
    "    # S = sort!((collect(size(A))))\n",
    "    # mS = S[1]\n",
    "    \n",
    "    # if (1+2*n) > mS\n",
    "    # println(\"Impossible : n too big for matrix entered.\")\n",
    "    #    return 0\n",
    "    # end\n",
    "    #  if n >= i || n >= j\n",
    "    #  println(\"Impossible, choose other center element (n > i or n > j)\")\n",
    "    #      return 0\n",
    "    # end\n",
    "    \n",
    "    maxx, maxy = size(A)\n",
    "    B = zeros(1+2*n,1+2*n)\n",
    "    for ii in 1:1+2*n\n",
    "        for jj in 1:1+2*n\n",
    "            B[ii,jj] = A[mapper(i-n+ii-1,maxx),mapper(j-n+ii-1,maxy)]\n",
    "        end\n",
    "    end\n",
    "    return B\n",
    "end"
   ]
  },
  {
   "cell_type": "code",
   "execution_count": 14,
   "metadata": {},
   "outputs": [
    {
     "data": {
      "text/plain": [
       "10×10 Array{Float64,2}:\n",
       " 0.73121   0.333312   0.283086   0.501851  …  0.534755   0.407353   0.779036 \n",
       " 0.642176  0.359675   0.862801   0.753662     0.15372    0.177967   0.146596 \n",
       " 0.410297  0.158341   0.0536082  0.945511     0.473397   0.320388   0.908816 \n",
       " 0.363872  0.0404799  0.607557   0.471573     0.424906   0.46026    0.93423  \n",
       " 0.65118   0.887256   0.280882   0.979114     0.0491734  0.210271   0.9408   \n",
       " 0.18998   0.794248   0.468505   0.3341    …  0.543136   0.0734515  0.798942 \n",
       " 0.817494  0.21039    0.326583   0.952827     0.908716   0.626478   0.558606 \n",
       " 0.554334  0.869111   0.652132   0.414653     0.468049   0.991906   0.0653859\n",
       " 0.684847  0.131115   0.240303   0.402465     0.0498618  0.160607   0.0308889\n",
       " 0.710784  0.129361   0.713984   0.248469     0.368782   0.260318   0.285919 "
      ]
     },
     "execution_count": 14,
     "metadata": {},
     "output_type": "execute_result"
    }
   ],
   "source": [
    "A = rand(10,10)\n",
    "A\n"
   ]
  },
  {
   "cell_type": "code",
   "execution_count": 22,
   "metadata": {},
   "outputs": [
    {
     "data": {
      "text/plain": [
       "3×3 Array{Float64,2}:\n",
       " 0.779036  0.779036  0.779036\n",
       " 0.642176  0.642176  0.642176\n",
       " 0.158341  0.158341  0.158341"
      ]
     },
     "execution_count": 22,
     "metadata": {},
     "output_type": "execute_result"
    }
   ],
   "source": [
    "sqsub(A,2,11,1)"
   ]
  },
  {
   "cell_type": "markdown",
   "metadata": {},
   "source": [
    "#### Basic string iteration"
   ]
  },
  {
   "cell_type": "markdown",
   "metadata": {},
   "source": [
    "Gerate a funtion that asks a users' first and last name and return a message greeting the user and returning the number of elapsed days, hours and seconds since the UNIX epoch"
   ]
  },
  {
   "cell_type": "code",
   "execution_count": 24,
   "metadata": {},
   "outputs": [
    {
     "data": {
      "text/plain": [
       "input (generic function with 2 methods)"
      ]
     },
     "execution_count": 24,
     "metadata": {},
     "output_type": "execute_result"
    }
   ],
   "source": [
    "function hello(first, last)\n",
    "days = time()/60/60/24\n",
    "hours = (days-floor(days)) * 24\n",
    "minutes = (hours-floor(hours)) * 60\n",
    "seconds = (minutes-floor(minutes)) * 60\n",
    "println(\"Welcome $first $last ! Elapsed time since beggining of (important) universe : $(Int(floor(days))) days, $(Int(floor(hours))) hours, $(Int(floor(minutes))) minutes and $(Int(floor(seconds))) seconds.\")\n",
    "end\n",
    "\n",
    "function hello()\n",
    "    inp = input(\"First and Last Name please ?\")\n",
    "    days = time()/60/60/24\n",
    "    hours = (days-floor(days)) * 24\n",
    "    minutes = (hours-floor(hours)) * 60\n",
    "    seconds = (minutes-floor(minutes)) * 60\n",
    "    println(\"Welcome $inp ! Elapsed time since beggining of (important) universe : $(Int(floor(days))) days, $(Int(floor(hours))) hours, $(Int(floor(minutes))) minutes and $(Int(floor(seconds))) seconds.\")\n",
    "end\n",
    "\n",
    "function input(prompt::String=\"\")::String\n",
    "        print(prompt)\n",
    "        return chomp(readline())\n",
    "end"
   ]
  },
  {
   "cell_type": "code",
   "execution_count": 3,
   "metadata": {},
   "outputs": [
    {
     "name": "stdout",
     "output_type": "stream",
     "text": [
      "Welcome Ark Mos ! Elapsed time since beggining of (important) universe : 17786 days, 6 hours, 39 minutes and 18 seconds.\n"
     ]
    }
   ],
   "source": [
    "hello(\"Ark\",\"Mos\")"
   ]
  },
  {
   "cell_type": "markdown",
   "metadata": {},
   "source": [
    "##### simple Crypto\n",
    "A Caesar cypher is a weak form of encryption that involves “rotating” each letter by a fixed number of places. To rotate a letter means to shift it through the alphabet, wrapping around to the beginning if necessary, so ’A’ rotated by 3 is ’D’ and ’Z’ rotated by 1 is ’A’.\n",
    "\n",
    "To rotate a word, rotate each letter by the same amount. For example, \"cheer\" rotated by 7 is \"jolly\" and \"melon\" rotated by -10 is \"cubed\". In the movie 2001: A Space Odyssey, the ship computer is called HAL, which is IBM rotated by -1.\n",
    "\n",
    "Write a function called rotateword that takes a string and an integer as parameters, and returns a new string that contains the letters from the original string rotated by the given amount.\n",
    "\n",
    "Hint: ?Int() ?Char"
   ]
  },
  {
   "cell_type": "code",
   "execution_count": 49,
   "metadata": {},
   "outputs": [
    {
     "data": {
      "text/plain": [
       "\"Li}\""
      ]
     },
     "execution_count": 49,
     "metadata": {},
     "output_type": "execute_result"
    }
   ],
   "source": [
    "#?Char\n",
    "Char(54)\n",
    "Int('B')\n",
    "\n",
    "function ccrypto(str, n)\n",
    "    msg = \"\"\n",
    "    for ltr in str\n",
    "        a = Int(ltr)\n",
    "        b = Char(a + n)\n",
    "        msg = msg*b\n",
    "    end\n",
    "    return msg\n",
    "end\n",
    "ccrypto(\"Hey\",4)"
   ]
  },
  {
   "cell_type": "markdown",
   "metadata": {},
   "source": [
    "##### palindromes\n",
    "Since a string can be traversed, it is easy to construct a palindrome. Write a function to verify if is a word is a palindrome."
   ]
  },
  {
   "cell_type": "code",
   "execution_count": 57,
   "metadata": {},
   "outputs": [
    {
     "data": {
      "text/plain": [
       "false"
      ]
     },
     "execution_count": 57,
     "metadata": {},
     "output_type": "execute_result"
    }
   ],
   "source": [
    "mot = \"albert\"\n",
    "palmot = mot*mot[end-1:-1:1]\n",
    "\n",
    "function iswpal(word)\n",
    "    word = uppercase(word)\n",
    "    word == word[end:-1:1]\n",
    "end\n",
    "\n",
    "iswpal(\"kaybK\")"
   ]
  },
  {
   "cell_type": "markdown",
   "metadata": {},
   "source": [
    "\n",
    "##### anagrams\n",
    "An anagram is a word or phrase formed by rearranging the letters of a different word or phrase, typically using all the original letters exactly once. For example, `binary`  can be rearranged into `brainy`.\n",
    "\n",
    "Write a function that returns a list of anagrams of length x"
   ]
  },
  {
   "cell_type": "code",
   "execution_count": 59,
   "metadata": {},
   "outputs": [
    {
     "data": {
      "text/plain": [
       "true"
      ]
     },
     "execution_count": 59,
     "metadata": {},
     "output_type": "execute_result"
    }
   ],
   "source": [
    "function isanagram(query, ref)\n",
    "    query = lowercase(query)\n",
    "    ref = lowercase(ref)\n",
    "    sort(collect(query)) == sort(collect(ref))\n",
    "end\n",
    "\n",
    "isanagram(\"pan\",\"nap\")"
   ]
  },
  {
   "cell_type": "markdown",
   "metadata": {},
   "source": [
    "#### Zipf's law\n",
    "\n",
    "The “rank” of a word is its position in an array of words sorted by frequency: the most common word has rank 1, the second most common has rank 2, etc.\n",
    "\n",
    "Zipf’s law describes a relationship between the ranks and frequencies of words in natural languages [(cf. Wikipedia)](https://en.wikipedia.org/wiki/Zipf's_law). Specifically, it predicts that the frequency, $f$ of the word with rank $r$ is:\n",
    "\\begin{equation}\n",
    "f=cr^{−s}\n",
    "\\end{equation}\n",
    "where $s$ and $c$ are parameters that depend on the language and the text. If you take the logarithm of both sides of this equation, you get:\n",
    "\\begin{equation}\n",
    "\\log{f}=\\log{c}-s\\log{r}\n",
    "\\end{equation}\n",
    "\n",
    "So if you plot $\\log{f}$ versus $\\log{r}$, you should get a straight line with slope $−s$ and intercept $\\log{c}$.\n",
    "\n",
    "Write a program that reads a text from a file, counts word frequencies. Determine $c$ and $s$ experimentally for texts in different languages.\n",
    "\n",
    "For the linear regression you can use the following:\n",
    "```Julia\n",
    "\"\"\"Simple linear regression implementation\"\"\"\n",
    "function linreg(x, y) \n",
    "    hcat(fill!(similar(x), 1), x) \\ y\n",
    "end\n",
    "```"
   ]
  },
  {
   "cell_type": "code",
   "execution_count": null,
   "metadata": {},
   "outputs": [],
   "source": [
    "# Example:"
   ]
  },
  {
   "cell_type": "code",
   "execution_count": null,
   "metadata": {},
   "outputs": [],
   "source": []
  }
 ],
 "metadata": {
  "kernelspec": {
   "display_name": "Julia 1.0.0",
   "language": "julia",
   "name": "julia-1.0"
  },
  "language_info": {
   "file_extension": ".jl",
   "mimetype": "application/julia",
   "name": "julia",
   "version": "1.0.0"
  }
 },
 "nbformat": 4,
 "nbformat_minor": 2
}
