{
 "cells": [
  {
   "cell_type": "markdown",
   "metadata": {},
   "source": [
    "# PS 18 Sep - Dictionaries, arrays\n",
    "\n",
    "### Working with words\n",
    "* Use a dictionary to find all the anagrams of a word (using the wordlist: \"words.txt\"). \n",
    "* Also write a function to return a list of the word with the most anagrams.\n"
   ]
  },
  {
   "cell_type": "code",
   "execution_count": 1,
   "metadata": {},
   "outputs": [
    {
     "data": {
      "text/plain": [
       "IOStream(<file words.txt>)"
      ]
     },
     "execution_count": 1,
     "metadata": {},
     "output_type": "execute_result"
    }
   ],
   "source": [
    "stream = open(\"words.txt\")"
   ]
  },
  {
   "cell_type": "code",
   "execution_count": 2,
   "metadata": {},
   "outputs": [
    {
     "data": {
      "text/plain": [
       "\"aa\""
      ]
     },
     "execution_count": 2,
     "metadata": {},
     "output_type": "execute_result"
    }
   ],
   "source": [
    "readline(stream)"
   ]
  },
  {
   "cell_type": "code",
   "execution_count": 3,
   "metadata": {},
   "outputs": [
    {
     "data": {
      "text/plain": [
       "\"aah\""
      ]
     },
     "execution_count": 3,
     "metadata": {},
     "output_type": "execute_result"
    }
   ],
   "source": [
    "readline(stream)"
   ]
  },
  {
   "cell_type": "code",
   "execution_count": 6,
   "metadata": {},
   "outputs": [
    {
     "data": {
      "text/plain": [
       "113809-element Array{String,1}:\n",
       " \"aa\"        \n",
       " \"aah\"       \n",
       " \"aahed\"     \n",
       " \"aahing\"    \n",
       " \"aahs\"      \n",
       " \"aal\"       \n",
       " \"aalii\"     \n",
       " \"aaliis\"    \n",
       " \"aals\"      \n",
       " \"aardvark\"  \n",
       " \"aardvarks\" \n",
       " \"aardwolf\"  \n",
       " \"aardwolves\"\n",
       " ⋮           \n",
       " \"zymes\"     \n",
       " \"zymogen\"   \n",
       " \"zymogene\"  \n",
       " \"zymogenes\" \n",
       " \"zymogens\"  \n",
       " \"zymologies\"\n",
       " \"zymology\"  \n",
       " \"zymoses\"   \n",
       " \"zymosis\"   \n",
       " \"zymotic\"   \n",
       " \"zymurgies\" \n",
       " \"zymurgy\"   "
      ]
     },
     "execution_count": 6,
     "metadata": {},
     "output_type": "execute_result"
    }
   ],
   "source": [
    "list = readlines(\"words.txt\") # Mark the S"
   ]
  },
  {
   "cell_type": "markdown",
   "metadata": {},
   "source": [
    "On va mettre comme KEY le mot avec les lettres en ordre alphabétique, et en VALUE un array avec tous les anagrammes"
   ]
  },
  {
   "cell_type": "code",
   "execution_count": 5,
   "metadata": {},
   "outputs": [
    {
     "data": {
      "text/plain": [
       "\"ehy\""
      ]
     },
     "execution_count": 5,
     "metadata": {},
     "output_type": "execute_result"
    }
   ],
   "source": [
    "join(sort(collect(\"hey\")))"
   ]
  },
  {
   "cell_type": "code",
   "execution_count": 10,
   "metadata": {},
   "outputs": [
    {
     "data": {
      "text/plain": [
       "anagrammer (generic function with 1 method)"
      ]
     },
     "execution_count": 10,
     "metadata": {},
     "output_type": "execute_result"
    }
   ],
   "source": [
    "function anagrammer(file)\n",
    "    list = readlines(file)\n",
    "    dic = Dict()\n",
    "    for word in list\n",
    "        key = join(sort(collect(word)))\n",
    "        push!( get!(dic,key,[]), word)\n",
    "    end\n",
    "    return dic\n",
    "end"
   ]
  },
  {
   "cell_type": "code",
   "execution_count": 11,
   "metadata": {},
   "outputs": [
    {
     "data": {
      "text/plain": [
       "Dict{Any,Any} with 100097 entries:\n",
       "  \"aaeikllv\"              => Any[\"lavalike\"]\n",
       "  \"anrtty\"                => Any[\"tyrant\"]\n",
       "  \"dllouy\"                => Any[\"loudly\"]\n",
       "  \"eessy\"                 => Any[\"yeses\"]\n",
       "  \"bghinoo\"               => Any[\"hoboing\"]\n",
       "  \"cgillnuy\"              => Any[\"cullying\"]\n",
       "  \"abdiiiiilmnssty\"       => Any[\"inadmissibility\"]\n",
       "  \"bhprsuu\"               => Any[\"brushup\"]\n",
       "  \"eiilmmot\"              => Any[\"immotile\"]\n",
       "  \"aeeilnrstuz\"           => Any[\"neutralizes\"]\n",
       "  \"acefinn\"               => Any[\"finance\"]\n",
       "  \"eloprssuy\"             => Any[\"pyloruses\"]\n",
       "  \"deennpst\"              => Any[\"pendents\"]\n",
       "  \"achinotz\"              => Any[\"hoactzin\"]\n",
       "  \"aaeiillnotv\"           => Any[\"alleviation\"]\n",
       "  \"abnoorsyz\"             => Any[\"bryozoans\"]\n",
       "  \"ehkoorsuw\"             => Any[\"housework\", \"workhouse\"]\n",
       "  \"aeefgiorrrrt\"          => Any[\"refrigerator\"]\n",
       "  \"acensstt\"              => Any[\"scantest\"]\n",
       "  \"aimnsz\"                => Any[\"nizams\"]\n",
       "  \"ciimrsttu\"             => Any[\"triticums\"]\n",
       "  \"aallu\"                 => Any[\"alula\"]\n",
       "  \"cciikkpsw\"             => Any[\"pickwicks\"]\n",
       "  \"cdeeisv\"               => Any[\"devices\"]\n",
       "  \"airru\"                 => Any[\"urari\"]\n",
       "  ⋮                       => ⋮"
      ]
     },
     "execution_count": 11,
     "metadata": {},
     "output_type": "execute_result"
    }
   ],
   "source": [
    "anagrammer(\"words.txt\")"
   ]
  },
  {
   "cell_type": "code",
   "execution_count": 14,
   "metadata": {},
   "outputs": [
    {
     "data": {
      "text/plain": [
       "2-element Array{Any,1}:\n",
       " \"nap\"\n",
       " \"pan\""
      ]
     },
     "execution_count": 14,
     "metadata": {},
     "output_type": "execute_result"
    }
   ],
   "source": [
    "function findanagram(word, dic)\n",
    "    key = join(sort(collect(word)))\n",
    "    if key ∉ keys(dic)\n",
    "        error(\"Word '$word' not found\")\n",
    "    end\n",
    "    return dic[key]\n",
    "end\n",
    "dic = anagrammer(\"words.txt\")\n",
    "\n",
    "findanagram(\"pan\",dic)"
   ]
  },
  {
   "cell_type": "code",
   "execution_count": 16,
   "metadata": {},
   "outputs": [
    {
     "ename": "ErrorException",
     "evalue": "Word 'arkady' not found",
     "output_type": "error",
     "traceback": [
      "Word 'arkady' not found",
      "",
      "Stacktrace:",
      " [1] error(::String) at ./error.jl:33",
      " [2] findanagram(::String, ::Dict{Any,Any}) at ./In[14]:4",
      " [3] top-level scope at In[16]:1"
     ]
    }
   ],
   "source": [
    "findanagram(\"arkady\", dic)"
   ]
  },
  {
   "cell_type": "markdown",
   "metadata": {},
   "source": [
    "### Working with text\n",
    "Write a function that reads a textfile and returns all the words that you find in it as an array."
   ]
  },
  {
   "cell_type": "code",
   "execution_count": null,
   "metadata": {},
   "outputs": [],
   "source": []
  },
  {
   "cell_type": "markdown",
   "metadata": {},
   "source": [
    "Create a histogram of the book, what are the ten most frequent words?"
   ]
  },
  {
   "cell_type": "code",
   "execution_count": 18,
   "metadata": {},
   "outputs": [
    {
     "data": {
      "text/plain": [
       "\"Il y a un an à peu près, qu'en faisant à la Bibliothèque royale des recherches pour mon histoire de Louis XIV, je tombai par hasard sur les  Mémoires de M. d'Artagnan  , imprimés, - comme la plus grande partie des ouvrages de cette époque, où les auteurs tenaient à dire la vérité sans aller faire un tour plus ou moins long à la Bastille, - à Amsterdam, chez Pierre Rouge. Le titre me séduisit : je les emportai chez moi, avec la permission de M. le conservateur, bien entendu, je les dévorai. \""
      ]
     },
     "execution_count": 18,
     "metadata": {},
     "output_type": "execute_result"
    }
   ],
   "source": [
    "book = readlines(\"3mousquetaires.txt\")\n",
    "book[5]"
   ]
  },
  {
   "cell_type": "code",
   "execution_count": 32,
   "metadata": {},
   "outputs": [
    {
     "data": {
      "text/plain": [
       "makehist (generic function with 1 method)"
      ]
     },
     "execution_count": 32,
     "metadata": {},
     "output_type": "execute_result"
    }
   ],
   "source": [
    "function splitphrase(phrase)\n",
    "    split(phrase,keepempty=false) # Voir documentation ?split()\n",
    "end\n",
    "\n",
    "function cleanword(word)\n",
    "    neword = \"\"\n",
    "    for ltr in (word)\n",
    "        if isletter(ltr)\n",
    "            neword = neword*ltr\n",
    "        end\n",
    "    end\n",
    "    return lowercase(neword)\n",
    "end\n",
    "\n",
    "function readbook(filename)\n",
    "    book = readlines(filename)\n",
    "    wordlist = []\n",
    "    for line in book\n",
    "        append!(wordlist, splitphrase(line))\n",
    "    end\n",
    "    return cleanword.(wordlist)\n",
    "end\n",
    "\n",
    "function makehist(list)\n",
    "    hist = Dict()\n",
    "    for item in list\n",
    "        hist[item] = get(hist,item,0) + 1\n",
    "    end\n",
    "    return hist\n",
    "end"
   ]
  },
  {
   "cell_type": "code",
   "execution_count": 30,
   "metadata": {},
   "outputs": [
    {
     "data": {
      "text/plain": [
       "234941-element Array{String,1}:\n",
       " \"les\"          \n",
       " \"trois\"        \n",
       " \"mousquetaires\"\n",
       " \"alexandre\"    \n",
       " \"dumas\"        \n",
       " \"il\"           \n",
       " \"y\"            \n",
       " \"a\"            \n",
       " \"un\"           \n",
       " \"an\"           \n",
       " \"à\"            \n",
       " \"peu\"          \n",
       " \"près\"         \n",
       " ⋮              \n",
       " \"amers\"        \n",
       " \"ont\"          \n",
       " \"le\"           \n",
       " \"temps\"        \n",
       " \"de\"           \n",
       " \"se\"           \n",
       " \"changer\"      \n",
       " \"en\"           \n",
       " \"doux\"         \n",
       " \"souvenirs\"    \n",
       " \"\"             \n",
       " \"\"             "
      ]
     },
     "execution_count": 30,
     "metadata": {},
     "output_type": "execute_result"
    }
   ],
   "source": [
    "REDBOOK = readbook(\"3mousquetaires.txt\")"
   ]
  },
  {
   "cell_type": "code",
   "execution_count": 21,
   "metadata": {},
   "outputs": [
    {
     "data": {
      "text/plain": [
       "93-element Array{SubString{String},1}:\n",
       " \"Il\"           \n",
       " \"y\"            \n",
       " \"a\"            \n",
       " \"un\"           \n",
       " \"an\"           \n",
       " \"à\"            \n",
       " \"peu\"          \n",
       " \"près,\"        \n",
       " \"qu'en\"        \n",
       " \"faisant\"      \n",
       " \"à\"            \n",
       " \"la\"           \n",
       " \"Bibliothèque\" \n",
       " ⋮              \n",
       " \"avec\"         \n",
       " \"la\"           \n",
       " \"permission\"   \n",
       " \"de\"           \n",
       " \"M.\"           \n",
       " \"le\"           \n",
       " \"conservateur,\"\n",
       " \"bien\"         \n",
       " \"entendu,\"     \n",
       " \"je\"           \n",
       " \"les\"          \n",
       " \"dévorai.\"     "
      ]
     },
     "execution_count": 21,
     "metadata": {},
     "output_type": "execute_result"
    }
   ],
   "source": [
    "splitphrase(book[5])"
   ]
  },
  {
   "cell_type": "code",
   "execution_count": 36,
   "metadata": {},
   "outputs": [
    {
     "data": {
      "text/plain": [
       "Dict{Any,Any} with 15990 entries:\n",
       "  \"invités\"      => 2\n",
       "  \"couvents\"     => 1\n",
       "  \"quatre\"       => 269\n",
       "  \"trompettes\"   => 2\n",
       "  \"regagne\"      => 1\n",
       "  \"déquipement\"  => 1\n",
       "  \"injustement\"  => 2\n",
       "  \"estime\"       => 3\n",
       "  \"désignezmoi\"  => 1\n",
       "  \"propositions\" => 1\n",
       "  \"gagnés\"       => 1\n",
       "  \"sexaminèrent\" => 1\n",
       "  \"planches\"     => 2\n",
       "  \"bâtit\"        => 1\n",
       "  \"disputaient\"  => 2\n",
       "  \"soirlà\"       => 4\n",
       "  \"soignezvous\"  => 1\n",
       "  \"effacer\"      => 1\n",
       "  \"il\"           => 2561\n",
       "  \"tribunal\"     => 5\n",
       "  \"choisi\"       => 5\n",
       "  \"douvrir\"      => 7\n",
       "  \"promenades\"   => 3\n",
       "  \"doucereuse\"   => 1\n",
       "  \"bagages\"      => 1\n",
       "  ⋮              => ⋮"
      ]
     },
     "execution_count": 36,
     "metadata": {},
     "output_type": "execute_result"
    }
   ],
   "source": [
    "histo = makehist(REDBOOK)"
   ]
  },
  {
   "cell_type": "code",
   "execution_count": 37,
   "metadata": {},
   "outputs": [
    {
     "data": {
      "text/plain": [
       "15990-element Array{Any,1}:\n",
       " 15387\n",
       "  8927\n",
       "  5785\n",
       "  5390\n",
       "  5129\n",
       "  4470\n",
       "  3805\n",
       "  3508\n",
       "  2666\n",
       "  2561\n",
       "  2500\n",
       "  2417\n",
       "  2368\n",
       "     ⋮\n",
       "     1\n",
       "     1\n",
       "     1\n",
       "     1\n",
       "     1\n",
       "     1\n",
       "     1\n",
       "     1\n",
       "     1\n",
       "     1\n",
       "     1\n",
       "     1"
      ]
     },
     "execution_count": 37,
     "metadata": {},
     "output_type": "execute_result"
    }
   ],
   "source": [
    "sort(collect(values(histo)), rev=true)"
   ]
  },
  {
   "cell_type": "code",
   "execution_count": 44,
   "metadata": {},
   "outputs": [
    {
     "data": {
      "text/plain": [
       "\"je\""
      ]
     },
     "execution_count": 44,
     "metadata": {},
     "output_type": "execute_result"
    }
   ],
   "source": [
    "N = 2666\n",
    "for (key, val) in histo\n",
    "    if histo[key] == N\n",
    "        return(key)\n",
    "    end \n",
    "end\n"
   ]
  },
  {
   "cell_type": "code",
   "execution_count": 45,
   "metadata": {},
   "outputs": [
    {
     "data": {
      "text/plain": [
       "\"invités\""
      ]
     },
     "execution_count": 45,
     "metadata": {},
     "output_type": "execute_result"
    }
   ],
   "source": []
  },
  {
   "cell_type": "code",
   "execution_count": 43,
   "metadata": {},
   "outputs": [
    {
     "data": {
      "text/plain": [
       "15990-element Array{Pair{Any,Any},1}:\n",
       "                \"\" => 15387\n",
       "              \"de\" => 8927 \n",
       "              \"et\" => 5785 \n",
       "              \"la\" => 5390 \n",
       "              \"le\" => 5129 \n",
       "               \"à\" => 4470 \n",
       "             \"que\" => 3805 \n",
       "            \"vous\" => 3508 \n",
       "              \"je\" => 2666 \n",
       "              \"il\" => 2561 \n",
       "             \"les\" => 2500 \n",
       "              \"un\" => 2417 \n",
       "              \"en\" => 2368 \n",
       "                   ⋮       \n",
       "     \"empoisonnée\" => 1    \n",
       "        \"projette\" => 1    \n",
       "      \"flottaient\" => 1    \n",
       " \"raisonnablement\" => 1    \n",
       "    \"nannonçaient\" => 1    \n",
       "     \"cherchemidi\" => 1    \n",
       "  \"macquitteraije\" => 1    \n",
       "           \"xviii\" => 1    \n",
       "      \"adjonction\" => 1    \n",
       "           \"séant\" => 1    \n",
       "        \"lémotion\" => 1    \n",
       "        \"endurées\" => 1    "
      ]
     },
     "execution_count": 43,
     "metadata": {},
     "output_type": "execute_result"
    }
   ],
   "source": [
    "arrayfromdic = [item for item in histo] # On peut aussi mettre des conditions ! \n",
    "sort(arrayfromdic,by=i->i[2],rev=true)"
   ]
  },
  {
   "cell_type": "code",
   "execution_count": 47,
   "metadata": {},
   "outputs": [
    {
     "data": {
      "text/plain": [
       "15990-element Array{Pair{Any,Any},1}:\n",
       " \"fossésmonsieurleprince\" => 1    \n",
       "    \"lieutenantscolonels\" => 1    \n",
       "      \"tranquillisezvous\" => 1    \n",
       "      \"reconnaîtriezvous\" => 1    \n",
       "      \"imperceptiblement\" => 1    \n",
       "      \"superficiellement\" => 1    \n",
       "      \"dapplaudissements\" => 1    \n",
       "      \"rencontreronsnous\" => 1    \n",
       "       \"questionneraient\" => 1    \n",
       "       \"éclaircissements\" => 1    \n",
       "       \"dattendrissement\" => 1    \n",
       "       \"anticardinaliste\" => 1    \n",
       "       \"tourbillonnantes\" => 1    \n",
       "                          ⋮       \n",
       "                      \"v\" => 1    \n",
       "                      \"d\" => 2    \n",
       "                      \"n\" => 8    \n",
       "                      \"ô\" => 4    \n",
       "                      \"x\" => 1    \n",
       "                      \"l\" => 1    \n",
       "                      \"r\" => 2    \n",
       "                      \"à\" => 4470 \n",
       "                      \"i\" => 5    \n",
       "                      \"y\" => 330  \n",
       "                      \"m\" => 633  \n",
       "                       \"\" => 15387"
      ]
     },
     "execution_count": 47,
     "metadata": {},
     "output_type": "execute_result"
    }
   ],
   "source": [
    "sort(arrayfromdic, by=i->length(i[1]),rev=true)"
   ]
  },
  {
   "cell_type": "markdown",
   "metadata": {},
   "source": [
    "Si on cherche un mot qui n'arrive que 3 fois : "
   ]
  },
  {
   "cell_type": "code",
   "execution_count": 48,
   "metadata": {},
   "outputs": [
    {
     "data": {
      "text/plain": [
       "15990-element Array{Pair{Any,Any},1}:\n",
       "         \"estime\" => 3\n",
       "     \"promenades\" => 3\n",
       "        \"enfonça\" => 3\n",
       "        \"obligée\" => 3\n",
       "      \"ecritures\" => 3\n",
       "        \"mériter\" => 3\n",
       "        \"semelle\" => 3\n",
       "      \"conseille\" => 3\n",
       "          \"robes\" => 3\n",
       "       \"instinct\" => 3\n",
       "        \"trompés\" => 3\n",
       "     \"traversait\" => 3\n",
       "       \"conjurer\" => 3\n",
       "                  ⋮   \n",
       "    \"cherchemidi\" => 1\n",
       "     \"manifestée\" => 2\n",
       " \"macquitteraije\" => 1\n",
       "    \"lhôtellerie\" => 7\n",
       "          \"xviii\" => 1\n",
       "     \"adjonction\" => 1\n",
       "        \"énergie\" => 4\n",
       "          \"séant\" => 1\n",
       "          \"joint\" => 2\n",
       "       \"lémotion\" => 1\n",
       "       \"endurées\" => 1\n",
       "     \"soustraire\" => 2"
      ]
     },
     "execution_count": 48,
     "metadata": {},
     "output_type": "execute_result"
    }
   ],
   "source": [
    "sort(arrayfromdic, by=i->i[2]==3,rev=true)"
   ]
  },
  {
   "cell_type": "markdown",
   "metadata": {},
   "source": [
    "### Zipf's law\n",
    "\n",
    "The “rank” of a word is its position in an array of words sorted by frequency: the most common word has rank 1, the second most common has rank 2, etc.\n",
    "\n",
    "Zipf’s law describes a relationship between the ranks and frequencies of words in natural languages [(cf. Wikipedia)](https://en.wikipedia.org/wiki/Zipf's_law). Specifically, it predicts that the frequency, $f$ of the word with rank $r$ is:\n",
    "\\begin{equation}\n",
    "f=cr^{−s}\n",
    "\\end{equation}\n",
    "where $s$ and $c$ are parameters that depend on the language and the text. If you take the logarithm of both sides of this equation, you get:\n",
    "\\begin{equation}\n",
    "\\log{f}=\\log{c}-s\\log{r}\n",
    "\\end{equation}\n",
    "\n",
    "So if you plot $\\log{f}$ versus $\\log{r}$, you should get a straight line with slope $−s$ and intercept $\\log{c}$.\n",
    "\n",
    "Write a program that reads a text from a file, counts word frequencies. Determine $c$ and $s experimentally for texts in different languages.\n",
    "\n",
    "For the linear regression you can use the following:\n",
    "```Julia\n",
    "\"\"\"Simple linear regression implementation\"\"\"\n",
    "function linreg(x, y) \n",
    "    hcat(fill!(similar(x), 1), x) \\ y\n",
    "end\n",
    "```\n",
    "Try your application for several texts: \"3mousquetaires.txt\", \"Dracula.txt\", \"deoogst.txt\""
   ]
  },
  {
   "cell_type": "code",
   "execution_count": null,
   "metadata": {},
   "outputs": [],
   "source": []
  },
  {
   "cell_type": "markdown",
   "metadata": {},
   "source": [
    "### Markov analysis\n",
    "Write a program that reads a file, breaks each line into words, strips whitespace and punctuation from the words, and converts them to lowercase. (If) Hint: the function `isletter` tests whether a character is alphabetic.\n",
    "\n",
    "\n",
    "A series of random words seldom makes sense because there is no relationship between successive words. For example, in a real sentence you would expect an article like “the” to be followed by an adjective or a noun, and probably not a verb or adverb.\n",
    "\n",
    "One way to measure these kinds of relationships is Markov analysis, which characterizes, for a given sequence of words, the probability of the words that might come next. For example, the song Eric, the Half a Bee begins:\n",
    "\n",
    "```\n",
    "Half a bee, philosophically,\n",
    "Must, ipso facto, half not be.\n",
    "But half the bee has got to be\n",
    "Vis a vis, its entity. D’you see?\n",
    "\n",
    "But can a bee be said to be\n",
    "Or not to be an entire bee\n",
    "When half the bee is not a bee\n",
    "Due to some ancient injury?\n",
    "```\n",
    "\n",
    "In this text, the phrase “half the” is always followed by the word “bee”, but the phrase “the bee” might be followed by either “has” or “is”.\n",
    "\n",
    "The result of Markov analysis is a mapping from each prefix (like “half the” and “the bee”) to all possible suffixes (like “has” and “is”). suffix)\n",
    "\n",
    "Given this mapping, you can generate a random text by starting with any prefix and choosing at random from the possible suffixes. Next, you can combine the end of the prefix and the new suffix to form the next prefix, and repeat.\n",
    "\n",
    "For example, if you start with the prefix “Half a”, then the next word has to be “bee”, because the prefix only appears once in the text. The next prefix is “a bee”, so the next suffix might be “philosophically”, “be” or “due”."
   ]
  },
  {
   "cell_type": "code",
   "execution_count": null,
   "metadata": {},
   "outputs": [],
   "source": []
  }
 ],
 "metadata": {
  "kernelspec": {
   "display_name": "Julia 1.0.0",
   "language": "julia",
   "name": "julia-1.0"
  },
  "language_info": {
   "file_extension": ".jl",
   "mimetype": "application/julia",
   "name": "julia",
   "version": "1.0.0"
  }
 },
 "nbformat": 4,
 "nbformat_minor": 2
}
